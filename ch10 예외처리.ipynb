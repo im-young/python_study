{
 "cells": [
  {
   "cell_type": "code",
   "execution_count": 1,
   "id": "1b0e9ca0",
   "metadata": {},
   "outputs": [
    {
     "name": "stdout",
     "output_type": "stream",
     "text": [
      "start\n"
     ]
    },
    {
     "ename": "ZeroDivisionError",
     "evalue": "division by zero",
     "output_type": "error",
     "traceback": [
      "\u001b[1;31m---------------------------------------------------------------------------\u001b[0m",
      "\u001b[1;31mZeroDivisionError\u001b[0m                         Traceback (most recent call last)",
      "Input \u001b[1;32mIn [1]\u001b[0m, in \u001b[0;36m<cell line: 2>\u001b[1;34m()\u001b[0m\n\u001b[0;32m      1\u001b[0m \u001b[38;5;28mprint\u001b[39m(\u001b[38;5;124m'\u001b[39m\u001b[38;5;124mstart\u001b[39m\u001b[38;5;124m'\u001b[39m)\n\u001b[1;32m----> 2\u001b[0m \u001b[38;5;241;43m4\u001b[39;49m\u001b[38;5;241;43m/\u001b[39;49m\u001b[38;5;241;43m0\u001b[39;49m\n\u001b[0;32m      3\u001b[0m \u001b[38;5;28mprint\u001b[39m(\u001b[38;5;124m'\u001b[39m\u001b[38;5;124mend\u001b[39m\u001b[38;5;124m'\u001b[39m)\n",
      "\u001b[1;31mZeroDivisionError\u001b[0m: division by zero"
     ]
    }
   ],
   "source": [
    "print('start')\n",
    "4/0\n",
    "print('end')\n",
    "#ZeroDivisionError : 0으로 나누어져 있어서 에러가남"
   ]
  },
  {
   "cell_type": "code",
   "execution_count": 2,
   "id": "dc129ce9",
   "metadata": {},
   "outputs": [
    {
     "name": "stdout",
     "output_type": "stream",
     "text": [
      "start\n",
      "division by zero\n",
      "end\n"
     ]
    }
   ],
   "source": [
    "#2 대안점의 해결(예외가 발생해도 끝까지 문제를 처리함)\n",
    "print('start')\n",
    "\n",
    "try: \n",
    "    4/0\n",
    "    \n",
    "except ZeroDivisionError as e:#Zero~ 대신 Exception 넣어도 가능\n",
    "    #print(e)\n",
    "    print('바보 0으로 나눴잖아')\n",
    "\n",
    "print('end')"
   ]
  },
  {
   "cell_type": "code",
   "execution_count": 3,
   "id": "98f5417c",
   "metadata": {},
   "outputs": [
    {
     "name": "stdout",
     "output_type": "stream",
     "text": [
      "start\n",
      "바보 0으로 나눴잖아\n",
      "end\n"
     ]
    }
   ],
   "source": [
    "#3 대안점의 해결(예외가 발생해도 끝까지 문제를 처리함)\n",
    "print('start')\n",
    "\n",
    "try: \n",
    "    4/0\n",
    "    \n",
    "#except ZeroDivisionError as e:#Zero~ 대신 Exception 넣어도 가능\n",
    "except Exception as e:\n",
    "    #print(e)\n",
    "    print('바보 0으로 나눴잖아')\n",
    "\n",
    "print('end')"
   ]
  },
  {
   "cell_type": "code",
   "execution_count": 3,
   "id": "fbf3f49a",
   "metadata": {},
   "outputs": [
    {
     "name": "stdout",
     "output_type": "stream",
     "text": [
      "종료하려면 q를 입력하세요.\n",
      "\n",
      " 분자 = 2\n",
      "분모 = 3\n",
      "2/3 = 0.6666666666666666\n",
      "\n",
      " 분자 = 4\n",
      "분모 = 6\n",
      "4/6 = 0.6666666666666666\n",
      "\n",
      " 분자 = q\n",
      "프로그램 종료\n"
     ]
    }
   ],
   "source": [
    "print('종료하려면 q를 입력하세요.')\n",
    "\n",
    "while True:\n",
    "    num1 = input('\\n 분자 = ')\n",
    "    if num1 == 'q':\n",
    "        break\n",
    "    num2 = input(\"분모 = \")\n",
    "    \n",
    "    result = int(num1 )/ int(num2)  # 각각 캐스팅 해야함. 숫자로만 나눌수 있어서\n",
    "    print('{0}/{1} = {2}'.format(num1,num2, result))\n",
    "\n",
    "print('프로그램 종료')"
   ]
  },
  {
   "cell_type": "code",
   "execution_count": 6,
   "id": "537cfa02",
   "metadata": {},
   "outputs": [
    {
     "name": "stdout",
     "output_type": "stream",
     "text": [
      "종료하려면 q를 입력하세요.\n",
      "\n",
      " 분자 = 2\n",
      "분모 = 3\n",
      "2/3 = 0.6666666666666666\n",
      "\n",
      " 분자 = ㅁ\n",
      "분모 = 5\n",
      "분자 입력 미스\n",
      "에러메세지 invalid literal for int() with base 10: 'ㅁ'\n",
      "\n",
      " 분자 = 4\n",
      "분모 = 0\n",
      "분모에는 0을 입력할 수 없습니다.\n",
      "에러메세지 division by zero\n",
      "\n",
      " 분자 = q\n",
      "프로그램 종료\n"
     ]
    }
   ],
   "source": [
    "#2\n",
    "print('종료하려면 q를 입력하세요.')\n",
    "\n",
    "while True:\n",
    "    num1 = input('\\n 분자 = ')\n",
    "    if num1 == 'q':\n",
    "        break\n",
    "    num2 = input(\"분모 = \")\n",
    "    \n",
    "    result = 0 \n",
    "    #지금은 상관없지만 try 안의 print가 try 밖으로 나가면 정의되어있지 않아 실행안된다고 뜸\n",
    "    try :\n",
    "        \n",
    "        result = int(num1 )/ int(num2)  # 각각 캐스팅 해야함. 숫자로만 나눌수 있어서\n",
    "        print('{0}/{1} = {2}'.format(num1,num2, result))\n",
    "    except ZeroDivisionError      as e : \n",
    "        print('분모에는 0을 입력할 수 없습니다.')\n",
    "        print('에러메세지',e)\n",
    "    except ValueError as e:\n",
    "        print('분자 입력 미스')\n",
    "        print('에러메세지',e)\n",
    "    \n",
    "print('프로그램 종료')"
   ]
  },
  {
   "cell_type": "code",
   "execution_count": 7,
   "id": "a9f716f8",
   "metadata": {},
   "outputs": [
    {
     "name": "stdout",
     "output_type": "stream",
     "text": [
      "0입력금지\n",
      "10.0\n",
      "5.0\n",
      "3.3333333333333335\n",
      "2.5\n",
      "2.0\n",
      "1.6666666666666667\n",
      "1.4285714285714286\n",
      "1.25\n",
      "1.1111111111111112\n"
     ]
    }
   ],
   "source": [
    "# try ~ except ~ else 문\n",
    "\n",
    "for i in range(10):\n",
    "    try:\n",
    "        result = 10 / i\n",
    "    except ZeroDivisionError:\n",
    "        print('0입력금지')\n",
    "    else:\n",
    "        print(result)\n",
    "        \n",
    "    "
   ]
  },
  {
   "cell_type": "code",
   "execution_count": 10,
   "id": "95b7a002",
   "metadata": {},
   "outputs": [
    {
     "name": "stdout",
     "output_type": "stream",
     "text": [
      "0입력금지\n",
      "프로그램을 종료합니다.\n"
     ]
    }
   ],
   "source": [
    "#try ~ except ~ finally\n",
    "try: # for 밖에 있어서 0때문에  바로 except로 넘어감\n",
    "    for i in range(10):\n",
    "        \n",
    "        result = 10 / i\n",
    "        print(result)\n",
    "except ZeroDivisionError:\n",
    "        print('0입력금지')\n",
    "finally:\n",
    "        print('프로그램을 종료합니다.')\n"
   ]
  },
  {
   "cell_type": "code",
   "execution_count": 12,
   "id": "d1b6cc53",
   "metadata": {},
   "outputs": [
    {
     "name": "stdout",
     "output_type": "stream",
     "text": [
      "10\n",
      "5\n",
      "3\n",
      "2\n",
      "2\n",
      "1\n",
      "1\n",
      "1\n",
      "1\n",
      "프로그램을 종료합니다.\n"
     ]
    }
   ],
   "source": [
    "#2\n",
    "#try ~ except ~ finally\n",
    "try: # for 밖에 있어서 0때문에  바로 except로 넘어감\n",
    "    for i in range(1,10):\n",
    "        \n",
    "        result = 10 // i\n",
    "        print(result)\n",
    "except ZeroDivisionError:\n",
    "        print('0입력금지')\n",
    "finally:\n",
    "        print('프로그램을 종료합니다.')\n"
   ]
  },
  {
   "cell_type": "code",
   "execution_count": 14,
   "id": "15e0deb0",
   "metadata": {},
   "outputs": [
    {
     "name": "stdout",
     "output_type": "stream",
     "text": [
      "숫자 =10\n",
      "정수값으로 변환된 결과 :  10\n",
      "숫자 =rs\n"
     ]
    },
    {
     "ename": "ValueError",
     "evalue": "숫자로 변환할 수 없습니다.",
     "output_type": "error",
     "traceback": [
      "\u001b[1;31m---------------------------------------------------------------------------\u001b[0m",
      "\u001b[1;31mValueError\u001b[0m                                Traceback (most recent call last)",
      "Input \u001b[1;32mIn [14]\u001b[0m, in \u001b[0;36m<cell line: 5>\u001b[1;34m()\u001b[0m\n\u001b[0;32m      6\u001b[0m \u001b[38;5;28;01mfor\u001b[39;00m digit \u001b[38;5;129;01min\u001b[39;00m value:\n\u001b[0;32m      7\u001b[0m     \u001b[38;5;28;01mif\u001b[39;00m digit \u001b[38;5;129;01mnot\u001b[39;00m \u001b[38;5;129;01min\u001b[39;00m \u001b[38;5;124m'\u001b[39m\u001b[38;5;124m01233456789\u001b[39m\u001b[38;5;124m'\u001b[39m:\n\u001b[1;32m----> 8\u001b[0m         \u001b[38;5;28;01mraise\u001b[39;00m \u001b[38;5;167;01mValueError\u001b[39;00m(\u001b[38;5;124m'\u001b[39m\u001b[38;5;124m숫자로 변환할 수 없습니다.\u001b[39m\u001b[38;5;124m'\u001b[39m)\n\u001b[0;32m      9\u001b[0m \u001b[38;5;28mprint\u001b[39m(\u001b[38;5;124m'\u001b[39m\u001b[38;5;124m정수값으로 변환된 결과 : \u001b[39m\u001b[38;5;124m'\u001b[39m, \u001b[38;5;28mint\u001b[39m(value))\n",
      "\u001b[1;31mValueError\u001b[0m: 숫자로 변환할 수 없습니다."
     ]
    }
   ],
   "source": [
    "#throws : 강제로 개발자가 에러를 발생시키는 것(자바)\n",
    "#raise 문 : 예외를 발생시키는 문\n",
    "\n",
    "while 1:\n",
    "    value = input('숫자 =')\n",
    "    for digit in value:\n",
    "        if digit not in '01233456789':\n",
    "            raise ValueError('숫자로 변환할 수 없습니다.')\n",
    "    print('정수값으로 변환된 결과 : ', int(value))\n"
   ]
  },
  {
   "cell_type": "code",
   "execution_count": 15,
   "id": "647e6be5",
   "metadata": {},
   "outputs": [
    {
     "ename": "FileNotFoundError",
     "evalue": "[Errno 2] No such file or directory: 'saple.txt'",
     "output_type": "error",
     "traceback": [
      "\u001b[1;31m---------------------------------------------------------------------------\u001b[0m",
      "\u001b[1;31mFileNotFoundError\u001b[0m                         Traceback (most recent call last)",
      "Input \u001b[1;32mIn [15]\u001b[0m, in \u001b[0;36m<cell line: 1>\u001b[1;34m()\u001b[0m\n\u001b[1;32m----> 1\u001b[0m f \u001b[38;5;241m=\u001b[39m \u001b[38;5;28;43mopen\u001b[39;49m\u001b[43m(\u001b[49m\u001b[38;5;124;43m'\u001b[39;49m\u001b[38;5;124;43msaple.txt\u001b[39;49m\u001b[38;5;124;43m'\u001b[39;49m\u001b[43m,\u001b[49m\u001b[43m \u001b[49m\u001b[38;5;124;43m'\u001b[39;49m\u001b[38;5;124;43mr\u001b[39;49m\u001b[38;5;124;43m'\u001b[39;49m\u001b[43m)\u001b[49m\n\u001b[0;32m      3\u001b[0m \u001b[38;5;28;01mwhile\u001b[39;00m \u001b[38;5;241m1\u001b[39m:\n\u001b[0;32m      4\u001b[0m     line \u001b[38;5;241m=\u001b[39m f\u001b[38;5;241m.\u001b[39mreadline()\n",
      "\u001b[1;31mFileNotFoundError\u001b[0m: [Errno 2] No such file or directory: 'saple.txt'"
     ]
    }
   ],
   "source": [
    "f = open('saple.txt', 'r')\n",
    "\n",
    "while 1:\n",
    "    line = f.readline()\n",
    "    if not line : break\n",
    "    print(line, end='')\n",
    "f.close()\n",
    "\n",
    "# 에러남 / 읽어올 파일이 존재하지 않아서"
   ]
  },
  {
   "cell_type": "code",
   "execution_count": 16,
   "id": "02d39a0d",
   "metadata": {},
   "outputs": [
    {
     "name": "stdout",
     "output_type": "stream",
     "text": [
      "[Errno 2] No such file or directory: 'saple.txt'\n"
     ]
    }
   ],
   "source": [
    "try:\n",
    "    f = open('saple.txt', 'r')\n",
    "except FileNotFoundError as e:\n",
    "    print(e)\n",
    "else:\n",
    "\n",
    "    while 1:\n",
    "        line = f.readline()\n",
    "        if not line : break\n",
    "        print(line, end='')\n",
    "    f.close()"
   ]
  },
  {
   "cell_type": "code",
   "execution_count": null,
   "id": "eb0c92e3",
   "metadata": {},
   "outputs": [],
   "source": []
  }
 ],
 "metadata": {
  "kernelspec": {
   "display_name": "Python 3 (ipykernel)",
   "language": "python",
   "name": "python3"
  },
  "language_info": {
   "codemirror_mode": {
    "name": "ipython",
    "version": 3
   },
   "file_extension": ".py",
   "mimetype": "text/x-python",
   "name": "python",
   "nbconvert_exporter": "python",
   "pygments_lexer": "ipython3",
   "version": "3.9.12"
  },
  "toc": {
   "base_numbering": 1,
   "nav_menu": {},
   "number_sections": true,
   "sideBar": true,
   "skip_h1_title": false,
   "title_cell": "Table of Contents",
   "title_sidebar": "Contents",
   "toc_cell": false,
   "toc_position": {},
   "toc_section_display": true,
   "toc_window_display": false
  }
 },
 "nbformat": 4,
 "nbformat_minor": 5
}
