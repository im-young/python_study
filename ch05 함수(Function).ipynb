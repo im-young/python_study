{
 "cells": [
  {
   "cell_type": "code",
   "execution_count": 2,
   "id": "8057b659",
   "metadata": {},
   "outputs": [
    {
     "name": "stdout",
     "output_type": "stream",
     "text": [
      "Hello Python\n"
     ]
    }
   ],
   "source": [
    "print(\"Hello Python\") # 내장함수\n"
   ]
  },
  {
   "cell_type": "code",
   "execution_count": 3,
   "id": "4671ee83",
   "metadata": {},
   "outputs": [
    {
     "name": "stdout",
     "output_type": "stream",
     "text": [
      "30\n"
     ]
    }
   ],
   "source": [
    "a = 10\n",
    "b = 20\n",
    "print(a + b)"
   ]
  },
  {
   "cell_type": "code",
   "execution_count": 4,
   "id": "dd7ae66a",
   "metadata": {},
   "outputs": [
    {
     "name": "stdout",
     "output_type": "stream",
     "text": [
      "su = 5\n",
      "su = 3\n",
      "8\n"
     ]
    }
   ],
   "source": [
    "a = int(input(\"su = \"))\n",
    "b = int(input(\"su = \"))\n",
    "print(a + b)"
   ]
  },
  {
   "cell_type": "code",
   "execution_count": 6,
   "id": "07dedd3d",
   "metadata": {},
   "outputs": [],
   "source": [
    "def adder (x, y) : \n",
    "    return x+y\n"
   ]
  },
  {
   "cell_type": "code",
   "execution_count": 7,
   "id": "bb3e0f69",
   "metadata": {},
   "outputs": [
    {
     "data": {
      "text/plain": [
       "30"
      ]
     },
     "execution_count": 7,
     "metadata": {},
     "output_type": "execute_result"
    }
   ],
   "source": [
    "# 호출 : call By name(이름을 가지고 호출한다), call By value( 매개 변수를 가지고 호출한다)\n",
    "adder(10,20)"
   ]
  },
  {
   "cell_type": "code",
   "execution_count": 8,
   "id": "9e78a894",
   "metadata": {},
   "outputs": [
    {
     "ename": "SyntaxError",
     "evalue": "invalid syntax (2597159535.py, line 1)",
     "output_type": "error",
     "traceback": [
      "\u001b[1;36m  Input \u001b[1;32mIn [8]\u001b[1;36m\u001b[0m\n\u001b[1;33m    def process(x, y, z)\u001b[0m\n\u001b[1;37m                        ^\u001b[0m\n\u001b[1;31mSyntaxError\u001b[0m\u001b[1;31m:\u001b[0m invalid syntax\n"
     ]
    }
   ],
   "source": [
    "def process(x, y, z)\n",
    "    pass "
   ]
  },
  {
   "cell_type": "code",
   "execution_count": 10,
   "id": "e0b4e3ad",
   "metadata": {},
   "outputs": [],
   "source": [
    "def test():\n",
    "    return 1, 2, 3, 4, 5 # (1, 2, 3, 4, 5) 기본이 튜플 형식으로 저장\n",
    "    "
   ]
  },
  {
   "cell_type": "code",
   "execution_count": 11,
   "id": "2002efb6",
   "metadata": {},
   "outputs": [
    {
     "data": {
      "text/plain": [
       "(1, 2, 3, 4, 5)"
      ]
     },
     "execution_count": 11,
     "metadata": {},
     "output_type": "execute_result"
    }
   ],
   "source": [
    "test()"
   ]
  },
  {
   "cell_type": "markdown",
   "id": "a8e22f8a",
   "metadata": {},
   "source": [
    "# 내장함수"
   ]
  },
  {
   "cell_type": "code",
   "execution_count": 12,
   "id": "217e9f5e",
   "metadata": {},
   "outputs": [
    {
     "name": "stdout",
     "output_type": "stream",
     "text": [
      "3\n",
      "3\n"
     ]
    }
   ],
   "source": [
    "# 절대값\n",
    "print(abs(-3))\n",
    "print(abs(3))\n"
   ]
  },
  {
   "cell_type": "code",
   "execution_count": 13,
   "id": "17fbcca7",
   "metadata": {},
   "outputs": [
    {
     "name": "stdout",
     "output_type": "stream",
     "text": [
      "True\n",
      "False\n"
     ]
    }
   ],
   "source": [
    "# all()- 모든 값이 True인지 검사하는 함수 (= and)\n",
    "# 0과 1 (0이 아닌 수는 모두 참으로 간주)\n",
    "print(all( [ 1,2,3]))\n",
    "print(all( [ 1,2,3,0]))"
   ]
  },
  {
   "cell_type": "code",
   "execution_count": 14,
   "id": "651d3f50",
   "metadata": {},
   "outputs": [
    {
     "name": "stdout",
     "output_type": "stream",
     "text": [
      "True\n",
      "False\n",
      "False\n"
     ]
    }
   ],
   "source": [
    "# any() -한개라도 True이면 True (=or)\n",
    "print(all( [ 1,2,3]))\n",
    "print(all( [ 1,2,3,0]))\n",
    "print(all( [ 0,0,0,0,0]))"
   ]
  },
  {
   "cell_type": "code",
   "execution_count": null,
   "id": "b297f00a",
   "metadata": {},
   "outputs": [],
   "source": [
    "# 문자열일 경우 빈값이면 false, 값이 있으면 True\n",
    "a = \"hello\"\n",
    "\n",
    "if a : \n",
    "    print(\"True\")\n",
    "else:\n",
    "    print(\"False\")"
   ]
  },
  {
   "cell_type": "code",
   "execution_count": 15,
   "id": "1cc1a6fb",
   "metadata": {},
   "outputs": [
    {
     "name": "stdout",
     "output_type": "stream",
     "text": [
      "False\n"
     ]
    }
   ],
   "source": [
    "a = \"\"\n",
    "\n",
    "if a : \n",
    "    print(\"True\")\n",
    "else:\n",
    "    print(\"False\")"
   ]
  },
  {
   "cell_type": "code",
   "execution_count": 16,
   "id": "b46a61fb",
   "metadata": {},
   "outputs": [
    {
     "name": "stdout",
     "output_type": "stream",
     "text": [
      "['__add__', '__class__', '__class_getitem__', '__contains__', '__delattr__', '__delitem__', '__dir__', '__doc__', '__eq__', '__format__', '__ge__', '__getattribute__', '__getitem__', '__gt__', '__hash__', '__iadd__', '__imul__', '__init__', '__init_subclass__', '__iter__', '__le__', '__len__', '__lt__', '__mul__', '__ne__', '__new__', '__reduce__', '__reduce_ex__', '__repr__', '__reversed__', '__rmul__', '__setattr__', '__setitem__', '__sizeof__', '__str__', '__subclasshook__', 'append', 'clear', 'copy', 'count', 'extend', 'index', 'insert', 'pop', 'remove', 'reverse', 'sort']\n"
     ]
    }
   ],
   "source": [
    "#dir : 객체 목록을 보는 내장함수\n",
    "print(dir([1, 2, 3])) #객체의 멤버 목록(변수 나 함수)// [](리스트 ) 에 서 사용되는 변수, 함수를 다 보여달라\n",
    "="
   ]
  },
  {
   "cell_type": "code",
   "execution_count": 17,
   "id": "fe8a7d0c",
   "metadata": {},
   "outputs": [
    {
     "name": "stdout",
     "output_type": "stream",
     "text": [
      "['__class__', '__class_getitem__', '__contains__', '__delattr__', '__delitem__', '__dir__', '__doc__', '__eq__', '__format__', '__ge__', '__getattribute__', '__getitem__', '__gt__', '__hash__', '__init__', '__init_subclass__', '__ior__', '__iter__', '__le__', '__len__', '__lt__', '__ne__', '__new__', '__or__', '__reduce__', '__reduce_ex__', '__repr__', '__reversed__', '__ror__', '__setattr__', '__setitem__', '__sizeof__', '__str__', '__subclasshook__', 'clear', 'copy', 'fromkeys', 'get', 'items', 'keys', 'pop', 'popitem', 'setdefault', 'update', 'values']\n"
     ]
    }
   ],
   "source": [
    "print(dir({'name' : '홍길동'})) //# 사전이 갖고있는 객체의 목록을 보여달라"
   ]
  },
  {
   "cell_type": "code",
   "execution_count": 48,
   "id": "819a41c3",
   "metadata": {},
   "outputs": [
    {
     "name": "stdout",
     "output_type": "stream",
     "text": [
      "몫 : 2, 나머지 : 1\n"
     ]
    }
   ],
   "source": [
    "a = 7\n",
    "b = 3\n",
    "c = a // b #정수 몫\n",
    "d = a % b # 나머지\n",
    "print(\"몫 : {}, 나머지 : {}\".format(c, d))\n"
   ]
  },
  {
   "cell_type": "code",
   "execution_count": 20,
   "id": "966fffe1",
   "metadata": {},
   "outputs": [
    {
     "name": "stdout",
     "output_type": "stream",
     "text": [
      "(2, 1)\n",
      "(6.0, 0.09999999999999998)\n"
     ]
    }
   ],
   "source": [
    "print(divmod(7, 3))\n",
    "print(divmod(1.3, 0.2))\n",
    "#divmod : 몫과 나머지 출출하는 함수"
   ]
  },
  {
   "cell_type": "code",
   "execution_count": 49,
   "id": "5bcf9322",
   "metadata": {},
   "outputs": [
    {
     "name": "stdout",
     "output_type": "stream",
     "text": [
      "몫 : 2, 나머지 1\n"
     ]
    }
   ],
   "source": [
    "n1, n2 = divmod(7,3)\n",
    "print(\"몫 : {}, 나머지 {}\".format(n1, n2))"
   ]
  },
  {
   "cell_type": "code",
   "execution_count": 24,
   "id": "1ebbd430",
   "metadata": {},
   "outputs": [
    {
     "name": "stdout",
     "output_type": "stream",
     "text": [
      "<enumerate object at 0x000001C87987A500>\n"
     ]
    }
   ],
   "source": [
    "# 인덱스와 값을 리턴하는 함수 : enumerate()// 인덱스와 값을 같이 보여주는 함수\n",
    "print(enumerate([10, 20, 30, 40, 50]))"
   ]
  },
  {
   "cell_type": "code",
   "execution_count": 25,
   "id": "ba6438c2",
   "metadata": {},
   "outputs": [
    {
     "name": "stdout",
     "output_type": "stream",
     "text": [
      "[(0, 10), (1, 20), (2, 30), (3, 40), (4, 50)]\n"
     ]
    }
   ],
   "source": [
    "print(list(enumerate([10, 20, 30, 40, 50]))) # 리스트에 담야아 이렇게 보여준다"
   ]
  },
  {
   "cell_type": "code",
   "execution_count": 28,
   "id": "3424069d",
   "metadata": {},
   "outputs": [
    {
     "name": "stdout",
     "output_type": "stream",
     "text": [
      "0 10\n",
      "1 20\n",
      "2 30\n",
      "3 40\n",
      "4 50\n"
     ]
    }
   ],
   "source": [
    "for index,  value in enumerate([10, 20, 30, 40, 50]):\n",
    "    print(index, value)"
   ]
  },
  {
   "cell_type": "code",
   "execution_count": 30,
   "id": "accac354",
   "metadata": {},
   "outputs": [
    {
     "name": "stdout",
     "output_type": "stream",
     "text": [
      "number = 2\n",
      "9\n"
     ]
    }
   ],
   "source": [
    "# eval( ) : 문자열의 따옴표를 제거하고 실행하는 함수 / \" \" 안에 수가 들어가면 문자로 인식하지만 eval 적용되면 \" \"에 들어간 게 숫자면 숫자로 인식, 식이면 식으로, 함수면 함수로 인식함\n",
    "\n",
    "num = eval(input(\"number = \"))\n",
    "\n",
    "print(num + 7)\n",
    "# int( )랑 비슷"
   ]
  },
  {
   "cell_type": "code",
   "execution_count": 47,
   "id": "85ab5c74",
   "metadata": {},
   "outputs": [
    {
     "ename": "ValueError",
     "evalue": "invalid literal for int() with base 10: 'divmod(7, 3)'",
     "output_type": "error",
     "traceback": [
      "\u001b[1;31m---------------------------------------------------------------------------\u001b[0m",
      "\u001b[1;31mValueError\u001b[0m                                Traceback (most recent call last)",
      "Input \u001b[1;32mIn [47]\u001b[0m, in \u001b[0;36m<cell line: 2>\u001b[1;34m()\u001b[0m\n\u001b[0;32m      1\u001b[0m \u001b[38;5;28mstr\u001b[39m \u001b[38;5;241m=\u001b[39m \u001b[38;5;124m'\u001b[39m\u001b[38;5;124mdivmod(7, 3)\u001b[39m\u001b[38;5;124m'\u001b[39m\n\u001b[1;32m----> 2\u001b[0m \u001b[38;5;28mprint\u001b[39m(\u001b[38;5;28;43mint\u001b[39;49m\u001b[43m(\u001b[49m\u001b[38;5;28;43mstr\u001b[39;49m\u001b[43m)\u001b[49m)\n",
      "\u001b[1;31mValueError\u001b[0m: invalid literal for int() with base 10: 'divmod(7, 3)'"
     ]
    }
   ],
   "source": [
    "str = 'divmod(7, 3)'\n",
    "print(int(str)) # 에러남"
   ]
  },
  {
   "cell_type": "code",
   "execution_count": 33,
   "id": "4a38cd71",
   "metadata": {},
   "outputs": [
    {
     "name": "stdout",
     "output_type": "stream",
     "text": [
      "(2, 1)\n"
     ]
    }
   ],
   "source": [
    "str = 'divmod(7, 3)'\n",
    "print(eval(str))"
   ]
  },
  {
   "cell_type": "code",
   "execution_count": 34,
   "id": "22395341",
   "metadata": {},
   "outputs": [
    {
     "name": "stdout",
     "output_type": "stream",
     "text": [
      "0xea\n"
     ]
    }
   ],
   "source": [
    "# hex() 16진수로 나타내라\n",
    "print(hex(234)) #234는 10진수"
   ]
  },
  {
   "cell_type": "code",
   "execution_count": 35,
   "id": "2e4ddfca",
   "metadata": {},
   "outputs": [
    {
     "name": "stdout",
     "output_type": "stream",
     "text": [
      "0x3\n"
     ]
    }
   ],
   "source": [
    "print(hex(3))"
   ]
  },
  {
   "cell_type": "code",
   "execution_count": 38,
   "id": "efb05392",
   "metadata": {},
   "outputs": [
    {
     "name": "stdout",
     "output_type": "stream",
     "text": [
      "1960429513072\n",
      "1960429513072\n"
     ]
    }
   ],
   "source": [
    "#id(객체) - 객체의 주소를 리턴하는 함수\n",
    "a = 3\n",
    "print(id (a)),id(3)\n",
    "b = a\n",
    "print(id (b))"
   ]
  },
  {
   "cell_type": "code",
   "execution_count": 39,
   "id": "9803cead",
   "metadata": {},
   "outputs": [
    {
     "name": "stdout",
     "output_type": "stream",
     "text": [
      "2\n",
      "2\n"
     ]
    }
   ],
   "source": [
    "a = input()\n",
    "print (a)\n"
   ]
  },
  {
   "cell_type": "code",
   "execution_count": 45,
   "id": "0c0ad373",
   "metadata": {},
   "outputs": [
    {
     "name": "stdout",
     "output_type": "stream",
     "text": [
      "입력 =3\n"
     ]
    },
    {
     "data": {
      "text/plain": [
       "<function print>"
      ]
     },
     "execution_count": 45,
     "metadata": {},
     "output_type": "execute_result"
    }
   ],
   "source": [
    "b = input(\"입력 =\"\n",
    "         )\n",
    "print"
   ]
  },
  {
   "cell_type": "code",
   "execution_count": 46,
   "id": "c172dea1",
   "metadata": {},
   "outputs": [
    {
     "name": "stdout",
     "output_type": "stream",
     "text": [
      "3\n",
      "<class 'int'>\n",
      "3\n",
      "15\n",
      "255\n"
     ]
    }
   ],
   "source": [
    "a = int(\" 3\")# 문자열을 정수형으로 변환하는 함수\n",
    "print(a)\n",
    "print(type(a))\n",
    "\n",
    "b = int(3.4)#실수형을 정수형으로 변환\n",
    "print(b)\n",
    "\n",
    "c = int('1111', 2) #문자열을 2진수로 변환\n",
    "print(c)\n",
    "\n",
    "d = int(\"FF\", 16) # 16진수\n",
    "print(d)"
   ]
  },
  {
   "cell_type": "code",
   "execution_count": 50,
   "id": "1bf7d3fd",
   "metadata": {},
   "outputs": [
    {
     "name": "stdout",
     "output_type": "stream",
     "text": [
      "['사과', '배', '수박', '바나나', '포도']\n"
     ]
    }
   ],
   "source": [
    "a = ['사과','배', '수박', '바나나', '포도']\n",
    "print(a)\n"
   ]
  },
  {
   "cell_type": "code",
   "execution_count": 51,
   "id": "439f05c2",
   "metadata": {},
   "outputs": [
    {
     "name": "stdout",
     "output_type": "stream",
     "text": [
      "사과,배,수박,바나나,포도,\n"
     ]
    }
   ],
   "source": [
    "result = \"\"\n",
    "for i in a :\n",
    "    result += i+\",\" # result = result + (i + \",\") // 리스트였다면 append를 사용\n",
    "print(result)"
   ]
  },
  {
   "cell_type": "code",
   "execution_count": 53,
   "id": "ff6298f5",
   "metadata": {},
   "outputs": [
    {
     "name": "stdout",
     "output_type": "stream",
     "text": [
      "사과,배,수박,바나나,포도\n",
      "사과/배/수박/바나나/포도\n",
      "사과-배-수박-바나나-포도\n",
      "사과\n",
      "배\n",
      "수박\n",
      "바나나\n",
      "포도\n"
     ]
    }
   ],
   "source": [
    "a = ['사과','배', '수박', '바나나', '포도']\n",
    "print(\",\".join(a))\n",
    "print(\"/\".join(a))\n",
    "print(\"-\".join(a))\n",
    "print(\"\\n\".join(a))\n"
   ]
  },
  {
   "cell_type": "code",
   "execution_count": 54,
   "id": "2302abe3",
   "metadata": {},
   "outputs": [
    {
     "name": "stdout",
     "output_type": "stream",
     "text": [
      "6\n"
     ]
    }
   ],
   "source": [
    "# len() 요소의 갯수 추출\n",
    "a = len(\"python\")\n",
    "print(a)"
   ]
  },
  {
   "cell_type": "code",
   "execution_count": 56,
   "id": "82f6c778",
   "metadata": {},
   "outputs": [
    {
     "name": "stdout",
     "output_type": "stream",
     "text": [
      "3\n"
     ]
    }
   ],
   "source": [
    "b = len([1, 2, 3])\n",
    "print(b)"
   ]
  },
  {
   "cell_type": "code",
   "execution_count": 57,
   "id": "3a978abd",
   "metadata": {},
   "outputs": [
    {
     "name": "stdout",
     "output_type": "stream",
     "text": [
      "2\n"
     ]
    }
   ],
   "source": [
    "c = len((1, 'a'))\n",
    "print(c)"
   ]
  },
  {
   "cell_type": "code",
   "execution_count": 58,
   "id": "9fd2b95f",
   "metadata": {},
   "outputs": [
    {
     "name": "stdout",
     "output_type": "stream",
     "text": [
      "['p', 'y', 't', 'h', 'o', 'n']\n",
      "[1, 2, 3]\n"
     ]
    }
   ],
   "source": [
    "#list(), tuple()\n",
    "a = list(\"python\") # 문자열을 리스트로 변환\n",
    "print(a)\n",
    "b = list((1, 2, 3))\n",
    "print(b) # 튜플을 리스트로 변환"
   ]
  },
  {
   "cell_type": "markdown",
   "id": "3f3b22df",
   "metadata": {},
   "source": [
    "# 사용자 정의함수"
   ]
  },
  {
   "cell_type": "code",
   "execution_count": 64,
   "id": "3becb828",
   "metadata": {},
   "outputs": [],
   "source": [
    "def calc(x):\n",
    "    print (\"x = \", x)\n",
    "    return x * 2 "
   ]
  },
  {
   "cell_type": "code",
   "execution_count": 65,
   "id": "86a01110",
   "metadata": {},
   "outputs": [
    {
     "name": "stdout",
     "output_type": "stream",
     "text": [
      "x =  1\n",
      "x =  2\n",
      "x =  3\n",
      "x =  4\n",
      "[2, 4, 6, 8]\n"
     ]
    }
   ],
   "source": [
    "a = [calc(1),calc(2),calc(3),calc(4)]\n",
    "print(a)"
   ]
  },
  {
   "cell_type": "code",
   "execution_count": 66,
   "id": "da9a4726",
   "metadata": {},
   "outputs": [
    {
     "name": "stdout",
     "output_type": "stream",
     "text": [
      "x =  1\n",
      "x =  2\n",
      "x =  3\n",
      "x =  4\n",
      "[2, 4, 6, 8]\n"
     ]
    }
   ],
   "source": [
    "a = [] # 비어있는 리스트 객체 생성\n",
    "\n",
    "for i in[1, 2, 3, 4]:\n",
    "    a.append(calc(i))\n",
    "print(a)"
   ]
  },
  {
   "cell_type": "code",
   "execution_count": 67,
   "id": "fff7070c",
   "metadata": {},
   "outputs": [
    {
     "name": "stdout",
     "output_type": "stream",
     "text": [
      "x =  1\n",
      "x =  2\n",
      "x =  3\n",
      "x =  4\n",
      "[2, 4, 6, 8]\n"
     ]
    }
   ],
   "source": [
    "#map(함수이름, 입력값리스트), 데이터 분석에서 자주 쓴다.\n",
    "a = list(map(calc, [1, 2, 3, 4]))\n",
    "print(a)\n"
   ]
  },
  {
   "cell_type": "code",
   "execution_count": 68,
   "id": "a81b853e",
   "metadata": {},
   "outputs": [
    {
     "name": "stdout",
     "output_type": "stream",
     "text": [
      "이\n",
      "51060\n"
     ]
    }
   ],
   "source": [
    "c = \"이\"\n",
    "print(c)\n",
    "print(ord(c)) #ord(문자) : 문자코드\n"
   ]
  },
  {
   "cell_type": "code",
   "execution_count": 70,
   "id": "378f0050",
   "metadata": {},
   "outputs": [
    {
     "name": "stdout",
     "output_type": "stream",
     "text": [
      "p => 112\n",
      "y => 121\n",
      "t => 116\n",
      "h => 104\n",
      "o => 111\n",
      "n => 110\n"
     ]
    }
   ],
   "source": [
    "a = \"python\"\n",
    "for i in a : \n",
    "    print(\"{0} => {1}\".format(i,ord(i))) # {1}의 결과 값은 컴퓨터 내장된거에 따라 다르게 나오는데 알파벳 순서에따라 커짐"
   ]
  },
  {
   "cell_type": "code",
   "execution_count": 71,
   "id": "80b36767",
   "metadata": {},
   "outputs": [
    {
     "name": "stdout",
     "output_type": "stream",
     "text": [
      "3\n",
      "y\n"
     ]
    }
   ],
   "source": [
    "a = max([1, 2, 3])\n",
    "print(a)\n",
    "\n",
    "b = max(\"python\")\n",
    "print(b)"
   ]
  },
  {
   "cell_type": "code",
   "execution_count": 72,
   "id": "61d59d5c",
   "metadata": {},
   "outputs": [
    {
     "name": "stdout",
     "output_type": "stream",
     "text": [
      "1\n",
      "h\n"
     ]
    }
   ],
   "source": [
    "a = min([1, 2, 3])\n",
    "print(a)\n",
    "\n",
    "b = min(\"python\")\n",
    "print(b)"
   ]
  },
  {
   "cell_type": "code",
   "execution_count": 73,
   "id": "40e2380b",
   "metadata": {},
   "outputs": [
    {
     "name": "stdout",
     "output_type": "stream",
     "text": [
      "16\n",
      "16\n"
     ]
    }
   ],
   "source": [
    "a = pow(2,4)\n",
    "print(a)\n",
    "print(2**4)"
   ]
  },
  {
   "cell_type": "code",
   "execution_count": 74,
   "id": "137252b6",
   "metadata": {},
   "outputs": [],
   "source": [
    "#호출방법 : call by name(이름에 의한 호출)- 매개변수를 갖고 있지 않은 변수를 호출할 때,\n",
    "            #call by value(값에 의해), \n",
    "            #call by refrence(참조_주소에 의한 호출)- 잘 안씀\n",
    "def say(): # 매개변수를 안 갖고 있음\n",
    "    #print(\"안녕하세요\") # 어떤값을 되돌려줄 (return)의 의미가 없음\n",
    "    a = \"안녕하세요\"\n",
    "    return a "
   ]
  },
  {
   "cell_type": "code",
   "execution_count": 75,
   "id": "94ff708b",
   "metadata": {},
   "outputs": [
    {
     "data": {
      "text/plain": [
       "'안녕하세요'"
      ]
     },
     "execution_count": 75,
     "metadata": {},
     "output_type": "execute_result"
    }
   ],
   "source": [
    "#함수 호출 -call by name\n",
    "\n",
    "say()\n"
   ]
  },
  {
   "cell_type": "code",
   "execution_count": 76,
   "id": "b9992e5e",
   "metadata": {},
   "outputs": [
    {
     "data": {
      "text/plain": [
       "'안녕하세요'"
      ]
     },
     "execution_count": 76,
     "metadata": {},
     "output_type": "execute_result"
    }
   ],
   "source": [
    "\"안녕하세요\""
   ]
  },
  {
   "cell_type": "code",
   "execution_count": 78,
   "id": "443db2f4",
   "metadata": {},
   "outputs": [],
   "source": [
    "a = say()"
   ]
  },
  {
   "cell_type": "code",
   "execution_count": 79,
   "id": "b52e42af",
   "metadata": {},
   "outputs": [
    {
     "data": {
      "text/plain": [
       "'안녕하세요'"
      ]
     },
     "execution_count": 79,
     "metadata": {},
     "output_type": "execute_result"
    }
   ],
   "source": [
    "a"
   ]
  },
  {
   "cell_type": "code",
   "execution_count": 82,
   "id": "1ada626f",
   "metadata": {},
   "outputs": [],
   "source": [
    "# 함수 선언 - call by value\n",
    "def hello(name): \n",
    "    string = \"hello, {}\".format(name)\n",
    "    print(string)"
   ]
  },
  {
   "cell_type": "code",
   "execution_count": 83,
   "id": "6a25e656",
   "metadata": {},
   "outputs": [
    {
     "name": "stdout",
     "output_type": "stream",
     "text": [
      "hello, 홍길동\n"
     ]
    }
   ],
   "source": [
    "#함수호출 \n",
    "hello(\"홍길동\")"
   ]
  },
  {
   "cell_type": "code",
   "execution_count": 84,
   "id": "9d76c70a",
   "metadata": {},
   "outputs": [],
   "source": [
    "# 함수 선언 \n",
    "def hello(name): \n",
    "    string = \"hello, {}\".format(name)\n",
    "    return string"
   ]
  },
  {
   "cell_type": "code",
   "execution_count": 85,
   "id": "54d5089f",
   "metadata": {},
   "outputs": [
    {
     "name": "stdout",
     "output_type": "stream",
     "text": [
      "hello, lee\n"
     ]
    }
   ],
   "source": [
    "#- call by value\n",
    "hi= hello(\"lee\")\n",
    "print(hi)"
   ]
  },
  {
   "cell_type": "code",
   "execution_count": 87,
   "id": "cda0b492",
   "metadata": {},
   "outputs": [],
   "source": [
    "# 함수 선언 \n",
    "def hello(name): \n",
    "    #string = \"hello, {}\".format(name)\n",
    "      #print(string)\n",
    "     #return string\n",
    "    return \"hello, {}\".format(name)"
   ]
  },
  {
   "cell_type": "code",
   "execution_count": 88,
   "id": "202e28a6",
   "metadata": {},
   "outputs": [
    {
     "data": {
      "text/plain": [
       "'hello, 장보고'"
      ]
     },
     "execution_count": 88,
     "metadata": {},
     "output_type": "execute_result"
    }
   ],
   "source": [
    "hello(\"장보고\")"
   ]
  },
  {
   "cell_type": "code",
   "execution_count": 89,
   "id": "b49c7376",
   "metadata": {},
   "outputs": [],
   "source": [
    "# 함수 선언 \n",
    "def hello(name): \n",
    "    #string = \"hello, {}\".format(name)\n",
    "      #print(string)\n",
    "     #return string\n",
    "    return \"hello, \" + name"
   ]
  },
  {
   "cell_type": "code",
   "execution_count": 90,
   "id": "7d1df561",
   "metadata": {},
   "outputs": [
    {
     "data": {
      "text/plain": [
       "'hello, 이순신'"
      ]
     },
     "execution_count": 90,
     "metadata": {},
     "output_type": "execute_result"
    }
   ],
   "source": [
    "hello(\"이순신\")"
   ]
  },
  {
   "cell_type": "code",
   "execution_count": 92,
   "id": "a2567f20",
   "metadata": {},
   "outputs": [
    {
     "name": "stdout",
     "output_type": "stream",
     "text": [
      "tot =  15\n"
     ]
    }
   ],
   "source": [
    " #call by refrence(참조_주소에 의한 호출)\n",
    "a = [1, 2, 3, 4, 5]\n",
    "\n",
    "# tot = tot + 1 => tot+=1\n",
    "# tot = tot + 2\n",
    "# tot = tot + 3\n",
    "# tot = tot + 4\n",
    "# tot = tot + 5\n",
    "tot = 0\n",
    "for i in a:\n",
    "    tot += i \n",
    "    \n",
    "print(\"tot = \", tot)"
   ]
  },
  {
   "cell_type": "code",
   "execution_count": 96,
   "id": "dd5e8866",
   "metadata": {},
   "outputs": [],
   "source": [
    "# def hap(date):\n",
    "#     tot = 0\n",
    "#     for i in date:\n",
    "#         tot += i \n",
    "#           tot + i = tot\n",
    "        \n",
    "#     return tot"
   ]
  },
  {
   "cell_type": "code",
   "execution_count": 99,
   "id": "7b6a9d93",
   "metadata": {},
   "outputs": [
    {
     "name": "stdout",
     "output_type": "stream",
     "text": [
      "15\n"
     ]
    }
   ],
   "source": [
    "a = [1, 2, 3, 4, 5]\n",
    "tot = 0\n",
    "for i in a:\n",
    "    tot += i \n",
    "  \n",
    "    \n",
    "print(tot)"
   ]
  },
  {
   "cell_type": "code",
   "execution_count": 97,
   "id": "1646335b",
   "metadata": {},
   "outputs": [
    {
     "ename": "NameError",
     "evalue": "name 'data' is not defined",
     "output_type": "error",
     "traceback": [
      "\u001b[1;31m---------------------------------------------------------------------------\u001b[0m",
      "\u001b[1;31mNameError\u001b[0m                                 Traceback (most recent call last)",
      "Input \u001b[1;32mIn [97]\u001b[0m, in \u001b[0;36m<cell line: 3>\u001b[1;34m()\u001b[0m\n\u001b[0;32m      1\u001b[0m a \u001b[38;5;241m=\u001b[39m [\u001b[38;5;241m1\u001b[39m, \u001b[38;5;241m2\u001b[39m, \u001b[38;5;241m3\u001b[39m, \u001b[38;5;241m4\u001b[39m, \u001b[38;5;241m5\u001b[39m]\n\u001b[1;32m----> 3\u001b[0m tot \u001b[38;5;241m=\u001b[39m \u001b[43mhap\u001b[49m\u001b[43m(\u001b[49m\u001b[43ma\u001b[49m\u001b[43m)\u001b[49m \u001b[38;5;66;03m# 함수호출// a 라는 주소를 가지고 온것\u001b[39;00m\n\u001b[0;32m      5\u001b[0m \u001b[38;5;28mprint\u001b[39m(\u001b[38;5;124m\"\u001b[39m\u001b[38;5;124mtot = \u001b[39m\u001b[38;5;124m\"\u001b[39m, tot)\n",
      "Input \u001b[1;32mIn [96]\u001b[0m, in \u001b[0;36mhap\u001b[1;34m(date)\u001b[0m\n\u001b[0;32m      1\u001b[0m \u001b[38;5;28;01mdef\u001b[39;00m \u001b[38;5;21mhap\u001b[39m(date):\n\u001b[0;32m      2\u001b[0m     tot \u001b[38;5;241m=\u001b[39m \u001b[38;5;241m0\u001b[39m\n\u001b[1;32m----> 3\u001b[0m     \u001b[38;5;28;01mfor\u001b[39;00m i \u001b[38;5;129;01min\u001b[39;00m \u001b[43mdata\u001b[49m:\n\u001b[0;32m      4\u001b[0m         tot \u001b[38;5;241m+\u001b[39m\u001b[38;5;241m=\u001b[39m i \n\u001b[0;32m      6\u001b[0m     \u001b[38;5;28;01mreturn\u001b[39;00m tot\n",
      "\u001b[1;31mNameError\u001b[0m: name 'data' is not defined"
     ]
    }
   ],
   "source": [
    "a = [1, 2, 3, 4, 5]\n",
    "\n",
    "tot = hap(a) # 함수호출// a 라는 주소를 가지고 온것\n",
    "    \n",
    "print(\"tot = \", tot)"
   ]
  },
  {
   "cell_type": "code",
   "execution_count": null,
   "id": "305a6504",
   "metadata": {},
   "outputs": [],
   "source": []
  }
 ],
 "metadata": {
  "kernelspec": {
   "display_name": "Python 3 (ipykernel)",
   "language": "python",
   "name": "python3"
  },
  "language_info": {
   "codemirror_mode": {
    "name": "ipython",
    "version": 3
   },
   "file_extension": ".py",
   "mimetype": "text/x-python",
   "name": "python",
   "nbconvert_exporter": "python",
   "pygments_lexer": "ipython3",
   "version": "3.9.12"
  },
  "toc": {
   "base_numbering": 1,
   "nav_menu": {},
   "number_sections": true,
   "sideBar": true,
   "skip_h1_title": false,
   "title_cell": "Table of Contents",
   "title_sidebar": "Contents",
   "toc_cell": false,
   "toc_position": {},
   "toc_section_display": true,
   "toc_window_display": false
  }
 },
 "nbformat": 4,
 "nbformat_minor": 5
}
