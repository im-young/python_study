{
 "cells": [
  {
   "cell_type": "code",
   "execution_count": 39,
   "id": "785f79af",
   "metadata": {},
   "outputs": [
    {
     "name": "stdout",
     "output_type": "stream",
     "text": [
      "[1, 2, 3, 4, 5]\n",
      "<class 'list'>\n",
      "1\n",
      "2\n",
      "5\n",
      "5\n",
      "a =  [10, 2, 3, 4, 5]\n",
      "10\n",
      "2\n",
      "3\n",
      "4\n",
      "5\n",
      "10\n",
      "2\n",
      "3\n",
      "4\n",
      "5\n",
      "--------------------\n"
     ]
    }
   ],
   "source": [
    "# 리스트 생성\n",
    "a = [1,2,3,4,5]\n",
    "print(a)\n",
    "print(type(a))\n",
    "# 개별요소를 참조 - 인덱스\n",
    "print(a[0]) # 첫번째 요소\n",
    "print(a[1]) # 두번째 요소\n",
    "# 마지막 요소\n",
    "print(a[4])\n",
    "print(a[-1])\n",
    "#리스트 변경가능\n",
    "a[0] = 10\n",
    "print(\"a = \", a)\n",
    "# 개별요소를 줄단위로 출력\n",
    "## 반복\n",
    "print(a[0]) \n",
    "print(a[1])\n",
    "print(a[2]) \n",
    "print(a[3])\n",
    "print(a[4]) \n",
    "\n",
    "# for 개별변수 in 집합변수\n",
    "\n",
    "for i in a:\n",
    "    print(i)\n",
    "print(\"-\" * 20)\n",
    "\n",
    "# for i in a:\n",
    "#     print(a[i]) # 이것도 가능한데 위에거 보다 덜 효율적임/ 자바는 되는데 파이썬은 안됨\n",
    "# => 위에거 실행하면 a[a[0]]으로 파이선은 인식함\n"
   ]
  },
  {
   "cell_type": "code",
   "execution_count": 42,
   "id": "63cc0f33",
   "metadata": {},
   "outputs": [
    {
     "ename": "NameError",
     "evalue": "name 'c' is not defined",
     "output_type": "error",
     "traceback": [
      "\u001b[1;31m---------------------------------------------------------------------------\u001b[0m",
      "\u001b[1;31mNameError\u001b[0m                                 Traceback (most recent call last)",
      "Input \u001b[1;32mIn [42]\u001b[0m, in \u001b[0;36m<cell line: 2>\u001b[1;34m()\u001b[0m\n\u001b[0;32m      1\u001b[0m \u001b[38;5;66;03m# 중첩 리스트 = 이차원 리스트, 이차원 배열\u001b[39;00m\n\u001b[1;32m----> 2\u001b[0m a \u001b[38;5;241m=\u001b[39m [\u001b[38;5;241m1\u001b[39m, \u001b[38;5;241m2\u001b[39m, \u001b[38;5;241m3\u001b[39m, [a, b,\u001b[43mc\u001b[49m]]\n\u001b[0;32m      3\u001b[0m \u001b[38;5;28mprint\u001b[39m(a)\n\u001b[0;32m      4\u001b[0m \u001b[38;5;28mprint\u001b[39m(a[\u001b[38;5;241m3\u001b[39m])\n",
      "\u001b[1;31mNameError\u001b[0m: name 'c' is not defined"
     ]
    }
   ],
   "source": [
    "# 중첩 리스트 = 이차원 리스트, 이차원 배열\n",
    "a = [1, 2, 3, [a, b,c]]\n",
    "print(a)\n",
    "print(a[3])\n",
    "print(a[3][0]) # 리스트는 [행][열]\n",
    "# 에러 : name 'c' is not defined 가 나오는건 ' ' 를 안씌워서 그럼"
   ]
  },
  {
   "cell_type": "code",
   "execution_count": 41,
   "id": "3c0dd847",
   "metadata": {},
   "outputs": [
    {
     "name": "stdout",
     "output_type": "stream",
     "text": [
      "x =  [10, 2, 3, 4, 5]\n",
      "y =  [10, 2, 3, 4, 5]\n"
     ]
    }
   ],
   "source": [
    "#리스트를 저장할 때 값 자체가 아니라 값이 위치한 메모리의 주소로 저장한다(그림참조)\n",
    "\n",
    "x = [1, 2, 3, 4, 5]\n",
    "# 개체복사 \n",
    "y = x\n",
    "y[0] = 10\n",
    "print(\"x = \", x)\n",
    "print(\"y = \", y)\n",
    "# 깊은 복사(주소까지 복사)"
   ]
  },
  {
   "cell_type": "code",
   "execution_count": 8,
   "id": "0c63783b",
   "metadata": {},
   "outputs": [
    {
     "name": "stdout",
     "output_type": "stream",
     "text": [
      "x =  [1, 2, 3, 4, 5]\n",
      "y =  [10, 2, 3, 4, 5]\n"
     ]
    }
   ],
   "source": [
    "x = [1, 2, 3, 4, 5]\n",
    "y = x[:] # 슬라이싱 // 지금은 y 의 값만 갖고 오라는 뜻\n",
    "y[0] = 10\n",
    "print(\"x = \", x)\n",
    "print(\"y = \", y)"
   ]
  },
  {
   "cell_type": "code",
   "execution_count": 9,
   "id": "3f52d512",
   "metadata": {},
   "outputs": [
    {
     "name": "stdout",
     "output_type": "stream",
     "text": [
      "[1, 2]\n"
     ]
    }
   ],
   "source": [
    "x = [1, 2, 3, 4, 5]\n",
    "print(x[0:2]) # 0, 1 \n"
   ]
  },
  {
   "cell_type": "code",
   "execution_count": 10,
   "id": "85d37ea8",
   "metadata": {},
   "outputs": [
    {
     "name": "stdout",
     "output_type": "stream",
     "text": [
      "[1, 2, 3, 4, 5]\n"
     ]
    }
   ],
   "source": [
    "print(x[:]) # 인덱스에 아무것도 안담으면 다 갖고 와라"
   ]
  },
  {
   "cell_type": "code",
   "execution_count": 11,
   "id": "38f8cf82",
   "metadata": {},
   "outputs": [
    {
     "name": "stdout",
     "output_type": "stream",
     "text": [
      "[1, 2, 3]\n"
     ]
    }
   ],
   "source": [
    "print(x[:3]) #0번 부터 3번까지"
   ]
  },
  {
   "cell_type": "code",
   "execution_count": 12,
   "id": "876b0004",
   "metadata": {},
   "outputs": [
    {
     "name": "stdout",
     "output_type": "stream",
     "text": [
      "[2, 3, 4, 5]\n"
     ]
    }
   ],
   "source": [
    "print(x[1:]) # 1번쨰부터 마지막까ㅣ"
   ]
  },
  {
   "cell_type": "code",
   "execution_count": 15,
   "id": "6ce2a1f1",
   "metadata": {},
   "outputs": [
    {
     "name": "stdout",
     "output_type": "stream",
     "text": [
      "c =  [1, 2, 3, 5, 6, 7]\n",
      "a =  [1, 2, 3, 5, 6, 7]\n"
     ]
    }
   ],
   "source": [
    "# 리스트 연산 : 더하기 연산 , .extend()(확장한다)\n",
    "a = [1, 2, 3]\n",
    "b = [5, 6, 7]\n",
    "c = a + b # 리스트가 가로로 연결\n",
    "d = a.extend([5, 6, 7]) # 변수가 아니라 리스트 자체가 와야함\n",
    "print(\"c = \", c)\n",
    "# print(\"d = \", d)( none이 나옴)\n",
    "print(\"a = \", a)\n",
    "# a.extend( b) a = a+b라서 non 이 나옴( 별도에 변수에 담는것이 아니다)"
   ]
  },
  {
   "cell_type": "code",
   "execution_count": 18,
   "id": "ba98a6d5",
   "metadata": {},
   "outputs": [
    {
     "name": "stdout",
     "output_type": "stream",
     "text": [
      "hellopython\n",
      "hello python\n"
     ]
    }
   ],
   "source": [
    "#문자열도 시퀀스 자료형\n",
    "# 문자열 + 문자열\n",
    "a =\"hello\" + \"python\"\n",
    "b = \"hello \" + \"python\"\n",
    "\n",
    "print(a)\n",
    "print(b)"
   ]
  },
  {
   "cell_type": "code",
   "execution_count": 4,
   "id": "b6696438",
   "metadata": {},
   "outputs": [
    {
     "name": "stdout",
     "output_type": "stream",
     "text": [
      "[1, 2, 3, 1, 2, 3, 1, 2, 3]\n"
     ]
    }
   ],
   "source": [
    "#리스트 연산 : 곱셈,반복, 리스트 *반복횟수 (리스트*리스트는 여기선 안됨)\n",
    "a = [1, 2, 3,]\n",
    "b = a * 3 \n",
    "print(b)"
   ]
  },
  {
   "cell_type": "code",
   "execution_count": 20,
   "id": "5ad8d264",
   "metadata": {},
   "outputs": [
    {
     "data": {
      "text/plain": [
       "'hellohellohello'"
      ]
     },
     "execution_count": 20,
     "metadata": {},
     "output_type": "execute_result"
    }
   ],
   "source": [
    "\"hello\" * 3\n"
   ]
  },
  {
   "cell_type": "code",
   "execution_count": 5,
   "id": "021a314d",
   "metadata": {},
   "outputs": [
    {
     "data": {
      "text/plain": [
       "[1, 2, 3]"
      ]
     },
     "execution_count": 5,
     "metadata": {},
     "output_type": "execute_result"
    }
   ],
   "source": [
    "a"
   ]
  },
  {
   "cell_type": "code",
   "execution_count": 8,
   "id": "3fb4101f",
   "metadata": {},
   "outputs": [
    {
     "data": {
      "text/plain": [
       "[1, 'a', 'b', 'c']"
      ]
     },
     "execution_count": 8,
     "metadata": {},
     "output_type": "execute_result"
    }
   ],
   "source": [
    "a[1:2] = ['a', 'b', 'c']\n",
    "a"
   ]
  },
  {
   "cell_type": "code",
   "execution_count": 9,
   "id": "199839dd",
   "metadata": {},
   "outputs": [
    {
     "data": {
      "text/plain": [
       "[1]"
      ]
     },
     "execution_count": 9,
     "metadata": {},
     "output_type": "execute_result"
    }
   ],
   "source": [
    "a = [1, 2, 3]\n",
    "a[1:3] = [] #인덱스 1과 2번째 값을 삭제\n",
    "a"
   ]
  },
  {
   "cell_type": "code",
   "execution_count": 13,
   "id": "ac2a7061",
   "metadata": {},
   "outputs": [
    {
     "data": {
      "text/plain": [
       "[1, 3]"
      ]
     },
     "execution_count": 13,
     "metadata": {},
     "output_type": "execute_result"
    }
   ],
   "source": [
    "a = [1, 2, 3]\n",
    "del  a[1] \n",
    "a"
   ]
  },
  {
   "cell_type": "code",
   "execution_count": 15,
   "id": "74408048",
   "metadata": {},
   "outputs": [
    {
     "name": "stdout",
     "output_type": "stream",
     "text": [
      "[1, 2, 3, 4]\n"
     ]
    }
   ],
   "source": [
    "a = [1, 4, 2, 3]\n",
    "a.sort() # 오름차순\n",
    "print(a)"
   ]
  },
  {
   "cell_type": "code",
   "execution_count": 16,
   "id": "db4e6ccf",
   "metadata": {},
   "outputs": [
    {
     "name": "stdout",
     "output_type": "stream",
     "text": [
      "[4, 3, 2, 1]\n"
     ]
    }
   ],
   "source": [
    "a = [1, 4, 2, 3]\n",
    "a.sort()\n",
    "a.reverse() # 뒤집기\n",
    "print(a)"
   ]
  },
  {
   "cell_type": "code",
   "execution_count": 17,
   "id": "0e54ced2",
   "metadata": {},
   "outputs": [
    {
     "name": "stdout",
     "output_type": "stream",
     "text": [
      "[4, 3, 2, 1]\n"
     ]
    }
   ],
   "source": [
    "a = [1, 4, 2, 3]\n",
    "a.sort(reverse = True)\n",
    "print(a)"
   ]
  },
  {
   "cell_type": "code",
   "execution_count": 18,
   "id": "627b67ea",
   "metadata": {},
   "outputs": [
    {
     "data": {
      "text/plain": [
       "['a', 'b', 'c', 'd']"
      ]
     },
     "execution_count": 18,
     "metadata": {},
     "output_type": "execute_result"
    }
   ],
   "source": [
    "a = [ 'a','c','d','b'] # 사전순- 알파벳순으로\n",
    "a.sort()\n",
    "a"
   ]
  },
  {
   "cell_type": "code",
   "execution_count": 19,
   "id": "47500b29",
   "metadata": {},
   "outputs": [
    {
     "name": "stdout",
     "output_type": "stream",
     "text": [
      "2\n"
     ]
    }
   ],
   "source": [
    "a = [1, 2, 3, 4, 5]\n",
    "print(a.index(3)) # 3이라는 값이 몇번째 위치에 있느냐?\n"
   ]
  },
  {
   "cell_type": "code",
   "execution_count": 20,
   "id": "fd4eb379",
   "metadata": {},
   "outputs": [
    {
     "ename": "ValueError",
     "evalue": "'h' is not in list",
     "output_type": "error",
     "traceback": [
      "\u001b[1;31m---------------------------------------------------------------------------\u001b[0m",
      "\u001b[1;31mValueError\u001b[0m                                Traceback (most recent call last)",
      "Input \u001b[1;32mIn [20]\u001b[0m, in \u001b[0;36m<cell line: 2>\u001b[1;34m()\u001b[0m\n\u001b[0;32m      1\u001b[0m b \u001b[38;5;241m=\u001b[39m [\u001b[38;5;124m'\u001b[39m\u001b[38;5;124ma\u001b[39m\u001b[38;5;124m'\u001b[39m, \u001b[38;5;124m'\u001b[39m\u001b[38;5;124mb\u001b[39m\u001b[38;5;124m'\u001b[39m,\u001b[38;5;124m'\u001b[39m\u001b[38;5;124mc\u001b[39m\u001b[38;5;124m'\u001b[39m]\n\u001b[1;32m----> 2\u001b[0m \u001b[38;5;28mprint\u001b[39m(\u001b[43mb\u001b[49m\u001b[38;5;241;43m.\u001b[39;49m\u001b[43mindex\u001b[49m\u001b[43m(\u001b[49m\u001b[38;5;124;43m'\u001b[39;49m\u001b[38;5;124;43mh\u001b[39;49m\u001b[38;5;124;43m'\u001b[39;49m\u001b[43m)\u001b[49m)\n",
      "\u001b[1;31mValueError\u001b[0m: 'h' is not in list"
     ]
    }
   ],
   "source": [
    "b = ['a', 'b','c']\n",
    "print(b.index('h')) # 없는 데이터의 위치를 찾으면 에러발생"
   ]
  },
  {
   "cell_type": "code",
   "execution_count": 21,
   "id": "8a9007b6",
   "metadata": {},
   "outputs": [
    {
     "name": "stdout",
     "output_type": "stream",
     "text": [
      "[4, 1, 2, 3]\n"
     ]
    }
   ],
   "source": [
    " a = [1, 2, 3]\n",
    "a. insert (0,4)\n",
    "print(a)"
   ]
  },
  {
   "cell_type": "code",
   "execution_count": 24,
   "id": "2a26f669",
   "metadata": {},
   "outputs": [
    {
     "name": "stdout",
     "output_type": "stream",
     "text": [
      "[1, 2, 1, 2, 3]\n"
     ]
    }
   ],
   "source": [
    "a = [1, 2, 3, 1, 2, 3]\n",
    "# 값이 3인요소 삭제(처음거 1개만 삭제)\n",
    "a.remove(3) # 값으로 삭제\n",
    "print(a)"
   ]
  },
  {
   "cell_type": "code",
   "execution_count": 25,
   "id": "2e5f098f",
   "metadata": {},
   "outputs": [],
   "source": []
  },
  {
   "cell_type": "code",
   "execution_count": 26,
   "id": "31638352",
   "metadata": {},
   "outputs": [
    {
     "data": {
      "text/plain": [
       "[2, 1, 2, 3]"
      ]
     },
     "execution_count": 26,
     "metadata": {},
     "output_type": "execute_result"
    }
   ],
   "source": [
    "del a[0] # 인덱스로 삭ㅈㅔ\n",
    "a"
   ]
  },
  {
   "cell_type": "code",
   "execution_count": 27,
   "id": "0d2da7a1",
   "metadata": {},
   "outputs": [
    {
     "name": "stdout",
     "output_type": "stream",
     "text": [
      "[1, 2]\n",
      "3\n"
     ]
    }
   ],
   "source": [
    "a = [1, 2, 3]\n",
    "b = a.pop() # 리스트의 마지막 요소를 추출\n",
    "print(a)\n",
    "print(b)"
   ]
  },
  {
   "cell_type": "code",
   "execution_count": 29,
   "id": "d31dbdc3",
   "metadata": {},
   "outputs": [
    {
     "name": "stdout",
     "output_type": "stream",
     "text": [
      "3\n"
     ]
    }
   ],
   "source": [
    "# 요소의 개수(건수)를 추출\n",
    "a = [1, 2, 3, 1, 2, 1]\n",
    "b = a.count(1) # 값이 1인 요소가 몇개인지 계산하는 함수\n",
    "print(b)"
   ]
  },
  {
   "cell_type": "code",
   "execution_count": 31,
   "id": "b9ed53bd",
   "metadata": {},
   "outputs": [
    {
     "name": "stdout",
     "output_type": "stream",
     "text": [
      "[1, 2, 3, 4, 5]\n"
     ]
    }
   ],
   "source": [
    "# 리스트의 확장\n",
    "a = [1, 2, 3]\n",
    "# 리스트1.extend(리스트2) > 리스트의 확장\n",
    "a.extend([4, 5]) # 함수에는 리스트만 들어와야함\n",
    "#a.extend(6) = 함수안에가 상수라서 에러가 남\n",
    "print(a)"
   ]
  },
  {
   "cell_type": "code",
   "execution_count": 32,
   "id": "86c2a6f4",
   "metadata": {},
   "outputs": [
    {
     "name": "stdout",
     "output_type": "stream",
     "text": [
      "[1, 2, 3, 4, 5, 7, 8]\n"
     ]
    }
   ],
   "source": [
    "b = [7, 8]\n",
    "print(a + b)"
   ]
  },
  {
   "cell_type": "code",
   "execution_count": 33,
   "id": "b995b6a7",
   "metadata": {},
   "outputs": [
    {
     "name": "stdout",
     "output_type": "stream",
     "text": [
      "True\n",
      "False\n"
     ]
    }
   ],
   "source": [
    "# 값 in 리스트 , 값 not in 리스트\n",
    "##: 해당값에 리스트의 요소가 있습니까 라고 물어 보는거\n",
    "### 결과는 T or F\n",
    "a = [1, 2, 3, 4, 5]\n",
    "result = 2 in a # 있으면 T, 없으면 F \n",
    "print(result)\n",
    "\n",
    "result = 2 not in a # 없으면 T, 있으면 F\n",
    "print(result)"
   ]
  },
  {
   "cell_type": "markdown",
   "id": "be4e9942",
   "metadata": {},
   "source": [
    "# 튜플 (Tuple)"
   ]
  },
  {
   "cell_type": "code",
   "execution_count": 35,
   "id": "e2ffb403",
   "metadata": {},
   "outputs": [
    {
     "name": "stdout",
     "output_type": "stream",
     "text": [
      "(1, 2, 'a', 'b')\n",
      "<class 'tuple'>\n",
      "1\n",
      "b\n"
     ]
    },
    {
     "ename": "TypeError",
     "evalue": "'tuple' object does not support item assignment",
     "output_type": "error",
     "traceback": [
      "\u001b[1;31m---------------------------------------------------------------------------\u001b[0m",
      "\u001b[1;31mTypeError\u001b[0m                                 Traceback (most recent call last)",
      "Input \u001b[1;32mIn [35]\u001b[0m, in \u001b[0;36m<cell line: 6>\u001b[1;34m()\u001b[0m\n\u001b[0;32m      4\u001b[0m \u001b[38;5;28mprint\u001b[39m(tl[\u001b[38;5;241m0\u001b[39m]) \n\u001b[0;32m      5\u001b[0m \u001b[38;5;28mprint\u001b[39m(tl[\u001b[38;5;241m-\u001b[39m\u001b[38;5;241m1\u001b[39m])\n\u001b[1;32m----> 6\u001b[0m tl[\u001b[38;5;241m0\u001b[39m] \u001b[38;5;241m=\u001b[39m \u001b[38;5;124m'\u001b[39m\u001b[38;5;124mc\u001b[39m\u001b[38;5;124m'\u001b[39m\n",
      "\u001b[1;31mTypeError\u001b[0m: 'tuple' object does not support item assignment"
     ]
    }
   ],
   "source": [
    "tl = (1, 2, 'a', 'b')\n",
    "print(tl)\n",
    "print(type(tl))\n",
    "print(tl[0]) \n",
    "print(tl[-1])\n",
    "tl[0] = 'c' #에러발생. 왜냐면 튜플은 변경이 불가능해서"
   ]
  },
  {
   "cell_type": "code",
   "execution_count": 37,
   "id": "552bbd8e",
   "metadata": {},
   "outputs": [
    {
     "ename": "TypeError",
     "evalue": "'tuple' object doesn't support item deletion",
     "output_type": "error",
     "traceback": [
      "\u001b[1;31m---------------------------------------------------------------------------\u001b[0m",
      "\u001b[1;31mTypeError\u001b[0m                                 Traceback (most recent call last)",
      "Input \u001b[1;32mIn [37]\u001b[0m, in \u001b[0;36m<cell line: 1>\u001b[1;34m()\u001b[0m\n\u001b[1;32m----> 1\u001b[0m \u001b[38;5;28;01mdel\u001b[39;00m tl[\u001b[38;5;241m0\u001b[39m]\n",
      "\u001b[1;31mTypeError\u001b[0m: 'tuple' object doesn't support item deletion"
     ]
    }
   ],
   "source": [
    "del tl[0] # 튜플은 삭제가 안됨"
   ]
  },
  {
   "cell_type": "code",
   "execution_count": 38,
   "id": "228288b6",
   "metadata": {},
   "outputs": [
    {
     "name": "stdout",
     "output_type": "stream",
     "text": [
      "(2, 'a', 'b')\n",
      "(1, 2, 'a', 'b', 3, 4)\n",
      "t1 = (1, 2, 'a', 'b', 3, 4)\n",
      "(1, 2, 'a', 'b', 3, 4, 1, 2, 'a', 'b', 3, 4, 1, 2, 'a', 'b', 3, 4)\n"
     ]
    }
   ],
   "source": [
    "t1 = (1, 2,'a', 'b')\n",
    "print(t1[1:])\n",
    "t2 = (3,4)\n",
    "print(t1 + t2)\n",
    "t1 = t1 + t2 #새로운 튜플을 생성한다는 의미로 이해해야한다\n",
    "print(\"t1 =\", t1)\n",
    "print(t1 * 3)\n"
   ]
  },
  {
   "cell_type": "code",
   "execution_count": 43,
   "id": "39e9499a",
   "metadata": {},
   "outputs": [
    {
     "name": "stdout",
     "output_type": "stream",
     "text": [
      " a = 10 b =  20\n"
     ]
    }
   ],
   "source": [
    "# 파이썬에 기본 자료형 튜플\n",
    "a = 10\n",
    "b = 20\n",
    "print(\" a =\", a, \"b = \", b)"
   ]
  },
  {
   "cell_type": "code",
   "execution_count": 45,
   "id": "f0cbe686",
   "metadata": {},
   "outputs": [
    {
     "name": "stdout",
     "output_type": "stream",
     "text": [
      " a = 20 b =  20\n"
     ]
    }
   ],
   "source": [
    "c = a \n",
    "d = b\n",
    "b = c\n",
    "print(\" a =\", a, \"b = \", b)"
   ]
  },
  {
   "cell_type": "code",
   "execution_count": 46,
   "id": "58b8ab68",
   "metadata": {},
   "outputs": [
    {
     "name": "stdout",
     "output_type": "stream",
     "text": [
      " a = 20 b =  10\n"
     ]
    }
   ],
   "source": [
    "a = 10\n",
    "b = 20\n",
    "a, b = b,a# 우변에 () 생략\n",
    "print(\" a =\", a, \"b = \", b)"
   ]
  },
  {
   "cell_type": "code",
   "execution_count": 47,
   "id": "b99ce580",
   "metadata": {},
   "outputs": [
    {
     "name": "stdout",
     "output_type": "stream",
     "text": [
      " a = 20 b =  10\n"
     ]
    }
   ],
   "source": [
    "a = 10\n",
    "b = 20\n",
    "a, b = (b,a) # 좌변은 언패킹, 우변 패킹 / 위에꺼랑 같은거 나옴 \n",
    "print(\" a =\", a, \"b = \", b)"
   ]
  },
  {
   "cell_type": "code",
   "execution_count": 51,
   "id": "4e36a754",
   "metadata": {},
   "outputs": [
    {
     "name": "stdout",
     "output_type": "stream",
     "text": [
      "1, 2, 3\n",
      "2 1\n"
     ]
    }
   ],
   "source": [
    "# packing(패킹) : 여러 개의 값을 하나의 변수에 저장하는 것\n",
    "tl = (1, 2, 3)\n",
    "# unpacking : 하나의 변수에 담은 값을 각각의 변수에 할당하는 것\n",
    "# 데이터의 개수와 변수는 반드시 일치해야 한다.\n",
    "n1, n2, n3 = tl\n",
    "\n",
    "# 출력형식이 포함된 문자열 .format(값1, 값2, 값3)\n",
    "print(\"{0}, {1}, {2}\".format(n1, n2, n3))# \"안에 아무것도 안써도 됨, 안쓰면 순서대로 매칭됨\"( 밑에거 참고)\n",
    "\n",
    "# 변수의 값을 교환\n",
    "n1, n2 = n2, n1\n",
    "print(\"{0} {1}\".format(n1, n2))"
   ]
  },
  {
   "cell_type": "code",
   "execution_count": 53,
   "id": "92828596",
   "metadata": {},
   "outputs": [
    {
     "name": "stdout",
     "output_type": "stream",
     "text": [
      "21 \n"
     ]
    }
   ],
   "source": [
    "print(\"{}{} \".format(n1, n2, n3))"
   ]
  },
  {
   "cell_type": "code",
   "execution_count": 57,
   "id": "84bbe4d7",
   "metadata": {},
   "outputs": [
    {
     "name": "stdout",
     "output_type": "stream",
     "text": [
      "[1, 2, 3]\n",
      "('x', 'y', 'z')\n"
     ]
    }
   ],
   "source": [
    "#형변황 : int(), float() , str()\n",
    "#자료구조의 형변환 : list() - 함수라서 대괄호 x, tuple() , 사전은 형변환이 안됨(인덱스를 쓰지 않고 키를 활용해서)\n",
    "my_list = [1, 2, 3]\n",
    "my_tuple = ('x', 'y', 'z')\n",
    "print(my_list)\n",
    "print(my_tuple)"
   ]
  },
  {
   "cell_type": "code",
   "execution_count": 59,
   "id": "23ef57ee",
   "metadata": {},
   "outputs": [
    {
     "name": "stdout",
     "output_type": "stream",
     "text": [
      "(1, 2, 3)\n",
      "['x', 'y', 'z']\n"
     ]
    }
   ],
   "source": [
    "print(tuple(my_list))\n",
    "print(list(my_tuple))"
   ]
  },
  {
   "cell_type": "markdown",
   "id": "2ccf4499",
   "metadata": {},
   "source": [
    "# 딕셔너리(사전)"
   ]
  },
  {
   "cell_type": "code",
   "execution_count": 61,
   "id": "8f09af9f",
   "metadata": {},
   "outputs": [
    {
     "name": "stdout",
     "output_type": "stream",
     "text": [
      "{1: 'a'}\n",
      "<class 'dict'>\n"
     ]
    }
   ],
   "source": [
    "# 딕셔너리{key : value, key : value, key : value} \n",
    "## 요소 하나하나를 아이템이라고 부름\n",
    "# key는 숫자 인덱스 보다 문자인덱스를 선호(권장)(안덱스랑 햣갈림 밑에 참고)\n",
    "#key는 중복 불가능\n",
    "\n",
    "a = {1: 'a'} # 키가 1 값이 a\n",
    "print(a)\n",
    "print(type(a))"
   ]
  },
  {
   "cell_type": "code",
   "execution_count": 62,
   "id": "e7afe191",
   "metadata": {},
   "outputs": [
    {
     "name": "stdout",
     "output_type": "stream",
     "text": [
      "{1: 'a', 2: 'b'}\n"
     ]
    }
   ],
   "source": [
    "# 사전에 아이템 추가(item)\n",
    "a[2] = 'b' # 인덱스  2번째라고 인식할 수 있어서 선호 안함\n",
    "print(a)"
   ]
  },
  {
   "cell_type": "code",
   "execution_count": 64,
   "id": "c53ed26a",
   "metadata": {},
   "outputs": [
    {
     "name": "stdout",
     "output_type": "stream",
     "text": [
      "{'name': '홍길동', 'phone': '010-1234-5678', 'age': 23}\n"
     ]
    }
   ],
   "source": [
    "stu = {'name' : '홍길동', 'phone':'010-1234-5678', 'age': 23} \n",
    "#데이터 프레임(db에서)은 딕셔너리의 확장판\n",
    "print(stu)"
   ]
  },
  {
   "cell_type": "code",
   "execution_count": 65,
   "id": "6676b681",
   "metadata": {},
   "outputs": [
    {
     "name": "stdout",
     "output_type": "stream",
     "text": [
      "홍길동\n",
      "홍길동\n",
      "23\n",
      "23\n"
     ]
    }
   ],
   "source": [
    "#키를 이용해서 값을 조회(값을 얻어온다)\n",
    "print(stu['name']) # 딕셔너리[key]\n",
    "print(stu.get('name')) # 딕셔너리.get(key)\n",
    "\n",
    "\n",
    "print(stu['age']) # 딕셔너리[key]\n",
    "print(stu.get('age')) # 딕셔너리.get(key)\n"
   ]
  },
  {
   "cell_type": "code",
   "execution_count": 66,
   "id": "b59ecec1",
   "metadata": {},
   "outputs": [
    {
     "data": {
      "text/plain": [
       "dict_keys(['name', 'phone', 'age'])"
      ]
     },
     "execution_count": 66,
     "metadata": {},
     "output_type": "execute_result"
    }
   ],
   "source": [
    "# keys 조회( 키만 조회)\n",
    "stu.keys()"
   ]
  },
  {
   "cell_type": "code",
   "execution_count": 67,
   "id": "1a42fb77",
   "metadata": {},
   "outputs": [
    {
     "data": {
      "text/plain": [
       "dict_values(['홍길동', '010-1234-5678', 23])"
      ]
     },
     "execution_count": 67,
     "metadata": {},
     "output_type": "execute_result"
    }
   ],
   "source": [
    "# values 조회(값만 조회)\n",
    "stu.values()"
   ]
  },
  {
   "cell_type": "code",
   "execution_count": 68,
   "id": "1cf4c103",
   "metadata": {},
   "outputs": [
    {
     "data": {
      "text/plain": [
       "dict_items([('name', '홍길동'), ('phone', '010-1234-5678'), ('age', 23)])"
      ]
     },
     "execution_count": 68,
     "metadata": {},
     "output_type": "execute_result"
    }
   ],
   "source": [
    "#items\n",
    "stu.items()"
   ]
  },
  {
   "cell_type": "code",
   "execution_count": 69,
   "id": "f60e5255",
   "metadata": {},
   "outputs": [
    {
     "name": "stdout",
     "output_type": "stream",
     "text": [
      "name  ==> 홍길동\n",
      "phone  ==> 010-1234-5678\n",
      "age  ==> 23\n"
     ]
    }
   ],
   "source": [
    "# for 개별변수 in 집합변수(키값으로 잡으면 순서대로 추출할 수 있음)\n",
    "for k in stu.keys(): # for k in ['name', 'phone', 'age'] - 리스트 형으로 담김\n",
    "    \n",
    "    print(k, \" ==>\", stu[k])"
   ]
  },
  {
   "cell_type": "code",
   "execution_count": 72,
   "id": "d77c5950",
   "metadata": {},
   "outputs": [
    {
     "data": {
      "text/plain": [
       "['name', 'phone', 'age']"
      ]
     },
     "execution_count": 72,
     "metadata": {},
     "output_type": "execute_result"
    }
   ],
   "source": [
    "b = list(stu.keys()) # 그냥 추출하면 앞에 딕셔너리가 붙어서 리스트타입으로 형변환해주는거임\n",
    "b"
   ]
  },
  {
   "cell_type": "code",
   "execution_count": 75,
   "id": "50d97e05",
   "metadata": {},
   "outputs": [
    {
     "data": {
      "text/plain": [
       "['홍길동', '010-1234-5678', 23]"
      ]
     },
     "execution_count": 75,
     "metadata": {},
     "output_type": "execute_result"
    }
   ],
   "source": [
    "c = list(stu.values()) # 그냥 추출하면 앞에 딕셔너리가 붙어서 리스트타입으로 형변환해주는거임\n",
    "c"
   ]
  },
  {
   "cell_type": "code",
   "execution_count": 76,
   "id": "bbc8b4b5",
   "metadata": {},
   "outputs": [
    {
     "data": {
      "text/plain": [
       "[('name', '홍길동'), ('phone', '010-1234-5678'), ('age', 23)]"
      ]
     },
     "execution_count": 76,
     "metadata": {},
     "output_type": "execute_result"
    }
   ],
   "source": [
    "d =list(stu.items())\n",
    "d\n",
    "# 리스트 하나의 요소가 튜풀로 묶여있는거임"
   ]
  },
  {
   "cell_type": "code",
   "execution_count": 77,
   "id": "9af4ed59",
   "metadata": {},
   "outputs": [
    {
     "name": "stdout",
     "output_type": "stream",
     "text": [
      "<class 'list'>\n"
     ]
    }
   ],
   "source": [
    "print(type(d))"
   ]
  },
  {
   "cell_type": "code",
   "execution_count": 78,
   "id": "2c231b79",
   "metadata": {},
   "outputs": [
    {
     "name": "stdout",
     "output_type": "stream",
     "text": [
      "('name', '홍길동')\n"
     ]
    }
   ],
   "source": [
    "print(d[0])"
   ]
  },
  {
   "cell_type": "code",
   "execution_count": 80,
   "id": "2721f7d3",
   "metadata": {},
   "outputs": [
    {
     "name": "stdout",
     "output_type": "stream",
     "text": [
      "name  ==> 홍길동\n",
      "phone  ==> 010-1234-5678\n",
      "age  ==> 23\n"
     ]
    }
   ],
   "source": [
    "for k, v in stu.items(): \n",
    "    \n",
    "    print(k, \" ==>\",v)"
   ]
  },
  {
   "cell_type": "code",
   "execution_count": 82,
   "id": "c02aad72",
   "metadata": {},
   "outputs": [
    {
     "name": "stdout",
     "output_type": "stream",
     "text": [
      "name  ==> 홍길동\n",
      "phone  ==> 010-1234-5678\n",
      "age  ==> 23\n"
     ]
    }
   ],
   "source": [
    "for k, v in d: \n",
    "    \n",
    "    print(k, \" ==>\",v)"
   ]
  },
  {
   "cell_type": "code",
   "execution_count": 83,
   "id": "164ee274",
   "metadata": {},
   "outputs": [
    {
     "name": "stdout",
     "output_type": "stream",
     "text": [
      "{'name': '홍길동', 'phone': '010-1234-5678', 'age': 23, 'weight': 67.4}\n"
     ]
    }
   ],
   "source": [
    "# 새로운 아이템 추가\n",
    "stu['weight'] = 67.4\n",
    "print(stu)"
   ]
  },
  {
   "cell_type": "code",
   "execution_count": 84,
   "id": "5c6b4b79",
   "metadata": {},
   "outputs": [
    {
     "data": {
      "text/plain": [
       "True"
      ]
     },
     "execution_count": 84,
     "metadata": {},
     "output_type": "execute_result"
    }
   ],
   "source": [
    "# 사전에 등록되있는 지 확인하는 방법\n",
    "'weight' in stu"
   ]
  },
  {
   "cell_type": "markdown",
   "id": "8441cdb5",
   "metadata": {},
   "source": [
    "# 집합(set)"
   ]
  },
  {
   "cell_type": "code",
   "execution_count": 85,
   "id": "bb6aa302",
   "metadata": {},
   "outputs": [
    {
     "data": {
      "text/plain": [
       "{1, 2, 3, 4, 5}"
      ]
     },
     "execution_count": 85,
     "metadata": {},
     "output_type": "execute_result"
    }
   ],
   "source": [
    "# 많이 안씀\n",
    "# 집합 자료형 : 중복값은 허용하지 않으며(중복값 삭제됨), 순서대로 저장되지 않는다.\n",
    "s1 = set([5,4,3,2,1,1,2,3,3,4,5])\n",
    "s1"
   ]
  },
  {
   "cell_type": "code",
   "execution_count": 86,
   "id": "ab228150",
   "metadata": {},
   "outputs": [
    {
     "name": "stdout",
     "output_type": "stream",
     "text": [
      "<class 'set'>\n"
     ]
    }
   ],
   "source": [
    "print(type(s1))"
   ]
  },
  {
   "cell_type": "code",
   "execution_count": 87,
   "id": "056a22ab",
   "metadata": {},
   "outputs": [
    {
     "name": "stdout",
     "output_type": "stream",
     "text": [
      "교집합 :  {4, 5, 6}\n",
      "합집합 :  {1, 2, 3, 4, 5, 6, 7, 8, 9}\n",
      "차집합:  {1, 2, 3}\n"
     ]
    }
   ],
   "source": [
    "s1 = set([1,2,3,4,5,6])\n",
    "s2 = set([4,5,6,7,8,9])\n",
    "\n",
    "# 교집합, &\n",
    "a = s1 &s2\n",
    "print(\"교집합 : \", a)\n",
    "\n",
    "#합집합, |\n",
    "b = s1|s2\n",
    "print(\"합집합 : \", b)\n",
    "\n",
    "#차집합, -\n",
    "c = s1-s2\n",
    "print(\"차집합: \", c)\n"
   ]
  },
  {
   "cell_type": "code",
   "execution_count": 90,
   "id": "bb4f08f3",
   "metadata": {},
   "outputs": [
    {
     "name": "stdout",
     "output_type": "stream",
     "text": [
      "교집합 :  {4, 5, 6}\n",
      "합집합:  {1, 2, 3, 4, 5, 6, 7, 8, 9}\n",
      "차집합 :  {1, 2, 3}\n"
     ]
    }
   ],
   "source": [
    "print(\"교집합 : \", s1.intersection(s2))\n",
    "print(\"합집합: \", s1.union(s2))\n",
    "print(\"차집합 : \", s1. difference(s2))"
   ]
  },
  {
   "cell_type": "code",
   "execution_count": 91,
   "id": "c38e1604",
   "metadata": {},
   "outputs": [
    {
     "name": "stdout",
     "output_type": "stream",
     "text": [
      "{1, 2, 3, 4}\n"
     ]
    },
    {
     "ename": "TypeError",
     "evalue": "set.add() takes exactly one argument (2 given)",
     "output_type": "error",
     "traceback": [
      "\u001b[1;31m---------------------------------------------------------------------------\u001b[0m",
      "\u001b[1;31mTypeError\u001b[0m                                 Traceback (most recent call last)",
      "Input \u001b[1;32mIn [91]\u001b[0m, in \u001b[0;36m<cell line: 5>\u001b[1;34m()\u001b[0m\n\u001b[0;32m      3\u001b[0m s1\u001b[38;5;241m.\u001b[39m add(\u001b[38;5;241m4\u001b[39m)\n\u001b[0;32m      4\u001b[0m \u001b[38;5;28mprint\u001b[39m(s1)\n\u001b[1;32m----> 5\u001b[0m \u001b[43ms1\u001b[49m\u001b[38;5;241;43m.\u001b[39;49m\u001b[43madd\u001b[49m\u001b[43m(\u001b[49m\u001b[38;5;241;43m4\u001b[39;49m\u001b[43m,\u001b[49m\u001b[38;5;241;43m5\u001b[39;49m\u001b[43m)\u001b[49m \u001b[38;5;66;03m# 중복값은 추가안됨, 에러가 발생할 수 있다.(중복 떄문에)\u001b[39;00m\n\u001b[0;32m      6\u001b[0m \u001b[38;5;28mprint\u001b[39m(s1)\n",
      "\u001b[1;31mTypeError\u001b[0m: set.add() takes exactly one argument (2 given)"
     ]
    }
   ],
   "source": [
    "s1 = set([1, 2, 3])\n",
    "# 요소 추가\n",
    "s1. add(4)\n",
    "print(s1)\n",
    "s1.add(4,5) # 중복값은 추가안됨, 여러값을 한번에 추가 불가, 에러가 발생할 수 있다.(중복 떄문에)\n",
    "print(s1)"
   ]
  },
  {
   "cell_type": "code",
   "execution_count": 92,
   "id": "4638837a",
   "metadata": {},
   "outputs": [
    {
     "name": "stdout",
     "output_type": "stream",
     "text": [
      "{1, 2, 3, 4}\n"
     ]
    }
   ],
   "source": [
    "s1. add(4)\n",
    "print(s1)"
   ]
  },
  {
   "cell_type": "code",
   "execution_count": 95,
   "id": "def6b82e",
   "metadata": {},
   "outputs": [
    {
     "name": "stdout",
     "output_type": "stream",
     "text": [
      "{1, 2, 3, 4, 5}\n"
     ]
    }
   ],
   "source": [
    "s1. add(5)\n",
    "print(s1)"
   ]
  },
  {
   "cell_type": "code",
   "execution_count": 96,
   "id": "5828c67f",
   "metadata": {
    "scrolled": true
   },
   "outputs": [
    {
     "name": "stdout",
     "output_type": "stream",
     "text": [
      "{1, 2, 3, 4, 5, 6}\n"
     ]
    }
   ],
   "source": [
    "s1 = set([1,2,3])\n",
    "s1.update([4,5,6])\n",
    "print(s1)"
   ]
  },
  {
   "cell_type": "code",
   "execution_count": 98,
   "id": "f9f0dcff",
   "metadata": {},
   "outputs": [
    {
     "ename": "TypeError",
     "evalue": "'int' object is not iterable",
     "output_type": "error",
     "traceback": [
      "\u001b[1;31m---------------------------------------------------------------------------\u001b[0m",
      "\u001b[1;31mTypeError\u001b[0m                                 Traceback (most recent call last)",
      "Input \u001b[1;32mIn [98]\u001b[0m, in \u001b[0;36m<cell line: 1>\u001b[1;34m()\u001b[0m\n\u001b[1;32m----> 1\u001b[0m \u001b[43ms1\u001b[49m\u001b[38;5;241;43m.\u001b[39;49m\u001b[43mupdate\u001b[49m\u001b[43m(\u001b[49m\u001b[38;5;241;43m7\u001b[39;49m\u001b[43m)\u001b[49m \u001b[38;5;66;03m# 리스트만 추가 할 수있다/ 에러남/ 밑에 참고\u001b[39;00m\n\u001b[0;32m      2\u001b[0m \u001b[38;5;28mprint\u001b[39m(s1)\n",
      "\u001b[1;31mTypeError\u001b[0m: 'int' object is not iterable"
     ]
    }
   ],
   "source": [
    "s1.update(7) # 리스트만 추가 할 수있다/ 에러남/ 밑에 참고\n",
    "print(s1)"
   ]
  },
  {
   "cell_type": "code",
   "execution_count": 99,
   "id": "893ca15a",
   "metadata": {},
   "outputs": [
    {
     "name": "stdout",
     "output_type": "stream",
     "text": [
      "{1, 2, 3, 4, 5, 6, 7}\n"
     ]
    }
   ],
   "source": [
    "s1.update([7])\n",
    "print(s1)"
   ]
  },
  {
   "cell_type": "code",
   "execution_count": 100,
   "id": "05e9dfc1",
   "metadata": {},
   "outputs": [
    {
     "name": "stdout",
     "output_type": "stream",
     "text": [
      "{1, 3, 4, 5, 6, 7}\n"
     ]
    }
   ],
   "source": [
    "\n",
    "s1.remove(2)# 순서가 없어서 인덱스로 제거를 못함\n",
    "print(s1)"
   ]
  },
  {
   "cell_type": "code",
   "execution_count": 102,
   "id": "bf9abe35",
   "metadata": {},
   "outputs": [
    {
     "name": "stdout",
     "output_type": "stream",
     "text": [
      "{'a': 10}\n",
      "{10}\n",
      "<class 'dict'>\n",
      "<class 'set'>\n"
     ]
    }
   ],
   "source": [
    "dic = {'a':10}\n",
    "sse = {10}\n",
    "print(dic)\n",
    "print(sse)\n",
    "print(type(dic))\n",
    "print(type(sse))"
   ]
  },
  {
   "cell_type": "markdown",
   "id": "e5a3b7a9",
   "metadata": {},
   "source": [
    "# 날짜 자료형"
   ]
  },
  {
   "cell_type": "code",
   "execution_count": 5,
   "id": "1bfebdf7",
   "metadata": {},
   "outputs": [],
   "source": [
    "# 날짜 관련 함수를 가지고 있는 모듈을 포함\n",
    "#import datetime : 해당 모듈전체를 가져온다는 의미\n",
    "from datetime import date, time, datetime, timedelta\n",
    "# 따로 나타나지는 않음. 시스템에 저장되는 거임"
   ]
  },
  {
   "cell_type": "code",
   "execution_count": 6,
   "id": "bc3008e2",
   "metadata": {},
   "outputs": [
    {
     "name": "stdout",
     "output_type": "stream",
     "text": [
      "today : 2022-09-01\n"
     ]
    }
   ],
   "source": [
    "#date 변수, today() - 오늘 날짜를 구하는 함수\n",
    "today = date.today()\n",
    "print(\"today : {}\".format(today))"
   ]
  },
  {
   "cell_type": "code",
   "execution_count": 7,
   "id": "088cf287",
   "metadata": {},
   "outputs": [
    {
     "name": "stdout",
     "output_type": "stream",
     "text": [
      "연도 : 2022\n",
      "월 : 9\n",
      "일 : 1\n"
     ]
    }
   ],
   "source": [
    "print(\"연도 : {}\".format(today.year))\n",
    "print(\"월 : {}\".format(today.month))\n",
    "print(\"일 : {}\".format(today.day))"
   ]
  },
  {
   "cell_type": "code",
   "execution_count": 9,
   "id": "5f471bcc",
   "metadata": {},
   "outputs": [
    {
     "name": "stdout",
     "output_type": "stream",
     "text": [
      "현재 날짜와 시간 : 2022-09-01 12:50:17.563606\n"
     ]
    }
   ],
   "source": [
    "#날짜 시간 구하기\n",
    "current_datetime = datetime.today()\n",
    "print(\"현재 날짜와 시간 : {}\".format(current_datetime))"
   ]
  },
  {
   "cell_type": "code",
   "execution_count": 10,
   "id": "27a8c6f6",
   "metadata": {},
   "outputs": [
    {
     "name": "stdout",
     "output_type": "stream",
     "text": [
      "2022-09-01 14:24:37.331909\n",
      "<class 'datetime.datetime'>\n"
     ]
    }
   ],
   "source": [
    "# 형식화된 날짜 출력 : 서식(%) \n",
    "today = datetime.today()\n",
    "print(today)\n",
    "print(type(today))"
   ]
  },
  {
   "cell_type": "code",
   "execution_count": 16,
   "id": "50f2b920",
   "metadata": {},
   "outputs": [
    {
     "name": "stdout",
     "output_type": "stream",
     "text": [
      "2022-09-01 14:24:37\n",
      "<class 'str'>\n"
     ]
    }
   ],
   "source": [
    "#날짜 자료형을 문자열로 형번환\n",
    "# %y : 년도(2자리),%Y : 년도 (4자리) %m : 월, %M  : 분, %H : 시간\n",
    "d = today.strftime(\"%Y-%m-%d %H:%M:%S\" )\n",
    "print(d)\n",
    "print(type(d))"
   ]
  },
  {
   "cell_type": "code",
   "execution_count": 22,
   "id": "65f916e3",
   "metadata": {},
   "outputs": [
    {
     "name": "stdout",
     "output_type": "stream",
     "text": [
      "2022-08-31 14:24:37.331909\n",
      "2022-08-25 14:24:37.331909\n",
      "2022-08-25 14:24:37.331909\n",
      "2022-09-01 06:24:37.331909\n"
     ]
    }
   ],
   "source": [
    "days = timedelta(days=-1)\n",
    "# 어제날짜\n",
    "print(today + days)\n",
    "#일주일 전\n",
    "print(today + days*7)\n",
    "dayss = timedelta(days=-7)\n",
    "print(today + dayss)\n",
    "#8시간 전\n",
    "hours = timedelta(hours=-8)\n",
    "print(today + hours)"
   ]
  },
  {
   "cell_type": "markdown",
   "id": "8480bac8",
   "metadata": {},
   "source": [
    "# 리스트 내포(list comprehension)"
   ]
  },
  {
   "cell_type": "code",
   "execution_count": 24,
   "id": "a002ec3c",
   "metadata": {},
   "outputs": [
    {
     "name": "stdout",
     "output_type": "stream",
     "text": [
      "[2, 4, 6, 8, 10]\n"
     ]
    }
   ],
   "source": [
    "a = [] # a = list()\n",
    "for i in range(1, 6):\n",
    "    a.append(i*2)\n",
    "    \n",
    "print(a)"
   ]
  },
  {
   "cell_type": "code",
   "execution_count": 25,
   "id": "db5c6a62",
   "metadata": {},
   "outputs": [
    {
     "name": "stdout",
     "output_type": "stream",
     "text": [
      "[2, 4, 6, 8, 10]\n"
     ]
    }
   ],
   "source": [
    "# 출력값 -[출력값]\n",
    "a = [i *2 for i in range(1, 6)] # (i*2) 가 출력값 - 실제 리스트에 담겨질 값\n",
    "print(a)"
   ]
  },
  {
   "cell_type": "code",
   "execution_count": 28,
   "id": "3d442d34",
   "metadata": {},
   "outputs": [
    {
     "name": "stdout",
     "output_type": "stream",
     "text": [
      "['사과', '자두', '바나나', '체리']\n"
     ]
    }
   ],
   "source": [
    "array = ['사과', '자두','초콜릿','바나나','체리']\n",
    "output = []\n",
    "\n",
    "for i in array : \n",
    "    if i != '초콜릿' : \n",
    "        output.append(i)\n",
    "print(output)"
   ]
  },
  {
   "cell_type": "code",
   "execution_count": 32,
   "id": "bd57d573",
   "metadata": {},
   "outputs": [
    {
     "name": "stdout",
     "output_type": "stream",
     "text": [
      "['사과', '자두', '바나나', '체리']\n"
     ]
    }
   ],
   "source": [
    "# 인라인 함수 inline: 한줄로 이루어진 함수\n",
    "array = ['사과', '자두','초콜릿','바나나','체리']\n",
    "output = [i for i in array if i != '초콜릿']\n",
    "\n",
    "print(output)"
   ]
  },
  {
   "cell_type": "code",
   "execution_count": null,
   "id": "d8f274ed",
   "metadata": {},
   "outputs": [],
   "source": []
  }
 ],
 "metadata": {
  "kernelspec": {
   "display_name": "Python 3 (ipykernel)",
   "language": "python",
   "name": "python3"
  },
  "language_info": {
   "codemirror_mode": {
    "name": "ipython",
    "version": 3
   },
   "file_extension": ".py",
   "mimetype": "text/x-python",
   "name": "python",
   "nbconvert_exporter": "python",
   "pygments_lexer": "ipython3",
   "version": "3.9.12"
  },
  "toc": {
   "base_numbering": 1,
   "nav_menu": {},
   "number_sections": true,
   "sideBar": true,
   "skip_h1_title": false,
   "title_cell": "Table of Contents",
   "title_sidebar": "Contents",
   "toc_cell": false,
   "toc_position": {},
   "toc_section_display": true,
   "toc_window_display": false
  }
 },
 "nbformat": 4,
 "nbformat_minor": 5
}
