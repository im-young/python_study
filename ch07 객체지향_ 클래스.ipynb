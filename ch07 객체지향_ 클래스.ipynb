{
 "cells": [
  {
   "cell_type": "markdown",
   "id": "d3b6b29d",
   "metadata": {},
   "source": [
    "# OOP\n",
    " - 객체(Object): 현실 세계 또는 실생활에 존재하는 실제적인 물건 또는 개념\n",
    " - 클래스(class) : 객체를 프로그램으로 표현하는 기본 단위, 사용자 정의 자료형\n",
    "     - 클래스의 구성요소(포함멤버) : 속성(attribute, feature, field) \n",
    "     -  = variavle(변수), 행위나 동작(Method,Function,Action) - 함수\n",
    " - 자료형(Data Type) :\n",
    " - 기본 자료형(기본변수에 값을 저장), \n",
    " - 참조형 자료형( 값을 가지고있는 주소를 저장하는 자료를 갖고 있다), 인덱스로 추출 할 수 있는 것  ex) 리스트\n",
    " - 사용자 정의 자료형\n",
    " "
   ]
  },
  {
   "cell_type": "markdown",
   "id": "7d6fe66b",
   "metadata": {},
   "source": [
    "## 들여쓰기 잘하자!!!"
   ]
  },
  {
   "cell_type": "code",
   "execution_count": 2,
   "id": "c51b2874",
   "metadata": {},
   "outputs": [],
   "source": [
    "# 실제 문자가 데이터로 저장될떄는 null string을 무조건 갖고 있음/\n",
    "#그래서 문자 데이터는 참조형 자료형"
   ]
  },
  {
   "cell_type": "code",
   "execution_count": 7,
   "id": "9a204af2",
   "metadata": {},
   "outputs": [],
   "source": [
    "# 클래스 선언(첫글자를 대문자로 쓰는게 관례)\n",
    "class Person:\n",
    "    # 멤버 필드 = 프로퍼티 (처음값, 초기값/ 생략가능)\n",
    "    name  = \"\"# 문자열을 넣을꺼다\n",
    "    age = 0   # 숫자를 담을꺼다\n",
    "    height = 0.0\n",
    "    \n",
    "    \n",
    "    # 생성자 메서드(Constructor) : 객체가 생성될 때 자동으로 호출된다.\n",
    "    \n",
    "    \n",
    "    # 멤버 메서드(= 함수) : Method = Function\n",
    "    ## def put(): => 일반함수\n",
    "    def put(self): # 입력 매개변수(멤버 필드)가 없어도 self(다른언어에서는 = this) 써야함\n",
    "        print(\"이름 :\", self.name)\n",
    "        print(\"나이 :\", self.age)\n",
    "        print(\"키 :\", self.height)\n",
    "        \n",
    "        \n",
    "    # 소멸자 메서드 : 객체가 소멸될 때 자동으로 호출된다.(일종의 함수)"
   ]
  },
  {
   "cell_type": "code",
   "execution_count": 6,
   "id": "2670c161",
   "metadata": {},
   "outputs": [
    {
     "name": "stdout",
     "output_type": "stream",
     "text": [
      "이름 :  \n",
      "나이 :  0\n",
      "키 : 0.0\n"
     ]
    }
   ],
   "source": [
    "# Person 클래스의 인스턴스 객체를 생성, 이떄 생성되는 인스턴스 객체 = 참조변수\n",
    "p1 = Person() # Person() = (디폴트)생성자 메서드 : 생략되어 있는 개념으로 이해\n",
    "\n",
    "# 인스턴스 객체를 이용 : 객체명.멤버필드 or 객체명.멤버서드\n",
    "p1.put()"
   ]
  },
  {
   "cell_type": "code",
   "execution_count": 12,
   "id": "e744e91b",
   "metadata": {},
   "outputs": [],
   "source": [
    "# 클래스 선언(첫글자를 대문자로 쓰는게 관례) 2 \n",
    "class Person:\n",
    "    # 멤버 필드 = 프로퍼티 (처음값, 초기값/ 생략가능)\n",
    "#     name  = \"\"# 문자열을 넣을꺼다\n",
    "#     age = 0   # 숫자를 담을꺼다\n",
    "#     height = 0.0\n",
    "    \n",
    "    \n",
    "    # 생성자 메서드(Constructor) : 객체가 생성될 때 자동으로 호출된다.\n",
    "    \n",
    "    \n",
    "    # 멤버 메서드(= 함수) : Method = Function\n",
    "    ## def put(): => 일반함수\n",
    "    def put(self): # 입력 매개변수(멤버 필드)가 없어도 self(다른언어에서는 = this) 써야함\n",
    "        print(\"이름 :\", self.name)\n",
    "        print(\"나이 :\", self.age)\n",
    "        print(\"키 :\", self.height)\n",
    "        \n",
    "        \n",
    "    # 소멸자 메서드 : 객체가 소멸될 때 자동으로 호출된다.(일종의 함수)"
   ]
  },
  {
   "cell_type": "code",
   "execution_count": 9,
   "id": "d47b7642",
   "metadata": {},
   "outputs": [
    {
     "ename": "AttributeError",
     "evalue": "'Person' object has no attribute 'name'",
     "output_type": "error",
     "traceback": [
      "\u001b[1;31m---------------------------------------------------------------------------\u001b[0m",
      "\u001b[1;31mAttributeError\u001b[0m                            Traceback (most recent call last)",
      "Input \u001b[1;32mIn [9]\u001b[0m, in \u001b[0;36m<cell line: 2>\u001b[1;34m()\u001b[0m\n\u001b[0;32m      1\u001b[0m p1 \u001b[38;5;241m=\u001b[39m Person()\n\u001b[1;32m----> 2\u001b[0m \u001b[43mp1\u001b[49m\u001b[38;5;241;43m.\u001b[39;49m\u001b[43mput\u001b[49m\u001b[43m(\u001b[49m\u001b[43m)\u001b[49m\n",
      "Input \u001b[1;32mIn [8]\u001b[0m, in \u001b[0;36mPerson.put\u001b[1;34m(self)\u001b[0m\n\u001b[0;32m     14\u001b[0m \u001b[38;5;28;01mdef\u001b[39;00m \u001b[38;5;21mput\u001b[39m(\u001b[38;5;28mself\u001b[39m): \u001b[38;5;66;03m# 입력 매개변수(멤버 필드)가 없어도 self(다른언어에서는 = this) 써야함\u001b[39;00m\n\u001b[1;32m---> 15\u001b[0m     \u001b[38;5;28mprint\u001b[39m(\u001b[38;5;124m\"\u001b[39m\u001b[38;5;124m이름 :\u001b[39m\u001b[38;5;124m\"\u001b[39m, \u001b[38;5;28;43mself\u001b[39;49m\u001b[38;5;241;43m.\u001b[39;49m\u001b[43mname\u001b[49m)\n\u001b[0;32m     16\u001b[0m     \u001b[38;5;28mprint\u001b[39m(\u001b[38;5;124m\"\u001b[39m\u001b[38;5;124m나이 :\u001b[39m\u001b[38;5;124m\"\u001b[39m, \u001b[38;5;28mself\u001b[39m\u001b[38;5;241m.\u001b[39mage)\n\u001b[0;32m     17\u001b[0m     \u001b[38;5;28mprint\u001b[39m(\u001b[38;5;124m\"\u001b[39m\u001b[38;5;124m키 :\u001b[39m\u001b[38;5;124m\"\u001b[39m, \u001b[38;5;28mself\u001b[39m\u001b[38;5;241m.\u001b[39mheight)\n",
      "\u001b[1;31mAttributeError\u001b[0m: 'Person' object has no attribute 'name'"
     ]
    }
   ],
   "source": [
    "# Person 클래스의 인스턴스 객체를 생성, 이떄 생성되는 인스턴스 객체 = 참조변수 2\n",
    "p1 = Person()\n",
    "p1.put()\n",
    "# 변수 에러 발생\n",
    "# 그래서 멤버 필드를 초기화 하는 작업을 해야함"
   ]
  },
  {
   "cell_type": "code",
   "execution_count": 14,
   "id": "d882cbe7",
   "metadata": {},
   "outputs": [
    {
     "name": "stdout",
     "output_type": "stream",
     "text": [
      "이름 : 김철수\n",
      "나이 : 20\n",
      "키 : 180.5\n"
     ]
    }
   ],
   "source": [
    "# Person 클래스의 인스턴스 객체를 생성, 이떄 생성되는 인스턴스 객체 = 참조변수 3\n",
    "p1 = Person()\n",
    "\n",
    "\n",
    "#멤버 필드를  초기화하는 작업\n",
    "p1.name = \"김철수\"\n",
    "p1.age = 20\n",
    "p1.height = 180.5\n",
    "#인스턴스 객체를 이용 : 객체명.멤버필드 or 객체명.멤버메서드\n",
    "p1.put()"
   ]
  },
  {
   "cell_type": "code",
   "execution_count": 16,
   "id": "4fb3b73d",
   "metadata": {},
   "outputs": [
    {
     "name": "stdout",
     "output_type": "stream",
     "text": [
      "이름 : 이철수\n",
      "나이 : 30\n",
      "키 : 175.8\n"
     ]
    }
   ],
   "source": [
    "p2 = Person()\n",
    "p2.name = \"이철수\"\n",
    "p2.age = 30\n",
    "p2.height = 175.8\n",
    "p2.put()"
   ]
  },
  {
   "cell_type": "code",
   "execution_count": 17,
   "id": "efa1775f",
   "metadata": {},
   "outputs": [],
   "source": [
    "# 반복적으로 멤버 필드를 초기화함"
   ]
  },
  {
   "cell_type": "code",
   "execution_count": 54,
   "id": "f22c7a98",
   "metadata": {},
   "outputs": [],
   "source": [
    "class Person:\n",
    "    #생성자 메서드 : 멤버 필드를 초기화하는 역할(초기화 함수 __init__)\n",
    "    def __init__(self, name, age, height):\n",
    "        self.name = name # 클래스 멤버 = 객체(?)\n",
    "        self.age = age\n",
    "        self.height = height\n",
    "        \n",
    "        #멤버 메서드\n",
    "    def disp(self):\n",
    "            print(\"이름 : \" + self.name)\n",
    "            print(\"나이 : \" + str(self.age))\n",
    "            print(\"신장 : \" + str(self.height))"
   ]
  },
  {
   "cell_type": "code",
   "execution_count": 55,
   "id": "34c2f847",
   "metadata": {},
   "outputs": [
    {
     "name": "stdout",
     "output_type": "stream",
     "text": [
      "이름 : kim\n",
      "나이 : 25\n",
      "신장 : 177.9\n"
     ]
    }
   ],
   "source": [
    "p3 = Person(\"kim\", 25 , 177.9) # 생성자 메서드가 있는데 안쓰면 에러남\n",
    "p3.disp()"
   ]
  },
  {
   "cell_type": "code",
   "execution_count": 29,
   "id": "870a8a29",
   "metadata": {},
   "outputs": [],
   "source": [
    "class Person:\n",
    "    # 멤버 필드 = 프로퍼티 : 클래스 변수, 공유목적의 변수\n",
    "    name = \"lee\"\n",
    "    age = 20\n",
    "    height = 180.5\n",
    "    \n",
    "    #멤버 메서드\n",
    "    def disp(self):\n",
    "            #self.변수 : 인스턴스 변수 - 개별적인 값\n",
    "            print(\"이름 : \"+ self.name, end=\" \")\n",
    "            print(\"나이 : \" + str(self.age), end=\" \")\n",
    "            print(\"신장 : \" + str(self.height), end=\" \")\n",
    "            #클래스명.변수 : 클래스 변수, static(정적이다) 변수 \n",
    "            ##클래스에 선언된(멤버필드)(기본적으로 정의한 값) 공통적인 값\n",
    "            print(\"이름 : \"+ Person.name, end=\" \")\n",
    "            print(\"나이 : \" + str(Person.age), end=\" \")\n",
    "            print(\"신장 : \" + str(Person.height))"
   ]
  },
  {
   "cell_type": "code",
   "execution_count": 30,
   "id": "4b615695",
   "metadata": {},
   "outputs": [
    {
     "name": "stdout",
     "output_type": "stream",
     "text": [
      "이름 : 김철수 나이 : 21 신장 : 177.7 이름 : lee 나이 : 20 신장 : 180.5\n",
      "이름 : 홍길동 나이 : 33 신장 : 178.9 이름 : lee 나이 : 20 신장 : 180.5\n",
      "이름 : lee 나이 : 20 신장 : 180.5 이름 : lee 나이 : 20 신장 : 180.5\n"
     ]
    }
   ],
   "source": [
    "p4 = Person()\n",
    "p4.name = \"김철수\"\n",
    "p4.age = 21\n",
    "p4.height = 177.7\n",
    "\n",
    "p5 = Person()\n",
    "p5.name = \"홍길동\"\n",
    "p5.age = 33\n",
    "p5.height = 178.9\n",
    "\n",
    "p6 = Person()\n",
    "\n",
    "p4.disp()\n",
    "p5.disp()\n",
    "p6.disp()"
   ]
  },
  {
   "cell_type": "code",
   "execution_count": 41,
   "id": "92a00acc",
   "metadata": {},
   "outputs": [],
   "source": [
    "class JBank :\n",
    "    # 멤버  필드\n",
    "    rate = 0.7\n",
    "    \n",
    "    # 생성자 메서드\n",
    "    def __init__ (self, name, money, iyul): # 멤버이름과 달라도 됨\n",
    "        self.name = name\n",
    "        self.balance = money\n",
    "        self.rate = iyul\n",
    "        # 이건 멤버이름과 다르면 안됨\n",
    "    \n",
    "    #멤버 메서드\n",
    "    def disp(self):\n",
    "        print(\"고객이름: \", self.name, end=\" \")\n",
    "        print(\"예금금액: \", self.balance, end=\" \")\n",
    "        print(\"예금이율: \", self.rate)"
   ]
  },
  {
   "cell_type": "code",
   "execution_count": 42,
   "id": "6c188702",
   "metadata": {},
   "outputs": [
    {
     "name": "stdout",
     "output_type": "stream",
     "text": [
      "고객이름:  aaa 예금금액:  10000 예금이율:  0.7\n"
     ]
    }
   ],
   "source": [
    "#초기고객\n",
    "\n",
    "a = JBank(\"aaa\", 10000, 0.7)\n",
    "a.disp()"
   ]
  },
  {
   "cell_type": "code",
   "execution_count": 45,
   "id": "8978ace4",
   "metadata": {},
   "outputs": [
    {
     "name": "stdout",
     "output_type": "stream",
     "text": [
      "고객이름:  aaa 예금금액:  10000 예금이율:  0.7\n",
      "고객이름:  bbb 예금금액:  10000 예금이율:  0.3\n"
     ]
    }
   ],
   "source": [
    "# 중기고객\n",
    "b = JBank(\"bbb\", 10000, 0.3)\n",
    "a.disp()\n",
    "b.disp()"
   ]
  },
  {
   "cell_type": "code",
   "execution_count": 46,
   "id": "5c754f0c",
   "metadata": {},
   "outputs": [
    {
     "name": "stdout",
     "output_type": "stream",
     "text": [
      "고객이름:  aaa 예금금액:  10000 예금이율:  0.7\n",
      "고객이름:  bbb 예금금액:  10000 예금이율:  0.3\n",
      "고객이름:  ccc 예금금액:  10000 예금이율:  0.5\n"
     ]
    }
   ],
   "source": [
    "#후기고객\n",
    "c = JBank(\"ccc\", 10000, 0.5)\n",
    "\n",
    "a.disp()\n",
    "b.disp()\n",
    "c.disp()"
   ]
  },
  {
   "cell_type": "code",
   "execution_count": 48,
   "id": "b9e0f4f0",
   "metadata": {},
   "outputs": [],
   "source": [
    "# 2\n",
    "class JBank :\n",
    "    # 멤버  필드\n",
    "    rate = 0.7\n",
    "    \n",
    "    # 생성자 메서드\n",
    "    def __init__ (self, name, money, iyul): # 멤버이름과 달라도 됨\n",
    "        self.name = name\n",
    "        self.balance = money\n",
    "        self.rate = iyul\n",
    "        # 이건 멤버이름과 다르면 안됨\n",
    "    \n",
    "    #멤버 메서드\n",
    "    def disp(self):\n",
    "        print(\"고객이름: \", self.name, end=\" \")\n",
    "        print(\"예금금액: \", self.balance, end=\" \")\n",
    "        print(\"예금이율: \", JBank.rate)"
   ]
  },
  {
   "cell_type": "code",
   "execution_count": 49,
   "id": "c68a09a7",
   "metadata": {},
   "outputs": [
    {
     "name": "stdout",
     "output_type": "stream",
     "text": [
      "고객이름:  aaa 예금금액:  10000 예금이율:  0.7\n"
     ]
    }
   ],
   "source": [
    "#초기고객\n",
    "\n",
    "a = JBank(\"aaa\", 10000, 0.7)\n",
    "a.disp()\n"
   ]
  },
  {
   "cell_type": "code",
   "execution_count": 50,
   "id": "dd66943c",
   "metadata": {},
   "outputs": [
    {
     "name": "stdout",
     "output_type": "stream",
     "text": [
      "고객이름:  aaa 예금금액:  10000 예금이율:  0.7\n",
      "고객이름:  bbb 예금금액:  10000 예금이율:  0.7\n"
     ]
    }
   ],
   "source": [
    "# 중기고객\n",
    "b = JBank(\"bbb\", 10000, 0.3)\n",
    "a.disp()\n",
    "b.disp()"
   ]
  },
  {
   "cell_type": "code",
   "execution_count": 51,
   "id": "75ce598c",
   "metadata": {},
   "outputs": [
    {
     "name": "stdout",
     "output_type": "stream",
     "text": [
      "고객이름:  aaa 예금금액:  10000 예금이율:  0.7\n",
      "고객이름:  bbb 예금금액:  10000 예금이율:  0.7\n",
      "고객이름:  ccc 예금금액:  10000 예금이율:  0.7\n"
     ]
    }
   ],
   "source": [
    "#후기고객\n",
    "c = JBank(\"ccc\", 10000, 0.5)\n",
    "\n",
    "a.disp()\n",
    "b.disp()\n",
    "c.disp()"
   ]
  },
  {
   "cell_type": "code",
   "execution_count": 64,
   "id": "fd286dd5",
   "metadata": {},
   "outputs": [],
   "source": [
    "class Member: \n",
    "    userid = \"king@kong.com\"\n",
    "    \n",
    "    def __init__(self, userid='aaa@a.com', userpw='1234', name = 'aaa'):\n",
    "        self.userid = userid\n",
    "        self.userpw = userpw\n",
    "        self.name = name\n",
    "        \n",
    "    def disp(self):\n",
    "        print(self.userid, self.userpw, self.name)"
   ]
  },
  {
   "cell_type": "code",
   "execution_count": 65,
   "id": "393910dd",
   "metadata": {},
   "outputs": [
    {
     "name": "stdout",
     "output_type": "stream",
     "text": [
      "aaa@a.com 1234 aaa\n"
     ]
    }
   ],
   "source": [
    "m1 = Member()\n",
    "\n",
    "m1.disp()\n",
    "\n",
    "# king kong이 안뜸 , 왜냐면 disp(self) 는 생성자 디폴트를 우선으로 갖고옴"
   ]
  },
  {
   "cell_type": "code",
   "execution_count": 68,
   "id": "a37d8036",
   "metadata": {},
   "outputs": [],
   "source": [
    "#2\n",
    "class Member: \n",
    "    userid = \"king@kong.com\"\n",
    "    \n",
    "    def __init__(self, userid='aaa@a.com', userpw='1234', name = 'aaa'):\n",
    "        self.userid = userid\n",
    "        self.userpw = userpw\n",
    "        self.name = name\n",
    "        \n",
    "    def disp(self):\n",
    "        print(Member.userid, self.userpw, self.name)"
   ]
  },
  {
   "cell_type": "code",
   "execution_count": 69,
   "id": "a09edc2e",
   "metadata": {},
   "outputs": [
    {
     "name": "stdout",
     "output_type": "stream",
     "text": [
      "king@kong.com 1234 aaa\n"
     ]
    }
   ],
   "source": [
    "#2\n",
    "m1 = Member()\n",
    "\n",
    "m1.disp()\n",
    "\n",
    "# king kong이 안뜸 , 왜냐면 print(self, ~~) 는 생성자 디폴트를 우선으로 갖고옴"
   ]
  },
  {
   "cell_type": "code",
   "execution_count": 61,
   "id": "23e5447c",
   "metadata": {},
   "outputs": [
    {
     "name": "stdout",
     "output_type": "stream",
     "text": [
      "bbb@b.com 1234 bbb\n"
     ]
    }
   ],
   "source": [
    "m2 = Member(\"bbb@b.com\", \"1234\",\"bbb\")\n",
    "m2.disp()"
   ]
  },
  {
   "cell_type": "code",
   "execution_count": 63,
   "id": "6971a223",
   "metadata": {},
   "outputs": [
    {
     "name": "stdout",
     "output_type": "stream",
     "text": [
      "ccc@c.com 1234 aaa\n"
     ]
    }
   ],
   "source": [
    "m3 = Member(\"ccc@c.com\")\n",
    "m3.disp()"
   ]
  },
  {
   "cell_type": "markdown",
   "id": "0e28a6ea",
   "metadata": {},
   "source": [
    "# 상속(Inheritance)"
   ]
  },
  {
   "cell_type": "code",
   "execution_count": 71,
   "id": "920a3cac",
   "metadata": {},
   "outputs": [],
   "source": [
    "# 프로그램은 자식이 부모를 선택해서 물려받음\n",
    "# 클래스를 대상으로 상속받음"
   ]
  },
  {
   "cell_type": "code",
   "execution_count": 64,
   "id": "b9d123a1",
   "metadata": {},
   "outputs": [],
   "source": [
    "class A(object): # object (o는 소문자로써야함)(클래스들의 단군, 안써도 됨)\n",
    "    \n",
    "    def aaa(self):\n",
    "        print(\"A class\")"
   ]
  },
  {
   "cell_type": "code",
   "execution_count": 48,
   "id": "c9bb783c",
   "metadata": {},
   "outputs": [],
   "source": [
    "class B:\n",
    "    \n",
    "    def bbb(self):\n",
    "        print(\"B class\")\n",
    "        "
   ]
  },
  {
   "cell_type": "code",
   "execution_count": 49,
   "id": "35438fa7",
   "metadata": {},
   "outputs": [],
   "source": [
    "class C(A): # c 는 하위 클래스, a 는 상위클래스/ c가 a를 상속받은게 c거가 됨\n",
    "    \n",
    "    def ccc(self):\n",
    "        print(\"C class\")"
   ]
  },
  {
   "cell_type": "code",
   "execution_count": null,
   "id": "fa2147ab",
   "metadata": {},
   "outputs": [],
   "source": [
    "# 일반적인 클래스의 멤버는 인스턴스 객체를 통해서 접근한다.\n",
    "## 상속은 인스턴스 객체 안만들어도 객체에 접근가능\n"
   ]
  },
  {
   "cell_type": "code",
   "execution_count": 80,
   "id": "99691dad",
   "metadata": {},
   "outputs": [
    {
     "ename": "NameError",
     "evalue": "name 'aaa' is not defined",
     "output_type": "error",
     "traceback": [
      "\u001b[1;31m---------------------------------------------------------------------------\u001b[0m",
      "\u001b[1;31mNameError\u001b[0m                                 Traceback (most recent call last)",
      "Input \u001b[1;32mIn [80]\u001b[0m, in \u001b[0;36m<cell line: 1>\u001b[1;34m()\u001b[0m\n\u001b[1;32m----> 1\u001b[0m \u001b[43maaa\u001b[49m()\n",
      "\u001b[1;31mNameError\u001b[0m: name 'aaa' is not defined"
     ]
    }
   ],
   "source": [
    "aaa() #에러남\n"
   ]
  },
  {
   "cell_type": "code",
   "execution_count": 81,
   "id": "5e13878b",
   "metadata": {},
   "outputs": [
    {
     "name": "stdout",
     "output_type": "stream",
     "text": [
      "A class\n"
     ]
    }
   ],
   "source": [
    "ap = A()\n",
    "ap.aaa()"
   ]
  },
  {
   "cell_type": "code",
   "execution_count": 82,
   "id": "1bbb61ef",
   "metadata": {},
   "outputs": [
    {
     "ename": "AttributeError",
     "evalue": "'A' object has no attribute 'bbb'",
     "output_type": "error",
     "traceback": [
      "\u001b[1;31m---------------------------------------------------------------------------\u001b[0m",
      "\u001b[1;31mAttributeError\u001b[0m                            Traceback (most recent call last)",
      "Input \u001b[1;32mIn [82]\u001b[0m, in \u001b[0;36m<cell line: 1>\u001b[1;34m()\u001b[0m\n\u001b[1;32m----> 1\u001b[0m \u001b[43map\u001b[49m\u001b[38;5;241;43m.\u001b[39;49m\u001b[43mbbb\u001b[49m()\n",
      "\u001b[1;31mAttributeError\u001b[0m: 'A' object has no attribute 'bbb'"
     ]
    }
   ],
   "source": [
    "ap.bbb()# B 는 A꺼라서 에러남"
   ]
  },
  {
   "cell_type": "code",
   "execution_count": 50,
   "id": "3ed04dcb",
   "metadata": {},
   "outputs": [
    {
     "name": "stdout",
     "output_type": "stream",
     "text": [
      "C class\n",
      "A class\n"
     ]
    }
   ],
   "source": [
    "cp = C()\n",
    "cp.ccc()\n",
    "cp.aaa() # ap. 가 아니라도 불러 올 수 있음"
   ]
  },
  {
   "cell_type": "code",
   "execution_count": 60,
   "id": "2a9cb380",
   "metadata": {},
   "outputs": [],
   "source": [
    "class A: # Object (클래스들의 단군, 안써도 됨)\n",
    "    \n",
    "    def disp(self):\n",
    "        print(\"A class\")"
   ]
  },
  {
   "cell_type": "code",
   "execution_count": 61,
   "id": "c2abd919",
   "metadata": {},
   "outputs": [],
   "source": [
    "class C(A): # c 는 하위 클래스, a 는 상위클래스/ c가 a를 상속받은게 c거가 됨\n",
    "    \n",
    "    def disp(self): #오버라이딩((함수 이름의) 재정의)\n",
    "        A.disp(self)\n",
    "        print(\"C class\")"
   ]
  },
  {
   "cell_type": "code",
   "execution_count": 62,
   "id": "fe8abb94",
   "metadata": {},
   "outputs": [],
   "source": [
    "cp = C()"
   ]
  },
  {
   "cell_type": "code",
   "execution_count": 63,
   "id": "970ad680",
   "metadata": {},
   "outputs": [
    {
     "name": "stdout",
     "output_type": "stream",
     "text": [
      "A class\n",
      "C class\n"
     ]
    }
   ],
   "source": [
    "cp.disp()\n"
   ]
  },
  {
   "cell_type": "code",
   "execution_count": 23,
   "id": "2f43ee64",
   "metadata": {},
   "outputs": [],
   "source": [
    "# 자식은 부모의 재산을 받아서 끝까지 부모를 책임져야함(초기화 시켜줄 의무가 있음)"
   ]
  },
  {
   "cell_type": "code",
   "execution_count": 25,
   "id": "dfce6d22",
   "metadata": {},
   "outputs": [],
   "source": [
    "# Q \n",
    "class Person: #상위클래스(부모클래스)\n",
    "    def __init__ (self, name, age, height):\n",
    "        self.name = name\n",
    "        self.age = age\n",
    "        self.height = height\n",
    "        \n",
    "    def disp(self):\n",
    "        print(\"이름 : \" + self.name, end = \" \")\n",
    "        print(\"나이 : \" + str(self.age), end =\" \")\n",
    "        print(\"신장 : \" + str(self.height), end=\" \")"
   ]
  },
  {
   "cell_type": "code",
   "execution_count": 26,
   "id": "c9ad64ea",
   "metadata": {},
   "outputs": [],
   "source": [
    "class PersonInfo(Person): # 파생클래스\n",
    "    def disp(self):\n",
    "        print(\"체중 : \" + str(self.weight), end = \" \")\n",
    "        print(\"시력(좌) : \" + str(self.left_eye), end =\" \")\n",
    "        print(\"시력(우) : \" + str(self.right_eye))\n",
    "    "
   ]
  },
  {
   "cell_type": "code",
   "execution_count": 27,
   "id": "b8839d37",
   "metadata": {},
   "outputs": [
    {
     "ename": "TypeError",
     "evalue": "__init__() missing 3 required positional arguments: 'name', 'age', and 'height'",
     "output_type": "error",
     "traceback": [
      "\u001b[1;31m---------------------------------------------------------------------------\u001b[0m",
      "\u001b[1;31mTypeError\u001b[0m                                 Traceback (most recent call last)",
      "Input \u001b[1;32mIn [27]\u001b[0m, in \u001b[0;36m<cell line: 1>\u001b[1;34m()\u001b[0m\n\u001b[1;32m----> 1\u001b[0m p1 \u001b[38;5;241m=\u001b[39m \u001b[43mPersonInfo\u001b[49m\u001b[43m(\u001b[49m\u001b[43m)\u001b[49m\n\u001b[0;32m      3\u001b[0m p1\u001b[38;5;241m.\u001b[39mweight \u001b[38;5;241m=\u001b[39m \u001b[38;5;241m70\u001b[39m\n\u001b[0;32m      4\u001b[0m p1\u001b[38;5;241m.\u001b[39mleft_eye \u001b[38;5;241m=\u001b[39m\u001b[38;5;241m1.0\u001b[39m\n",
      "\u001b[1;31mTypeError\u001b[0m: __init__() missing 3 required positional arguments: 'name', 'age', and 'height'"
     ]
    }
   ],
   "source": [
    "p1 = PersonInfo()\n",
    "\n",
    "p1.weight = 70\n",
    "p1.left_eye =1.0\n",
    "p1.right_eye= 1.5\n",
    "p1.disp()\n",
    "\n",
    "## 에러남 세개 놓쳐서(부모값을 초기화 안해서)"
   ]
  },
  {
   "cell_type": "code",
   "execution_count": null,
   "id": "392da476",
   "metadata": {},
   "outputs": [],
   "source": [
    "#부모를 초기화 "
   ]
  },
  {
   "cell_type": "code",
   "execution_count": 28,
   "id": "5f6744ec",
   "metadata": {},
   "outputs": [
    {
     "name": "stdout",
     "output_type": "stream",
     "text": [
      "체중 : 70 시력(좌) : 1.0 시력(우) : 1.5\n"
     ]
    }
   ],
   "source": [
    "#\n",
    "p1 = PersonInfo('aaa', 20, 178.9)#부모를 초기화 \n",
    "\n",
    "p1.weight = 70\n",
    "p1.left_eye =1.0\n",
    "p1.right_eye= 1.5\n",
    "p1.disp()\n",
    "\n",
    "# 부모꺼 disp 안해서 내것만 나옴"
   ]
  },
  {
   "cell_type": "code",
   "execution_count": 33,
   "id": "1bfd3659",
   "metadata": {},
   "outputs": [],
   "source": [
    "class PersonInfo(Person): # 파생클래스// __init__ :넘겨준다\n",
    "    \n",
    "    def __init__(self, name, age, height, weight, left_eye, right_eye):\n",
    "        Person.__init__(self, name, age, height)\n",
    "        self.weight = weight\n",
    "        self.left_eye = left_eye\n",
    "        self.right_eye = right_eye\n",
    "        \n",
    "    def disp(self):\n",
    "        Person.disp(self)\n",
    "        print(\"체중 : \" + str(self.weight), end = \" \")\n",
    "        print(\"시력(좌) : \" + str(self.left_eye), end =\" \")\n",
    "        print(\"시력(우) : \" + str(self.right_eye))"
   ]
  },
  {
   "cell_type": "code",
   "execution_count": 34,
   "id": "a9912991",
   "metadata": {},
   "outputs": [
    {
     "name": "stdout",
     "output_type": "stream",
     "text": [
      "이름 : 홍길동 나이 : 33 신장 : 170.9 체중 : 90 시력(좌) : 1.2 시력(우) : 1.5\n"
     ]
    }
   ],
   "source": [
    "p1 = PersonInfo(\"홍길동\", 33, 170.9, 90, 1.2, 1.5)\n",
    "p1.disp()"
   ]
  },
  {
   "cell_type": "code",
   "execution_count": 65,
   "id": "2f6d6c31",
   "metadata": {},
   "outputs": [],
   "source": [
    "class A:\n",
    "    #멤버 필드 = 프로퍼티 = 클래스 변수(공통적으로 사용할 값)\n",
    "    name = \"김철수\"\n",
    "    age = 20\n",
    "    \n",
    "    #멤버 메서드 , 무조건 인스턴스 객체를 만들어서 접근해야한다.\n",
    "    def disp(self):\n",
    "        self.message = \"안녕하세요\"\n",
    "        print(self.message)\n",
    "        "
   ]
  },
  {
   "cell_type": "code",
   "execution_count": 66,
   "id": "01e2cc4c",
   "metadata": {},
   "outputs": [
    {
     "name": "stdout",
     "output_type": "stream",
     "text": [
      "안녕하세요\n"
     ]
    }
   ],
   "source": [
    "ap = A()\n",
    "ap.disp()"
   ]
  },
  {
   "cell_type": "code",
   "execution_count": 67,
   "id": "9290e373",
   "metadata": {},
   "outputs": [
    {
     "name": "stdout",
     "output_type": "stream",
     "text": [
      "김철수\n"
     ]
    }
   ],
   "source": [
    "print(ap.name)"
   ]
  },
  {
   "cell_type": "code",
   "execution_count": 68,
   "id": "eeaa0ab0",
   "metadata": {},
   "outputs": [
    {
     "name": "stdout",
     "output_type": "stream",
     "text": [
      "20\n"
     ]
    }
   ],
   "source": [
    "print(ap.age)"
   ]
  },
  {
   "cell_type": "code",
   "execution_count": 70,
   "id": "56442a6d",
   "metadata": {},
   "outputs": [
    {
     "name": "stdout",
     "output_type": "stream",
     "text": [
      "김철수\n"
     ]
    }
   ],
   "source": [
    "print(A.name)\n",
    "# 인스턴스 객체를 안만들어도 된다."
   ]
  },
  {
   "cell_type": "code",
   "execution_count": 71,
   "id": "39646b3b",
   "metadata": {},
   "outputs": [
    {
     "name": "stdout",
     "output_type": "stream",
     "text": [
      "20\n"
     ]
    }
   ],
   "source": [
    "print(A.age)"
   ]
  },
  {
   "cell_type": "code",
   "execution_count": 72,
   "id": "90d5f11e",
   "metadata": {},
   "outputs": [
    {
     "ename": "AttributeError",
     "evalue": "type object 'A' has no attribute 'message'",
     "output_type": "error",
     "traceback": [
      "\u001b[1;31m---------------------------------------------------------------------------\u001b[0m",
      "\u001b[1;31mAttributeError\u001b[0m                            Traceback (most recent call last)",
      "Input \u001b[1;32mIn [72]\u001b[0m, in \u001b[0;36m<cell line: 1>\u001b[1;34m()\u001b[0m\n\u001b[1;32m----> 1\u001b[0m \u001b[38;5;28mprint\u001b[39m(\u001b[43mA\u001b[49m\u001b[38;5;241;43m.\u001b[39;49m\u001b[43mmessage\u001b[49m)\n",
      "\u001b[1;31mAttributeError\u001b[0m: type object 'A' has no attribute 'message'"
     ]
    }
   ],
   "source": [
    "print(A.message)\n",
    "# 메세지는 메서드에 만들어서 클래스로 불러오면 에러남"
   ]
  },
  {
   "cell_type": "code",
   "execution_count": 73,
   "id": "c74b368b",
   "metadata": {},
   "outputs": [
    {
     "name": "stdout",
     "output_type": "stream",
     "text": [
      "안녕하세요\n"
     ]
    }
   ],
   "source": [
    "print(ap.message)"
   ]
  },
  {
   "cell_type": "code",
   "execution_count": 74,
   "id": "b4e7a546",
   "metadata": {},
   "outputs": [],
   "source": [
    "class Person:\n",
    "    nation = \"한국\"\n",
    "    name = str() #값을 아무것도 담지 않을떄 =\"\"도 같은거\n",
    "    age = int()\n",
    "    height = float()\n",
    "    weight = float()"
   ]
  },
  {
   "cell_type": "code",
   "execution_count": 75,
   "id": "9412d53c",
   "metadata": {},
   "outputs": [
    {
     "name": "stdout",
     "output_type": "stream",
     "text": [
      "['__class__', '__delattr__', '__dict__', '__dir__', '__doc__', '__eq__', '__format__', '__ge__', '__getattribute__', '__gt__', '__hash__', '__init__', '__init_subclass__', '__le__', '__lt__', '__module__', '__ne__', '__new__', '__reduce__', '__reduce_ex__', '__repr__', '__setattr__', '__sizeof__', '__str__', '__subclasshook__', '__weakref__', 'age', 'height', 'name', 'nation', 'weight']\n"
     ]
    }
   ],
   "source": [
    "print(dir(Person))"
   ]
  },
  {
   "cell_type": "markdown",
   "id": "cce9f271",
   "metadata": {},
   "source": [
    "### Q 은행 계좌관리 프로그램"
   ]
  },
  {
   "cell_type": "code",
   "execution_count": 17,
   "id": "7c164b24",
   "metadata": {},
   "outputs": [],
   "source": [
    "#고객정보 관리\n",
    "\n",
    "class Guest(object):\n",
    "    # 멤버 필드\n",
    "    \n",
    "    num = int()\n",
    "    name = \"\"\n",
    "    money = int()\n",
    "    \n",
    "    # 생성자 메서드\n",
    "    def __init__(self,num, name, money):\n",
    "    \n",
    "        self.name = name\n",
    "        self.num = num\n",
    "        self.money = money\n",
    "    \n",
    "    #계좌 생성 메서드\n",
    "    def add_num(self, num, name, money):\n",
    "        return self.Guest\n",
    "    \n",
    "    #입금 메서드\n",
    "    def add_money(self, money):\n",
    "        self.money +=  p_money\n",
    "    #출금\n",
    "    def minus_money(self, num, name, money):\n",
    "        return self.Guset\n",
    "    \n",
    "    def disp(self):\n",
    "        print(self.name)\n",
    "        print(self.num)\n",
    "        print(self.money)\n",
    "        \n",
    "    \n",
    "    \n",
    "    \n",
    "        \n",
    "    \n",
    "    \n",
    "    "
   ]
  },
  {
   "cell_type": "code",
   "execution_count": 21,
   "id": "9e51b71c",
   "metadata": {},
   "outputs": [
    {
     "ename": "IndentationError",
     "evalue": "unexpected indent (2489438813.py, line 32)",
     "output_type": "error",
     "traceback": [
      "\u001b[1;36m  Input \u001b[1;32mIn [21]\u001b[1;36m\u001b[0m\n\u001b[1;33m    if p_num == Guest.num:\u001b[0m\n\u001b[1;37m    ^\u001b[0m\n\u001b[1;31mIndentationError\u001b[0m\u001b[1;31m:\u001b[0m unexpected indent\n"
     ]
    }
   ],
   "source": [
    "# 합치기\n",
    "\n",
    "#메뉴 로직\n",
    "\n",
    "GuestList= []  # dict() 사전 만드는 함수\n",
    "\n",
    "while True:\n",
    "    print(\"==계좌관리 프로그램==\")\n",
    "    print(\"   1. 계좌계설\") \n",
    "    print(\"   2. 입금처리\")\n",
    "    print(\"   3. 출금처리\")\n",
    "    print(\"   4. 전체고객\")\n",
    "    print(\"   5. 프로그램 종료\")\n",
    "    print(\"===================\")\n",
    "    menu = int(input(\" 메뉴 = \"))\n",
    "    \n",
    "    #계좌번호 사전처리\n",
    "\n",
    "    if menu == 1:\n",
    "        print(\"==계좌계설==\")\n",
    "        num = int(input(\"계좌번호 = \"))\n",
    "        name = input(\"고객이름 = \")\n",
    "        money = int(input(\"예금금액 = \"))\n",
    "        print(\"============\")\n",
    "        print(\"계좌개설이 완료되었습니다.\")\n",
    "        guest = Guest(num, name, money)\n",
    "        GuestList.append(guest)\n",
    "        \n",
    "    elif menu == 2:\n",
    "        print(\"==입금처리==\")\n",
    "        p_num = print(int(input(\"계좌번호 = \" )))\n",
    "            if p_num == Guest.num:\n",
    "                p_money= print(int(input(\"입금금액 = \")))\n",
    "                Guest.add_money(p_money)\n",
    "                print(\"입금이 완료되었습니다.\")\n",
    "            \n",
    "            else:\n",
    "                print( \"계좌번호가 존재하지 않습니다.\")\n",
    "    elif menu == 3:\n",
    "        pass\n",
    "    \n",
    "    \n",
    "    elif menu == 4:\n",
    "        for guest in GuestList:\n",
    "            guest.disp()\n",
    "            \n",
    "        \n",
    "    elif menu == 5:\n",
    "        print(\"프로그램을 종료합니다.\")\n",
    "        break\n",
    "else:\n",
    "    print(\"메뉴의 선택이 올바르지 않습니다.\")\n",
    "    \n"
   ]
  },
  {
   "cell_type": "code",
   "execution_count": 6,
   "id": "49835eb1",
   "metadata": {},
   "outputs": [
    {
     "ename": "SyntaxError",
     "evalue": "invalid syntax (1927859105.py, line 17)",
     "output_type": "error",
     "traceback": [
      "\u001b[1;36m  Input \u001b[1;32mIn [6]\u001b[1;36m\u001b[0m\n\u001b[1;33m    elif menu == 5:\u001b[0m\n\u001b[1;37m    ^\u001b[0m\n\u001b[1;31mSyntaxError\u001b[0m\u001b[1;31m:\u001b[0m invalid syntax\n"
     ]
    }
   ],
   "source": [
    "#메뉴 로직\n",
    "\n",
    "GuestList=[]\n",
    "\n",
    "while True:\n",
    "    print(\"==계좌관리 프로그램==\")\n",
    "    print(\"   1. 계좌계설\") \n",
    "    print(\"   2. 입금처리\")\n",
    "    print(\"   3. 출금처리\")\n",
    "    print(\"   4. 전체고객\")\n",
    "    print(\"   5. 프로그램 종료\")\n",
    "    print(\"===================\")\n",
    "    menu = int(input(\" 메뉴 = \"))\n",
    "    \n",
    "    \n",
    "    \n",
    "    elif menu == 5:\n",
    "        print(\"프로그램을 종료합니다.\")\n",
    "        break\n",
    "else:\n",
    "    print(\"메뉴의 선택이 올바르지 않습니다.\")\n",
    "    \n",
    "\n",
    "\n",
    "\n",
    "\n"
   ]
  },
  {
   "cell_type": "code",
   "execution_count": null,
   "id": "9281b1d2",
   "metadata": {},
   "outputs": [],
   "source": [
    "#계좌번호 사전처리// 계좌계썰 # account_num = {num:}\n",
    "\n",
    " if menu == 1:\n",
    "        print(\"==계좌계설==\")\n",
    "        num = int(input(\"계좌번호 = \"))\n",
    "        name = input(\"고객이름 = \")\n",
    "        money = int(input(\"예금금액 = \"))\n",
    "        print(\"============\")\n",
    "        print(\"계좌개설이 완료되었습니다.\")\n",
    "        guset = Guest(num, name, money)"
   ]
  },
  {
   "cell_type": "code",
   "execution_count": 14,
   "id": "bebeb6ef",
   "metadata": {},
   "outputs": [
    {
     "ename": "IndentationError",
     "evalue": "unexpected indent (1257796473.py, line 4)",
     "output_type": "error",
     "traceback": [
      "\u001b[1;36m  Input \u001b[1;32mIn [14]\u001b[1;36m\u001b[0m\n\u001b[1;33m    print(\"==입금처리==\")\u001b[0m\n\u001b[1;37m    ^\u001b[0m\n\u001b[1;31mIndentationError\u001b[0m\u001b[1;31m:\u001b[0m unexpected indent\n"
     ]
    }
   ],
   "source": [
    "# 입금처리\n",
    "\n",
    "#elif menu == 2:\n",
    "    print(\"==입금처리==\")\n",
    "    p_num = print(int(input(\"계좌번호 = \" )))\n",
    "        if p_num == Guest.num:\n",
    "            p_money= print(int(input(\"입금금액 = \")))\n",
    "            Guest.money +=  p_money\n",
    "            print(\"입금이 완료되었습니다.\")\n",
    "            \n",
    "        else:\n",
    "            print( \"계좌번호가 존재하지 않습니다.\")\n",
    "            \n",
    "    \n",
    "\n",
    "\n",
    "            \n",
    "        \n",
    "    \n",
    "\n",
    "    \n",
    "    \n",
    "  \n"
   ]
  },
  {
   "cell_type": "code",
   "execution_count": 20,
   "id": "81ef917d",
   "metadata": {},
   "outputs": [
    {
     "ename": "IndentationError",
     "evalue": "unexpected indent (2209664608.py, line 3)",
     "output_type": "error",
     "traceback": [
      "\u001b[1;36m  Input \u001b[1;32mIn [20]\u001b[1;36m\u001b[0m\n\u001b[1;33m    if p_num == Guest.num:\u001b[0m\n\u001b[1;37m    ^\u001b[0m\n\u001b[1;31mIndentationError\u001b[0m\u001b[1;31m:\u001b[0m unexpected indent\n"
     ]
    }
   ],
   "source": [
    "#print(\"==입금처리==\")\n",
    "p_num = print(int(input(\"계좌번호 = \" )))\n",
    "    if p_num == Guest.num:\n",
    "        p_money= print(int(input(\"입금금액 = \")))\n",
    "        add_money(p_money)\n",
    "        print(\"입금이 완료되었습니다.\")\n",
    "        \n",
    "           \n",
    "            \n",
    "            "
   ]
  },
  {
   "cell_type": "code",
   "execution_count": null,
   "id": "15380992",
   "metadata": {},
   "outputs": [],
   "source": [
    "# 출금처리\n",
    "\n",
    "elif menu == 3:\n",
    "    print(\"==출금처리==\")\n",
    "    m_num = print(int(input(\"계좌번호 = \")))\n",
    "        if m_num == Guest.num:\n",
    "            m_money =print(int(input(\"출금금액 = \")))\n",
    "                 if Guest.money < m_money:\n",
    "                    print(\"잔액이 부족합니다\")\n",
    "                else:\n",
    "                     Guest.money -= m_money\n",
    "            \n",
    "                \n",
    "        else:\n",
    "            print( \"계좌번호가 존재하지 않습니다.\")\n",
    "        \n",
    "    \n",
    " \n",
    "   \n",
    "        \n",
    "    \n",
    "    \n",
    "    \n",
    "    "
   ]
  },
  {
   "cell_type": "code",
   "execution_count": null,
   "id": "cfe4f898",
   "metadata": {},
   "outputs": [],
   "source": [
    "# 전체고객 잔액 조회"
   ]
  },
  {
   "cell_type": "code",
   "execution_count": null,
   "id": "81b12eee",
   "metadata": {},
   "outputs": [],
   "source": [
    "# "
   ]
  },
  {
   "cell_type": "code",
   "execution_count": null,
   "id": "be10e773",
   "metadata": {},
   "outputs": [],
   "source": [
    "# 프로그램 종료\n",
    "elif menu == 5:\n",
    "        print(\"프로그램을 종료합니다.\")\n",
    "        break\n",
    "    else:\n",
    "        print(\"메뉴의 선택이 올바르지 않습니다.\")"
   ]
  }
 ],
 "metadata": {
  "kernelspec": {
   "display_name": "Python 3 (ipykernel)",
   "language": "python",
   "name": "python3"
  },
  "language_info": {
   "codemirror_mode": {
    "name": "ipython",
    "version": 3
   },
   "file_extension": ".py",
   "mimetype": "text/x-python",
   "name": "python",
   "nbconvert_exporter": "python",
   "pygments_lexer": "ipython3",
   "version": "3.9.12"
  },
  "toc": {
   "base_numbering": 1,
   "nav_menu": {},
   "number_sections": true,
   "sideBar": true,
   "skip_h1_title": false,
   "title_cell": "Table of Contents",
   "title_sidebar": "Contents",
   "toc_cell": false,
   "toc_position": {},
   "toc_section_display": true,
   "toc_window_display": false
  }
 },
 "nbformat": 4,
 "nbformat_minor": 5
}
