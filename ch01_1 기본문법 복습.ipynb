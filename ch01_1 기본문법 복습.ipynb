{
 "cells": [
  {
   "cell_type": "markdown",
   "id": "88989fa1",
   "metadata": {},
   "source": [
    "# 시작하기"
   ]
  },
  {
   "cell_type": "markdown",
   "id": "47d1f1f6",
   "metadata": {},
   "source": [
    "## 문장과 표현식"
   ]
  },
  {
   "cell_type": "code",
   "execution_count": 1,
   "id": "c9479cdf",
   "metadata": {},
   "outputs": [],
   "source": [
    "# 표현삭 : 값을 만들어 내는 코드 => 변수 = 상수(리터널)\n",
    "## 변수 = 상수, 변수, 수식, 함수식\n",
    "# 문장 : 표현식이 하나 이상 모인것\n",
    "## print('Hello World')\n",
    "# 프로그램 : 문장이 모인 것"
   ]
  },
  {
   "cell_type": "code",
   "execution_count": 3,
   "id": "7ed4f121",
   "metadata": {},
   "outputs": [
    {
     "name": "stdout",
     "output_type": "stream",
     "text": [
      "Hello World\n"
     ]
    }
   ],
   "source": [
    "a = print('Hello World')"
   ]
  },
  {
   "cell_type": "code",
   "execution_count": 7,
   "id": "9efe826c",
   "metadata": {},
   "outputs": [
    {
     "data": {
      "text/plain": [
       "'Hello World'"
      ]
     },
     "execution_count": 7,
     "metadata": {},
     "output_type": "execute_result"
    }
   ],
   "source": [
    "#문자상수 or 문자리터널\n",
    "a = 'Hello World'\n",
    "a"
   ]
  },
  {
   "cell_type": "code",
   "execution_count": 8,
   "id": "6a000b29",
   "metadata": {},
   "outputs": [
    {
     "data": {
      "text/plain": [
       "30"
      ]
     },
     "execution_count": 8,
     "metadata": {},
     "output_type": "execute_result"
    }
   ],
   "source": [
    "10 + 20"
   ]
  },
  {
   "cell_type": "code",
   "execution_count": 9,
   "id": "dba5511f",
   "metadata": {},
   "outputs": [
    {
     "data": {
      "text/plain": [
       "30"
      ]
     },
     "execution_count": 9,
     "metadata": {},
     "output_type": "execute_result"
    }
   ],
   "source": [
    "b = 10 + 20\n",
    "b"
   ]
  },
  {
   "cell_type": "markdown",
   "id": "d073bd4d",
   "metadata": {},
   "source": [
    "## 키워드와 식별자 그리고 주석"
   ]
  },
  {
   "cell_type": "code",
   "execution_count": 10,
   "id": "25bfaa8f",
   "metadata": {},
   "outputs": [
    {
     "name": "stdout",
     "output_type": "stream",
     "text": [
      "['False', 'None', 'True', '__peg_parser__', 'and', 'as', 'assert', 'async', 'await', 'break', 'class', 'continue', 'def', 'del', 'elif', 'else', 'except', 'finally', 'for', 'from', 'global', 'if', 'import', 'in', 'is', 'lambda', 'nonlocal', 'not', 'or', 'pass', 'raise', 'return', 'try', 'while', 'with', 'yield']\n"
     ]
    }
   ],
   "source": [
    "# 키워드 : 특별한 의미가 부여된 단어, 예약어\n",
    "#키워드에 목록을 추출 ; kwlist(키워드 리스트) 명령어\n",
    "\n",
    "#왜부 라이브러리(패키지, 모듈)를 프로그램에 포함시킬 때 \n",
    "# import(여기에 라이브러리를 포함시키겠다), 저장 후 다시 실행할때는 안되는 경우가 많아서 다시 써줘야함\n",
    "#import keyword\n",
    "#keyword.(키워드꺼, 키워드가 갖고 있는 것 중)kwlist(키워드 리스트를 포함시켜서 보여주세요)\n",
    "import keyword\n",
    "print(keyword.kwlist)"
   ]
  },
  {
   "cell_type": "code",
   "execution_count": null,
   "id": "fda2eb58",
   "metadata": {},
   "outputs": [],
   "source": [
    "# 식별자(identifier) == 사용자 정의 규칙 == 명명법\n",
    "## 프로그램 언어에서 이름을 붙일 때 사용하는 단어\n",
    "## 변수명 or 함수명 등 객체명....\n",
    "## 키워드 사용 불가 (용도가 정해져 있기 때문)\n",
    "## 영문자(대, 소문자), 숫자(0~9), _(언더바, 밑줄, 언더스코어) 만 허용\n",
    "## 시작은 반드시 영문자나 밑줄이 올 수 있다.\n",
    "## 공백을 포함 불가\n",
    "## 캐멀 케이스 : 대문자로 시작 => 객체(클래스명)\n",
    "## 스네이크 케이스 : 소문자로 시작\n",
    "korScore = 100\n",
    "eng_score = 98\n",
    "math = 88\n",
    "#korScore,eng_score,math 가 식별자임"
   ]
  },
  {
   "cell_type": "code",
   "execution_count": 11,
   "id": "fe98ace7",
   "metadata": {},
   "outputs": [
    {
     "name": "stdout",
     "output_type": "stream",
     "text": [
      "Hello Python\n"
     ]
    }
   ],
   "source": [
    "# 주석(comment) : 프로그램 설명을 담는 구문으로 실행과는 상관없음\n",
    "print('Hello Python') # 문자열을 출력하라는 의미"
   ]
  },
  {
   "cell_type": "markdown",
   "id": "c1aed41c",
   "metadata": {},
   "source": [
    "## 연산자와 자료"
   ]
  },
  {
   "cell_type": "code",
   "execution_count": 12,
   "id": "2708947d",
   "metadata": {},
   "outputs": [
    {
     "data": {
      "text/plain": [
       "1"
      ]
     },
     "execution_count": 12,
     "metadata": {},
     "output_type": "execute_result"
    }
   ],
   "source": [
    "#연산자 (Operation) : 항과 항 사이에 있는 기호로 계산(수식) 을 할 때 이용\n",
    "10 - 9 "
   ]
  },
  {
   "cell_type": "code",
   "execution_count": 13,
   "id": "63fded0e",
   "metadata": {},
   "outputs": [],
   "source": [
    "a = 1 + 1"
   ]
  },
  {
   "cell_type": "code",
   "execution_count": 14,
   "id": "4a018610",
   "metadata": {},
   "outputs": [
    {
     "name": "stdout",
     "output_type": "stream",
     "text": [
      "2\n"
     ]
    }
   ],
   "source": [
    "print(a)"
   ]
  },
  {
   "cell_type": "code",
   "execution_count": 15,
   "id": "3ca2241e",
   "metadata": {},
   "outputs": [
    {
     "data": {
      "text/plain": [
       "2"
      ]
     },
     "execution_count": 15,
     "metadata": {},
     "output_type": "execute_result"
    }
   ],
   "source": [
    "a"
   ]
  },
  {
   "cell_type": "code",
   "execution_count": 16,
   "id": "69d17629",
   "metadata": {},
   "outputs": [
    {
     "data": {
      "text/plain": [
       "10"
      ]
     },
     "execution_count": 16,
     "metadata": {},
     "output_type": "execute_result"
    }
   ],
   "source": [
    "10"
   ]
  },
  {
   "cell_type": "code",
   "execution_count": 17,
   "id": "29341753",
   "metadata": {},
   "outputs": [
    {
     "data": {
      "text/plain": [
       "(10, 20, 30)"
      ]
     },
     "execution_count": 17,
     "metadata": {},
     "output_type": "execute_result"
    }
   ],
   "source": [
    "10,20,30 # 튜플기능, 기억장소의 낭비를 줄일 수 있다."
   ]
  },
  {
   "cell_type": "code",
   "execution_count": 51,
   "id": "a5bc6eab",
   "metadata": {},
   "outputs": [],
   "source": [
    " b = 10,20,30 # 패킹(packing) : 여러개의 값을 하나의 변수에 담는것"
   ]
  },
  {
   "cell_type": "code",
   "execution_count": 52,
   "id": "76bf6b5b",
   "metadata": {},
   "outputs": [
    {
     "data": {
      "text/plain": [
       "(10, 20, 30)"
      ]
     },
     "execution_count": 52,
     "metadata": {},
     "output_type": "execute_result"
    }
   ],
   "source": [
    "b"
   ]
  },
  {
   "cell_type": "code",
   "execution_count": 53,
   "id": "7edbbbec",
   "metadata": {},
   "outputs": [
    {
     "name": "stdout",
     "output_type": "stream",
     "text": [
      "10 20 30\n"
     ]
    }
   ],
   "source": [
    "x, y, z = b\n",
    "print(x, y, z) #unpacking"
   ]
  },
  {
   "cell_type": "code",
   "execution_count": 2,
   "id": "39e7696d",
   "metadata": {},
   "outputs": [
    {
     "name": "stdout",
     "output_type": "stream",
     "text": [
      "10 20\n"
     ]
    }
   ],
   "source": [
    "a = 10\n",
    "b = 20\n",
    "print(a, b)"
   ]
  },
  {
   "cell_type": "code",
   "execution_count": 8,
   "id": "9f3657db",
   "metadata": {},
   "outputs": [
    {
     "name": "stdout",
     "output_type": "stream",
     "text": [
      "20 10\n"
     ]
    }
   ],
   "source": [
    "a,b = b, a\n",
    "print(a, b)"
   ]
  },
  {
   "cell_type": "markdown",
   "id": "03c735e2",
   "metadata": {},
   "source": [
    "## 표준 출력 함수 print()"
   ]
  },
  {
   "cell_type": "code",
   "execution_count": 32,
   "id": "e1c314a1",
   "metadata": {},
   "outputs": [
    {
     "name": "stdout",
     "output_type": "stream",
     "text": [
      "today\n",
      "one two three\n"
     ]
    }
   ],
   "source": [
    "#단순히 내용을 출력 print('출력 할 내용') or print(출력 할 변수)\n",
    "# 여러개의 값을 출력 print(\"내용1\", \"내용2\")\n",
    "print(\"today\")\n",
    "print(\"one two three\")"
   ]
  },
  {
   "cell_type": "code",
   "execution_count": 9,
   "id": "45b4a1e8",
   "metadata": {},
   "outputs": [
    {
     "data": {
      "text/plain": [
       "20"
      ]
     },
     "execution_count": 9,
     "metadata": {},
     "output_type": "execute_result"
    }
   ],
   "source": [
    "a # 위의 결과 떄문에 20 나옴"
   ]
  },
  {
   "cell_type": "code",
   "execution_count": 10,
   "id": "43e43ab9",
   "metadata": {},
   "outputs": [
    {
     "name": "stdout",
     "output_type": "stream",
     "text": [
      "20\n"
     ]
    }
   ],
   "source": [
    "print(a)"
   ]
  },
  {
   "cell_type": "code",
   "execution_count": 11,
   "id": "c3f9475a",
   "metadata": {},
   "outputs": [
    {
     "name": "stdout",
     "output_type": "stream",
     "text": [
      "20 10\n"
     ]
    }
   ],
   "source": [
    "print(a, b)"
   ]
  },
  {
   "cell_type": "markdown",
   "id": "f6336478",
   "metadata": {},
   "source": [
    "## 자료형(기본자료형)과 상수 처리"
   ]
  },
  {
   "cell_type": "code",
   "execution_count": 40,
   "id": "9f705ba7",
   "metadata": {},
   "outputs": [
    {
     "name": "stdout",
     "output_type": "stream",
     "text": [
      "<class 'str'>\n",
      "<class 'int'>\n"
     ]
    }
   ],
   "source": [
    "# 자료(data) : 가공이 되지 않은 or 처리가 되지 않은 값\n",
    "#자료형(data type) : 파이썬 언어에서 제공하는 기본 자료형\n",
    "## 데이터의 크기, 형태를 규정해 놓은 예약어\n",
    "### 문자열(string) : \" \" or ' ' =>str\n",
    "### 숫자(number) - 정수형(int), 실수형(float)\n",
    "### 논리형(boolean) - T or F, 형변환이 불가능하다\n",
    "# 자료형 확인 함수 : type()\n",
    "print(type('안녕하세요'))\n",
    "print(type(123))\n"
   ]
  },
  {
   "cell_type": "code",
   "execution_count": 42,
   "id": "a651c0e8",
   "metadata": {},
   "outputs": [
    {
     "name": "stdout",
     "output_type": "stream",
     "text": [
      "#하나만 출력한다.\n",
      "Hello phthon program......!\n",
      "\n",
      "#여러개 줄력한다.\n",
      "10 20 30\n",
      "안녕하세요 나는 정말 졸려요\n"
     ]
    }
   ],
   "source": [
    "#문자열(str)\n",
    "print(\"#하나만 출력한다.\")\n",
    "print(\"Hello phthon program......!\")\n",
    "print() # 개행 : 단순히 줄바꿈 처리\n",
    "print(\"#여러개 줄력한다.\")\n",
    "print(10, 20, 30)\n",
    "print(\"안녕하세요\", \"나는\", \"정말\", \"졸려요\")"
   ]
  },
  {
   "cell_type": "code",
   "execution_count": 43,
   "id": "09d6ba19",
   "metadata": {},
   "outputs": [
    {
     "name": "stdout",
     "output_type": "stream",
     "text": [
      "안녕하세요\n"
     ]
    }
   ],
   "source": [
    "print('안녕하세요')"
   ]
  },
  {
   "cell_type": "code",
   "execution_count": 47,
   "id": "ec82fa56",
   "metadata": {},
   "outputs": [
    {
     "ename": "SyntaxError",
     "evalue": "invalid syntax (3904732772.py, line 2)",
     "output_type": "error",
     "traceback": [
      "\u001b[1;36m  Input \u001b[1;32mIn [47]\u001b[1;36m\u001b[0m\n\u001b[1;33m    print(\"안녕하세요\" 라고 말해습니다.\")\u001b[0m\n\u001b[1;37m                  ^\u001b[0m\n\u001b[1;31mSyntaxError\u001b[0m\u001b[1;31m:\u001b[0m invalid syntax\n"
     ]
    }
   ],
   "source": [
    "#\"안녕하세요\" 라고 말해습니다.\n",
    "print(\"안녕하세요\" 라고 말해습니다.\")"
   ]
  },
  {
   "cell_type": "code",
   "execution_count": 65,
   "id": "c1050b95",
   "metadata": {},
   "outputs": [
    {
     "name": "stdout",
     "output_type": "stream",
     "text": [
      "\"안녕하세요\" 라고 말해습니다.\n"
     ]
    }
   ],
   "source": [
    "print('\"안녕하세요\" 라고 말해습니다.')"
   ]
  },
  {
   "cell_type": "code",
   "execution_count": 117,
   "id": "18ee95e9",
   "metadata": {},
   "outputs": [
    {
     "name": "stdout",
     "output_type": "stream",
     "text": [
      "이제는 '배가 고플' 시간이네요\n"
     ]
    }
   ],
   "source": [
    "print(\"이제는 '배가 고플' 시간이네요\")"
   ]
  },
  {
   "cell_type": "code",
   "execution_count": 13,
   "id": "8f5f74a1",
   "metadata": {},
   "outputs": [
    {
     "name": "stdout",
     "output_type": "stream",
     "text": [
      "\"안녕하세요\"라고 말해습니다.\n"
     ]
    }
   ],
   "source": [
    "#이스케이프 문자 - \\ 와 함께 조합해서 사용하는 특수한 문자\n",
    "## \\\" : 큰따옴를 의미\n",
    "## \\' : 작은따옴표를 의미\n",
    "print(\"\\\"안녕하세요\\\"라고 말해습니다.\") "
   ]
  },
  {
   "cell_type": "code",
   "execution_count": 85,
   "id": "26bfaada",
   "metadata": {},
   "outputs": [
    {
     "name": "stdout",
     "output_type": "stream",
     "text": [
      "안녕하세요\n",
      "안녕하세요\n"
     ]
    }
   ],
   "source": [
    "## \\n : 줄바꿈 의미( 개행)\n",
    "##\\t : tap을 의미\n",
    "print(\"안녕하세요\\n안녕하세요\")"
   ]
  },
  {
   "cell_type": "code",
   "execution_count": 58,
   "id": "0574451a",
   "metadata": {},
   "outputs": [
    {
     "name": "stdout",
     "output_type": "stream",
     "text": [
      "안녕하세요\t안녕하세요\n"
     ]
    }
   ],
   "source": [
    "print(\"안녕하세요\\t안녕하세요\")"
   ]
  },
  {
   "cell_type": "code",
   "execution_count": 60,
   "id": "7421af2b",
   "metadata": {},
   "outputs": [
    {
     "name": "stdout",
     "output_type": "stream",
     "text": [
      "\\\n"
     ]
    }
   ],
   "source": [
    "##\\\\ \n",
    "print(\"\\\\\")"
   ]
  },
  {
   "cell_type": "code",
   "execution_count": 62,
   "id": "0eaa2327",
   "metadata": {},
   "outputs": [
    {
     "data": {
      "text/plain": [
       "'\\n동해물과 백두산이 마르고 닳도록\\n하느님이 보우하사 우리나라 만세\\n무궁화 삼천리 화려강산 \\n대한사람 대한으로 길이 보전하세'"
      ]
     },
     "execution_count": 62,
     "metadata": {},
     "output_type": "execute_result"
    }
   ],
   "source": [
    "\"\"\"\n",
    "동해물과 백두산이 마르고 닳도록\n",
    "하느님이 보우하사 우리나라 만세\n",
    "무궁화 삼천리 화려강산 \n",
    "대한사람 대한으로 길이 보전하세\"\"\""
   ]
  },
  {
   "cell_type": "code",
   "execution_count": 63,
   "id": "1f4f15e7",
   "metadata": {},
   "outputs": [
    {
     "data": {
      "text/plain": [
       "'\\n동해물과 백두산이 마르고 닳도록\\n하느님이 보우하사 우리나라 만세\\n무궁화 삼천리 화려강산 \\n대한사람 대한으로 길이 보전하세'"
      ]
     },
     "execution_count": 63,
     "metadata": {},
     "output_type": "execute_result"
    }
   ],
   "source": [
    "'''\n",
    "동해물과 백두산이 마르고 닳도록\n",
    "하느님이 보우하사 우리나라 만세\n",
    "무궁화 삼천리 화려강산 \n",
    "대한사람 대한으로 길이 보전하세'''"
   ]
  },
  {
   "cell_type": "code",
   "execution_count": 69,
   "id": "f8cf7cc4",
   "metadata": {},
   "outputs": [],
   "source": [
    "#여러 줄 주석 처리 : 블럭처리 ctrl + /\n",
    "# 이것도 주석\n",
    "# 저것도 주석\n",
    "# 여기도 주석"
   ]
  },
  {
   "cell_type": "markdown",
   "id": "8661399e",
   "metadata": {},
   "source": [
    "#### 문자열 처리"
   ]
  },
  {
   "cell_type": "code",
   "execution_count": 70,
   "id": "8dd387eb",
   "metadata": {},
   "outputs": [
    {
     "data": {
      "text/plain": [
       "'문자열문자열2'"
      ]
     },
     "execution_count": 70,
     "metadata": {},
     "output_type": "execute_result"
    }
   ],
   "source": [
    "# 문자열 연결 연산자 : + , 연산 방향이 좌에서 우로\n",
    "10 + 20\n",
    "\"문자열\"+\"문자열2\""
   ]
  },
  {
   "cell_type": "code",
   "execution_count": 72,
   "id": "039070ae",
   "metadata": {},
   "outputs": [
    {
     "data": {
      "text/plain": [
       "'문자열130'"
      ]
     },
     "execution_count": 72,
     "metadata": {},
     "output_type": "execute_result"
    }
   ],
   "source": [
    "\"문자열1\"+\"30\""
   ]
  },
  {
   "cell_type": "code",
   "execution_count": 75,
   "id": "248c2aea",
   "metadata": {},
   "outputs": [
    {
     "data": {
      "text/plain": [
       "'문자열문자열문자열'"
      ]
     },
     "execution_count": 75,
     "metadata": {},
     "output_type": "execute_result"
    }
   ],
   "source": [
    "#문자열 반복 연산자 : *반복횟수\n",
    "\"문자열\" * 3"
   ]
  },
  {
   "cell_type": "code",
   "execution_count": 76,
   "id": "38830e0d",
   "metadata": {},
   "outputs": [
    {
     "data": {
      "text/plain": [
       "'안녕하세요'"
      ]
     },
     "execution_count": 76,
     "metadata": {},
     "output_type": "execute_result"
    }
   ],
   "source": [
    "#인데싱 : 문자열의 특정 위치값을 선택, [위치값]\n",
    "#인덱스의 시작은 0부터\n",
    "a = \"안녕하세요\"\n",
    "a"
   ]
  },
  {
   "cell_type": "code",
   "execution_count": 77,
   "id": "2b475a70",
   "metadata": {},
   "outputs": [
    {
     "data": {
      "text/plain": [
       "'안'"
      ]
     },
     "execution_count": 77,
     "metadata": {},
     "output_type": "execute_result"
    }
   ],
   "source": [
    "a[0]"
   ]
  },
  {
   "cell_type": "code",
   "execution_count": 78,
   "id": "456569fb",
   "metadata": {},
   "outputs": [
    {
     "data": {
      "text/plain": [
       "'녕'"
      ]
     },
     "execution_count": 78,
     "metadata": {},
     "output_type": "execute_result"
    }
   ],
   "source": [
    "a[1]"
   ]
  },
  {
   "cell_type": "code",
   "execution_count": 79,
   "id": "6ca55fa0",
   "metadata": {},
   "outputs": [
    {
     "data": {
      "text/plain": [
       "'하'"
      ]
     },
     "execution_count": 79,
     "metadata": {},
     "output_type": "execute_result"
    }
   ],
   "source": [
    "a[2]"
   ]
  },
  {
   "cell_type": "code",
   "execution_count": 80,
   "id": "d5d3fd1e",
   "metadata": {},
   "outputs": [
    {
     "data": {
      "text/plain": [
       "'세'"
      ]
     },
     "execution_count": 80,
     "metadata": {},
     "output_type": "execute_result"
    }
   ],
   "source": [
    "a[3]"
   ]
  },
  {
   "cell_type": "code",
   "execution_count": 81,
   "id": "ff0c063c",
   "metadata": {},
   "outputs": [
    {
     "data": {
      "text/plain": [
       "'요'"
      ]
     },
     "execution_count": 81,
     "metadata": {},
     "output_type": "execute_result"
    }
   ],
   "source": [
    "a[4]"
   ]
  },
  {
   "cell_type": "code",
   "execution_count": 82,
   "id": "a2ba1e8e",
   "metadata": {},
   "outputs": [
    {
     "data": {
      "text/plain": [
       "'요'"
      ]
     },
     "execution_count": 82,
     "metadata": {},
     "output_type": "execute_result"
    }
   ],
   "source": [
    "a[-1]"
   ]
  },
  {
   "cell_type": "code",
   "execution_count": 83,
   "id": "a6712a00",
   "metadata": {},
   "outputs": [
    {
     "data": {
      "text/plain": [
       "'하'"
      ]
     },
     "execution_count": 83,
     "metadata": {},
     "output_type": "execute_result"
    }
   ],
   "source": [
    "a[-3]"
   ]
  },
  {
   "cell_type": "code",
   "execution_count": 87,
   "id": "ceb19d4f",
   "metadata": {},
   "outputs": [
    {
     "data": {
      "text/plain": [
       "'안녕하세요'"
      ]
     },
     "execution_count": 87,
     "metadata": {},
     "output_type": "execute_result"
    }
   ],
   "source": [
    "# 문자열의 일부분(범위)을 선택(오라클에서 substr) : 슬라이싱[start : end], end-1만큼 처리\n",
    "a[0:5]"
   ]
  },
  {
   "cell_type": "code",
   "execution_count": 88,
   "id": "b957d25d",
   "metadata": {},
   "outputs": [
    {
     "data": {
      "text/plain": [
       "'안녕하세'"
      ]
     },
     "execution_count": 88,
     "metadata": {},
     "output_type": "execute_result"
    }
   ],
   "source": [
    "a[0:4]"
   ]
  },
  {
   "cell_type": "code",
   "execution_count": 89,
   "id": "018e6367",
   "metadata": {},
   "outputs": [
    {
     "data": {
      "text/plain": [
       "'안녕하세요'"
      ]
     },
     "execution_count": 89,
     "metadata": {},
     "output_type": "execute_result"
    }
   ],
   "source": [
    "a[:] # 아무것도 안 담으면 all 의 의미"
   ]
  },
  {
   "cell_type": "code",
   "execution_count": 90,
   "id": "3daa16ed",
   "metadata": {},
   "outputs": [
    {
     "data": {
      "text/plain": [
       "'녕하세'"
      ]
     },
     "execution_count": 90,
     "metadata": {},
     "output_type": "execute_result"
    }
   ],
   "source": [
    "a[1:4]"
   ]
  },
  {
   "cell_type": "code",
   "execution_count": 91,
   "id": "15049a1c",
   "metadata": {},
   "outputs": [
    {
     "data": {
      "text/plain": [
       "'안녕하세'"
      ]
     },
     "execution_count": 91,
     "metadata": {},
     "output_type": "execute_result"
    }
   ],
   "source": [
    "a[:4]"
   ]
  },
  {
   "cell_type": "code",
   "execution_count": 92,
   "id": "337ca4ec",
   "metadata": {},
   "outputs": [
    {
     "data": {
      "text/plain": [
       "'하세요'"
      ]
     },
     "execution_count": 92,
     "metadata": {},
     "output_type": "execute_result"
    }
   ],
   "source": [
    "a[2:]"
   ]
  },
  {
   "cell_type": "code",
   "execution_count": 95,
   "id": "33a1329b",
   "metadata": {},
   "outputs": [
    {
     "data": {
      "text/plain": [
       "'녕하세요'"
      ]
     },
     "execution_count": 95,
     "metadata": {},
     "output_type": "execute_result"
    }
   ],
   "source": [
    "a[1:10]"
   ]
  },
  {
   "cell_type": "code",
   "execution_count": 96,
   "id": "6510bf4b",
   "metadata": {
    "scrolled": true
   },
   "outputs": [
    {
     "name": "stdout",
     "output_type": "stream",
     "text": [
      "5\n"
     ]
    }
   ],
   "source": [
    "# len() 함수 : 문자열의 길이를 추출할 떄 사용하는 함수\n",
    "print(len(a))"
   ]
  },
  {
   "cell_type": "markdown",
   "id": "5bbdc3b5",
   "metadata": {},
   "source": [
    "# 변수와 배정대입연산자(대입할당연산자)"
   ]
  },
  {
   "cell_type": "code",
   "execution_count": 97,
   "id": "b8771f4d",
   "metadata": {},
   "outputs": [
    {
     "data": {
      "text/plain": [
       "3.14159265"
      ]
     },
     "execution_count": 97,
     "metadata": {},
     "output_type": "execute_result"
    }
   ],
   "source": [
    "#변수(variable) : 값을 지정하는 식별자, 기억공간\n",
    "pi = 3.14159265\n",
    "pi"
   ]
  },
  {
   "cell_type": "code",
   "execution_count": 98,
   "id": "a4826b80",
   "metadata": {},
   "outputs": [
    {
     "data": {
      "text/plain": [
       "float"
      ]
     },
     "execution_count": 98,
     "metadata": {},
     "output_type": "execute_result"
    }
   ],
   "source": [
    "type(pi)"
   ]
  },
  {
   "cell_type": "code",
   "execution_count": 100,
   "id": "109573c2",
   "metadata": {},
   "outputs": [
    {
     "data": {
      "text/plain": [
       "3.14"
      ]
     },
     "execution_count": 100,
     "metadata": {},
     "output_type": "execute_result"
    }
   ],
   "source": [
    "pi = 3.14\n",
    "pi"
   ]
  },
  {
   "cell_type": "code",
   "execution_count": 101,
   "id": "d3266fb6",
   "metadata": {},
   "outputs": [
    {
     "data": {
      "text/plain": [
       "6.28"
      ]
     },
     "execution_count": 101,
     "metadata": {},
     "output_type": "execute_result"
    }
   ],
   "source": [
    "pi + pi"
   ]
  },
  {
   "cell_type": "code",
   "execution_count": 102,
   "id": "4142c8be",
   "metadata": {},
   "outputs": [
    {
     "data": {
      "text/plain": [
       "5.140000000000001"
      ]
     },
     "execution_count": 102,
     "metadata": {},
     "output_type": "execute_result"
    }
   ],
   "source": [
    "pi + 2"
   ]
  },
  {
   "cell_type": "code",
   "execution_count": 103,
   "id": "ecc849ee",
   "metadata": {},
   "outputs": [
    {
     "data": {
      "text/plain": [
       "6.28"
      ]
     },
     "execution_count": 103,
     "metadata": {},
     "output_type": "execute_result"
    }
   ],
   "source": [
    "pi * 2"
   ]
  },
  {
   "cell_type": "code",
   "execution_count": 104,
   "id": "f3106f71",
   "metadata": {},
   "outputs": [
    {
     "data": {
      "text/plain": [
       "1.57"
      ]
     },
     "execution_count": 104,
     "metadata": {},
     "output_type": "execute_result"
    }
   ],
   "source": [
    "pi / 2"
   ]
  },
  {
   "cell_type": "code",
   "execution_count": 108,
   "id": "5974150a",
   "metadata": {},
   "outputs": [
    {
     "name": "stdout",
     "output_type": "stream",
     "text": [
      "원주율 = 3.1459265\n",
      "반지름 = 10\n",
      "원의 둘레= 62.91853\n",
      "원의면적= 314.59265\n",
      "원의 면적 2= 314.59265\n"
     ]
    }
   ],
   "source": [
    "# 원의 둘레와 면적을 계산하여 출력하는 프로그램\n",
    "# 변수의 선언과 할당 -초기화 or 선언문\n",
    "pi = 3.1459265\n",
    "r = 10\n",
    "\n",
    "area = r*r*pi\n",
    "#변수 참조\n",
    "print(\"원주율 =\", pi)\n",
    "print(\"반지름 =\", r)\n",
    "print(\"원의 둘레=\", 2* pi*r)\n",
    "print(\"원의면적=\", r*r*pi)\n",
    "print(\"원의 면적 2=\", area )"
   ]
  },
  {
   "cell_type": "code",
   "execution_count": 106,
   "id": "043f5a9f",
   "metadata": {
    "scrolled": true
   },
   "outputs": [
    {
     "data": {
      "text/plain": [
       "3.141592653589793"
      ]
     },
     "execution_count": 106,
     "metadata": {},
     "output_type": "execute_result"
    }
   ],
   "source": [
    "import math\n",
    "math. pi"
   ]
  },
  {
   "cell_type": "code",
   "execution_count": 110,
   "id": "60e98880",
   "metadata": {},
   "outputs": [
    {
     "data": {
      "text/plain": [
       "10"
      ]
     },
     "execution_count": 110,
     "metadata": {},
     "output_type": "execute_result"
    }
   ],
   "source": [
    "#배정대입연산자: 대입연산자와 산술연산자가 결함되어있을 때, 좌변과 우변에 동일변수 가 있을 때 \n",
    "# +=, *=, /=, %=(나머지), **=\n",
    "a = 0\n",
    "a = a + 10\n",
    "a "
   ]
  },
  {
   "cell_type": "code",
   "execution_count": 111,
   "id": "edc121b0",
   "metadata": {
    "scrolled": true
   },
   "outputs": [
    {
     "data": {
      "text/plain": [
       "10"
      ]
     },
     "execution_count": 111,
     "metadata": {},
     "output_type": "execute_result"
    }
   ],
   "source": [
    "a = 0\n",
    "#a = a + 10\n",
    "a=+10\n",
    "a "
   ]
  },
  {
   "cell_type": "code",
   "execution_count": 112,
   "id": "82ff3a66",
   "metadata": {},
   "outputs": [
    {
     "data": {
      "text/plain": [
       "10"
      ]
     },
     "execution_count": 112,
     "metadata": {},
     "output_type": "execute_result"
    }
   ],
   "source": [
    "a = 0\n",
    "#a = a + 10\n",
    "a+=10\n",
    "a "
   ]
  },
  {
   "cell_type": "code",
   "execution_count": 114,
   "id": "07c0bba6",
   "metadata": {
    "scrolled": true
   },
   "outputs": [
    {
     "data": {
      "text/plain": [
       "'안녕하세요!'"
      ]
     },
     "execution_count": 114,
     "metadata": {},
     "output_type": "execute_result"
    }
   ],
   "source": [
    "string = \"안녕하세요\"\n",
    "#string = string + \"!\"\n",
    "string += \"!\"\n",
    "string"
   ]
  },
  {
   "cell_type": "code",
   "execution_count": 115,
   "id": "e133595c",
   "metadata": {},
   "outputs": [],
   "source": [
    "#string = string * 3\n",
    "string *=3"
   ]
  },
  {
   "cell_type": "code",
   "execution_count": 116,
   "id": "47bc3ed7",
   "metadata": {
    "scrolled": true
   },
   "outputs": [
    {
     "data": {
      "text/plain": [
       "'안녕하세요!안녕하세요!안녕하세요!'"
      ]
     },
     "execution_count": 116,
     "metadata": {},
     "output_type": "execute_result"
    }
   ],
   "source": [
    "string"
   ]
  },
  {
   "cell_type": "markdown",
   "id": "dcb1f3ab",
   "metadata": {},
   "source": [
    "# 표준 입출력 함수 : 콘솔 환경 입출력\n",
    "- 콘솔(console) : 키보드와 모니터\n",
    "- 표준 입력 함수 : input()\n",
    "- 표준 출력 함수 : print()"
   ]
  },
  {
   "cell_type": "code",
   "execution_count": 118,
   "id": "36fcc1b3",
   "metadata": {
    "scrolled": true
   },
   "outputs": [
    {
     "name": "stdout",
     "output_type": "stream",
     "text": [
      "인사말을 입력하세요 : 프롬포트 박스\n"
     ]
    },
    {
     "data": {
      "text/plain": [
       "'프롬포트 박스'"
      ]
     },
     "execution_count": 118,
     "metadata": {},
     "output_type": "execute_result"
    }
   ],
   "source": [
    "input(\"인사말을 입력하세요 : \")"
   ]
  },
  {
   "cell_type": "code",
   "execution_count": 119,
   "id": "8a8185f3",
   "metadata": {
    "scrolled": true
   },
   "outputs": [
    {
     "name": "stdout",
     "output_type": "stream",
     "text": [
      "Hello\n"
     ]
    }
   ],
   "source": [
    "print(\"Hello\")"
   ]
  },
  {
   "cell_type": "code",
   "execution_count": 120,
   "id": "09e24e80",
   "metadata": {},
   "outputs": [
    {
     "name": "stdout",
     "output_type": "stream",
     "text": [
      "인사말을 입력하세요 : 꺼져\n"
     ]
    }
   ],
   "source": [
    "string = input(\"인사말을 입력하세요 : \")"
   ]
  },
  {
   "cell_type": "code",
   "execution_count": 121,
   "id": "198a549a",
   "metadata": {},
   "outputs": [
    {
     "data": {
      "text/plain": [
       "'꺼져'"
      ]
     },
     "execution_count": 121,
     "metadata": {},
     "output_type": "execute_result"
    }
   ],
   "source": [
    "string # print(string)"
   ]
  },
  {
   "cell_type": "code",
   "execution_count": 122,
   "id": "8b4a4985",
   "metadata": {},
   "outputs": [
    {
     "name": "stdout",
     "output_type": "stream",
     "text": [
      "숫자입력 =12345\n"
     ]
    },
    {
     "data": {
      "text/plain": [
       "'12345'"
      ]
     },
     "execution_count": 122,
     "metadata": {},
     "output_type": "execute_result"
    }
   ],
   "source": [
    "#input(): 함수를 통해 입력된 데이터는 '문자열형'으로 간주한다.\n",
    "number = input('숫자입력 =')\n",
    "number"
   ]
  },
  {
   "cell_type": "code",
   "execution_count": 123,
   "id": "56c11578",
   "metadata": {},
   "outputs": [
    {
     "name": "stdout",
     "output_type": "stream",
     "text": [
      "<class 'str'>\n"
     ]
    }
   ],
   "source": [
    "print(type(number))"
   ]
  },
  {
   "cell_type": "code",
   "execution_count": 125,
   "id": "fba8e745",
   "metadata": {},
   "outputs": [
    {
     "name": "stdout",
     "output_type": "stream",
     "text": [
      "첫번째 수 = 10\n",
      "두번쨰 수 = 20\n",
      "더하기 :  1020\n",
      "첫번째 수 = 10\n",
      "두번쨰 수 = 20\n",
      "더하기 :  30\n"
     ]
    }
   ],
   "source": [
    "# Q두개의 숫자를 입력받아 사칙연산을 출력하는 프로그램을 구현하시오\n",
    "\n",
    "first = input(\"첫번째 수 = \")\n",
    "second = input(\"두번쨰 수 = \")\n",
    "\n",
    "print(\"더하기 : \", first + second)\n",
    "\n",
    "first = int(input(\"첫번째 수 = \"))\n",
    "second = int(input(\"두번쨰 수 = \"))\n",
    "\n",
    "print(\"더하기 : \", first + second)"
   ]
  },
  {
   "cell_type": "markdown",
   "id": "a96c9026",
   "metadata": {},
   "source": [
    "# 형변환 : casting\n",
    "- 자료형을 다른 자료형으로 바꾸는 기능\n",
    "- 논리형(1byte( : 형변환 불가능\n",
    "- 정수형 < 실수형 < 문자형 # ex) 소숫점을 없애는건 데이터 손실이 생길 수 있음, 꼭 표시 해줘야함\n",
    "- 자동형변환(묵시적 형변환, promotion) : 작은 자료형을 큰 자료형에 담을 때\n",
    "- 강제형변환(명시적 형변환, casting) : 큰 자료를 작은 자료형에 담을 때 \n",
    "- int() : 문자열을 정수형으로 변환\n",
    "- float(): 문자열을 실수형으로 변환, 정수형을 실수형으로 변환\n",
    "- str() : 정수 또는 실수형을 문자형으로 변환\n"
   ]
  },
  {
   "cell_type": "code",
   "execution_count": 126,
   "id": "9fa21755",
   "metadata": {},
   "outputs": [
    {
     "ename": "ValueError",
     "evalue": "invalid literal for int() with base 10: '안녕하세요'",
     "output_type": "error",
     "traceback": [
      "\u001b[1;31m---------------------------------------------------------------------------\u001b[0m",
      "\u001b[1;31mValueError\u001b[0m                                Traceback (most recent call last)",
      "Input \u001b[1;32mIn [126]\u001b[0m, in \u001b[0;36m<cell line: 1>\u001b[1;34m()\u001b[0m\n\u001b[1;32m----> 1\u001b[0m \u001b[38;5;28;43mint\u001b[39;49m\u001b[43m(\u001b[49m\u001b[38;5;124;43m\"\u001b[39;49m\u001b[38;5;124;43m안녕하세요\u001b[39;49m\u001b[38;5;124;43m\"\u001b[39;49m\u001b[43m)\u001b[49m\n",
      "\u001b[1;31mValueError\u001b[0m: invalid literal for int() with base 10: '안녕하세요'"
     ]
    }
   ],
   "source": [
    "int(\"안녕하세요\")#ValueError     : 정수형으로 변경할 수 없다"
   ]
  },
  {
   "cell_type": "code",
   "execution_count": 127,
   "id": "55730975",
   "metadata": {},
   "outputs": [
    {
     "data": {
      "text/plain": [
       "1987"
      ]
     },
     "execution_count": 127,
     "metadata": {},
     "output_type": "execute_result"
    }
   ],
   "source": [
    "int(\"1987\")"
   ]
  },
  {
   "cell_type": "code",
   "execution_count": 128,
   "id": "582d2cd0",
   "metadata": {},
   "outputs": [
    {
     "ename": "ValueError",
     "evalue": "invalid literal for int() with base 10: '52.273'",
     "output_type": "error",
     "traceback": [
      "\u001b[1;31m---------------------------------------------------------------------------\u001b[0m",
      "\u001b[1;31mValueError\u001b[0m                                Traceback (most recent call last)",
      "Input \u001b[1;32mIn [128]\u001b[0m, in \u001b[0;36m<cell line: 1>\u001b[1;34m()\u001b[0m\n\u001b[1;32m----> 1\u001b[0m \u001b[38;5;28;43mint\u001b[39;49m\u001b[43m(\u001b[49m\u001b[38;5;124;43m\"\u001b[39;49m\u001b[38;5;124;43m52.273\u001b[39;49m\u001b[38;5;124;43m\"\u001b[39;49m\u001b[43m)\u001b[49m\n",
      "\u001b[1;31mValueError\u001b[0m: invalid literal for int() with base 10: '52.273'"
     ]
    }
   ],
   "source": [
    "int(\"52.273\") # \" \" 만벗겨지는 거라서, \"\" 가 없어 져도 정수가 되지는 않음"
   ]
  },
  {
   "cell_type": "code",
   "execution_count": 129,
   "id": "798c8f12",
   "metadata": {},
   "outputs": [
    {
     "data": {
      "text/plain": [
       "52.273"
      ]
     },
     "execution_count": 129,
     "metadata": {},
     "output_type": "execute_result"
    }
   ],
   "source": [
    "float(\"52.273\")"
   ]
  },
  {
   "cell_type": "code",
   "execution_count": 2,
   "id": "dd7c33d8",
   "metadata": {},
   "outputs": [
    {
     "name": "stdout",
     "output_type": "stream",
     "text": [
      "inch = 5\n",
      "cm =  12.7\n"
     ]
    }
   ],
   "source": [
    "# Q 단위변환 inch  단위를 cm로 변환하는 프로그램을 구현하시오 - 안치를 입력받아라\n",
    "##1inch = 2.54cm\n",
    "\n",
    "\n",
    "\n",
    "inch = int(input(\"inch = \"))\n",
    "\n",
    "print(\"cm = \", inch * 2.54)\n",
    "\n"
   ]
  },
  {
   "cell_type": "code",
   "execution_count": null,
   "id": "7c584f88",
   "metadata": {},
   "outputs": [],
   "source": [
    "#쌤이 한거\n",
    "찾아 넣기"
   ]
  },
  {
   "cell_type": "code",
   "execution_count": 12,
   "id": "5fb1ffa8",
   "metadata": {},
   "outputs": [
    {
     "name": "stdout",
     "output_type": "stream",
     "text": [
      "초를 입력하세요 : 4520\n",
      "시간 1 분 15 초 20\n"
     ]
    }
   ],
   "source": [
    "#Q 초를 입력받아  시, 분, 초로 출력되는 프로그램  다시 다시 다ㅅ\n",
    "## 1 min = 60sec, 1 hour = 60min =60 * 60sec\n",
    "## 725초 => 시간 분 초\n",
    "\n",
    "cho = int(input(\"초를 입력하세요 : \"))\n",
    "sigan = cho // 3600\n",
    "bun = cho % 3600\n",
    "bun2 = bun // 60\n",
    "sec = bun % 60\n",
    "print(\"시간\" , sigan, \"분\", bun2, \"초\", sec )\n",
    "\n",
    "\n",
    "\n",
    "            \n",
    "# cho = float(input(\"초를 입력하세요 :\"))\n",
    "# sigan = float(cho) // 3600\n",
    "# bun = float(cho) % 3600\n",
    "# bun2 = float(bun) // 3600\n",
    "# sec =float(bun) % 60\n",
    "# print(\"시간\", float(sigan))\n",
    "# print(\"분\", float(bun2))\n",
    "# print(\"초\",float(sec) )\n",
    "# # cho\n",
    "\n",
    "\n"
   ]
  },
  {
   "cell_type": "code",
   "execution_count": 13,
   "id": "580b4d28",
   "metadata": {},
   "outputs": [
    {
     "data": {
      "text/plain": [
       "3.141592653589793"
      ]
     },
     "execution_count": 13,
     "metadata": {},
     "output_type": "execute_result"
    }
   ],
   "source": [
    "# Q 원의 반지름을 입력받아 원의 둘레와 면적을 구하는 프로그램을 작성하시오.\n",
    "## 원의 둘레 = 2*원주율*반지름(r)\n",
    "##원의 면적 = 반지름 * 반지름 * 원주율\n",
    "#변수 선언, 변수 합당, 변수 참조\n",
    "\n",
    "import math\n",
    "math. pi"
   ]
  },
  {
   "cell_type": "code",
   "execution_count": 14,
   "id": "f39e1954",
   "metadata": {},
   "outputs": [
    {
     "name": "stdout",
     "output_type": "stream",
     "text": [
      "반지름 : 5\n",
      "둘레 :  31.41592653589793\n",
      "면적:  78.53981633974483\n"
     ]
    }
   ],
   "source": [
    "r =float(input(\"반지름 : \"))\n",
    "dul =float(2* math.pi * r)\n",
    "print(\"둘레 : \", dul)\n",
    "\n",
    "myen = float(r**2 * math.pi)\n",
    "print(\"면적: \", myen)\n"
   ]
  },
  {
   "cell_type": "markdown",
   "id": "ebc8ee66",
   "metadata": {},
   "source": [
    "# 표준 풀력 함수와 서식"
   ]
  },
  {
   "cell_type": "code",
   "execution_count": 15,
   "id": "fcf50761",
   "metadata": {},
   "outputs": [
    {
     "name": "stdout",
     "output_type": "stream",
     "text": [
      "1 2 3\n"
     ]
    }
   ],
   "source": [
    "print(1, 2, 3 )"
   ]
  },
  {
   "cell_type": "code",
   "execution_count": 17,
   "id": "f2bf257e",
   "metadata": {},
   "outputs": [
    {
     "name": "stdout",
     "output_type": "stream",
     "text": [
      "1, 2, 3\n"
     ]
    }
   ],
   "source": [
    "print(1, 2, 3, sep=', ')"
   ]
  },
  {
   "cell_type": "code",
   "execution_count": 18,
   "id": "e85c7bb8",
   "metadata": {},
   "outputs": [
    {
     "name": "stdout",
     "output_type": "stream",
     "text": [
      "1,2,3\n"
     ]
    }
   ],
   "source": [
    "print(1, 2, 3, sep=',')"
   ]
  },
  {
   "cell_type": "code",
   "execution_count": 19,
   "id": "06637d69",
   "metadata": {},
   "outputs": [
    {
     "name": "stdout",
     "output_type": "stream",
     "text": [
      "helloworld\n"
     ]
    }
   ],
   "source": [
    "print('hello', 'world', sep = '')"
   ]
  },
  {
   "cell_type": "code",
   "execution_count": 22,
   "id": "b45e20d8",
   "metadata": {},
   "outputs": [
    {
     "name": "stdout",
     "output_type": "stream",
     "text": [
      "hello X world\n"
     ]
    }
   ],
   "source": [
    "print('hello', 'world', sep = ' X ')"
   ]
  },
  {
   "cell_type": "code",
   "execution_count": 23,
   "id": "5db1b772",
   "metadata": {},
   "outputs": [
    {
     "name": "stdout",
     "output_type": "stream",
     "text": [
      "1\n",
      "2\n",
      "3\n"
     ]
    }
   ],
   "source": [
    "print(1, 2, 3, sep='\\n')"
   ]
  },
  {
   "cell_type": "code",
   "execution_count": 26,
   "id": "2bbc9245",
   "metadata": {},
   "outputs": [
    {
     "name": "stdout",
     "output_type": "stream",
     "text": [
      "동해물과 백두산이\n",
      "마르고 닳도록\n",
      "하느님이 보우하사\n",
      "우리나라 만세\n"
     ]
    }
   ],
   "source": [
    "print('동해물과 백두산이', '마르고 닳도록', '하느님이 보우하사', '우리나라 만세', sep ='\\n')"
   ]
  },
  {
   "cell_type": "code",
   "execution_count": 27,
   "id": "bd103798",
   "metadata": {},
   "outputs": [
    {
     "name": "stdout",
     "output_type": "stream",
     "text": [
      "Help on method raw_input in module ipykernel.kernelbase:\n",
      "\n",
      "raw_input(prompt='') method of ipykernel.ipkernel.IPythonKernel instance\n",
      "    Forward raw_input to frontends\n",
      "    \n",
      "    Raises\n",
      "    ------\n",
      "    StdinNotImplementedError if active frontend doesn't support stdin.\n",
      "\n"
     ]
    }
   ],
   "source": [
    "# 도움말 : help()\n",
    "help(input)"
   ]
  },
  {
   "cell_type": "code",
   "execution_count": 42,
   "id": "27996520",
   "metadata": {},
   "outputs": [
    {
     "name": "stdout",
     "output_type": "stream",
     "text": [
      "9\n",
      "x =  9\n",
      "x = 9\n",
      "x =  9 y =  11\n",
      "x = 9, y = 11\n"
     ]
    }
   ],
   "source": [
    "x = 9\n",
    "y = 11\n",
    "# 형식화된 문자열 . format (출력할 값)\n",
    "\n",
    "print(x)\n",
    "print(\"x = \", x)\n",
    "print(\"x = {0}\".format(x))\n",
    "print('x = ', x, \"y = \", y)\n",
    "print(\"x = {}, y = {}\".format(x, y))"
   ]
  },
  {
   "cell_type": "code",
   "execution_count": 46,
   "id": "2f96faf9",
   "metadata": {},
   "outputs": [
    {
     "name": "stdout",
     "output_type": "stream",
     "text": [
      "실수 1: 3.074\n",
      "실수 2: 7.3\n",
      "실수 3: 2.67\n",
      "실수 4:     2.6667\n"
     ]
    }
   ],
   "source": [
    "# 서식기호와 함께 : %s(문자열), %d(정수형), %f(실수형)/ , 아니라 .format 써야함\n",
    "print(\"실수 1: {0:.3f}\". format(8.3/2.7)) # 소수 이하 세자리까지 출력해라,f = float\n",
    "xx = 2.5 + 4.8\n",
    "print(\"실수 2: {0:.1f}\". format(xx)) #소수 이하 1자리\n",
    "r = 8/3\n",
    "# 다른 프로그램은 r = 8/3 => 결과가 정수만 , r = 8/float(3) => 실수가 나옴\n",
    "print(\"실수 3: {0:.2f}\". format(r)) \n",
    "#전체 자릿수 지정\n",
    "print(\"실수 4: {0:10.4f}\". format(8.0/3))"
   ]
  },
  {
   "cell_type": "code",
   "execution_count": 48,
   "id": "2147f3cb",
   "metadata": {},
   "outputs": [
    {
     "data": {
      "text/plain": [
       "'10.'"
      ]
     },
     "execution_count": 48,
     "metadata": {},
     "output_type": "execute_result"
    }
   ],
   "source": [
    "\"{}.\".format(10) # 문자열의 format() 함수"
   ]
  },
  {
   "cell_type": "code",
   "execution_count": 57,
   "id": "957b6503",
   "metadata": {},
   "outputs": [
    {
     "data": {
      "text/plain": [
       "'10 50'"
      ]
     },
     "execution_count": 57,
     "metadata": {},
     "output_type": "execute_result"
    }
   ],
   "source": [
    "\"{} {}\".format(10,50)"
   ]
  },
  {
   "cell_type": "code",
   "execution_count": 56,
   "id": "71fcc52c",
   "metadata": {},
   "outputs": [],
   "source": [
    "str = \"{}\".format(10) #할당 : 메모리에 담는다"
   ]
  },
  {
   "cell_type": "code",
   "execution_count": 58,
   "id": "1eda0181",
   "metadata": {},
   "outputs": [
    {
     "data": {
      "text/plain": [
       "'10'"
      ]
     },
     "execution_count": 58,
     "metadata": {},
     "output_type": "execute_result"
    }
   ],
   "source": [
    "str #참조"
   ]
  },
  {
   "cell_type": "code",
   "execution_count": 60,
   "id": "8968aca5",
   "metadata": {},
   "outputs": [
    {
     "data": {
      "text/plain": [
       "'10'"
      ]
     },
     "execution_count": 60,
     "metadata": {},
     "output_type": "execute_result"
    }
   ],
   "source": [
    "aa = \"{0:d}\". format(10) # '10 ' 이지만 숫자\n",
    "aa"
   ]
  },
  {
   "cell_type": "code",
   "execution_count": 87,
   "id": "7f25a925",
   "metadata": {},
   "outputs": [
    {
     "data": {
      "text/plain": [
       "'        10'"
      ]
     },
     "execution_count": 87,
     "metadata": {},
     "output_type": "execute_result"
    }
   ],
   "source": [
    "aa = \"{0:10d}\".format(10)\n",
    "aa"
   ]
  },
  {
   "cell_type": "code",
   "execution_count": 62,
   "id": "d81dd871",
   "metadata": {},
   "outputs": [
    {
     "data": {
      "text/plain": [
       "'12.345'"
      ]
     },
     "execution_count": 62,
     "metadata": {},
     "output_type": "execute_result"
    }
   ],
   "source": [
    "bb = \"{}\".format(12.345)\n",
    "bb"
   ]
  },
  {
   "cell_type": "code",
   "execution_count": 63,
   "id": "caf45882",
   "metadata": {},
   "outputs": [
    {
     "data": {
      "text/plain": [
       "'12.345000'"
      ]
     },
     "execution_count": 63,
     "metadata": {},
     "output_type": "execute_result"
    }
   ],
   "source": [
    "bb = \"{:f}\".format(12.345) #기본서식이 소수점 이하 6자리\n",
    "bb"
   ]
  },
  {
   "cell_type": "code",
   "execution_count": 65,
   "id": "2b35c5fa",
   "metadata": {},
   "outputs": [
    {
     "data": {
      "text/plain": [
       "'     +12.345000'"
      ]
     },
     "execution_count": 65,
     "metadata": {},
     "output_type": "execute_result"
    }
   ],
   "source": [
    "bb = \"{:+15f}\".format(12.345)\n",
    "bb"
   ]
  },
  {
   "cell_type": "code",
   "execution_count": 14,
   "id": "7d9035ee",
   "metadata": {},
   "outputs": [
    {
     "data": {
      "text/plain": [
       "'+0000012.345000'"
      ]
     },
     "execution_count": 14,
     "metadata": {},
     "output_type": "execute_result"
    }
   ],
   "source": [
    "bb = \"{:+015f}\".format(12.345) # 값이 원래 +라서 중괄호에 붙여야 가져와야함. 숫자를 -로 바꾸고 싶으면 format(12.345)\n",
    "bb"
   ]
  },
  {
   "cell_type": "code",
   "execution_count": 70,
   "id": "ab5bfe74",
   "metadata": {},
   "outputs": [
    {
     "data": {
      "text/plain": [
       "'         12.345'"
      ]
     },
     "execution_count": 70,
     "metadata": {},
     "output_type": "execute_result"
    }
   ],
   "source": [
    "bb = \"{:15.3f}\".format(12.345)\n",
    "bb"
   ]
  },
  {
   "cell_type": "code",
   "execution_count": 71,
   "id": "b51324eb",
   "metadata": {},
   "outputs": [
    {
     "data": {
      "text/plain": [
       "'          12.35'"
      ]
     },
     "execution_count": 71,
     "metadata": {},
     "output_type": "execute_result"
    }
   ],
   "source": [
    "bb = \"{:15.2f}\".format(12.345)\n",
    "bb"
   ]
  },
  {
   "cell_type": "code",
   "execution_count": 80,
   "id": "625db085",
   "metadata": {},
   "outputs": [
    {
     "data": {
      "text/plain": [
       "'           12.3'"
      ]
     },
     "execution_count": 80,
     "metadata": {},
     "output_type": "execute_result"
    }
   ],
   "source": [
    "bb = \"{:15.1f}\".format(12.345) #\n",
    "bb"
   ]
  },
  {
   "cell_type": "markdown",
   "id": "30f159fa",
   "metadata": {},
   "source": [
    "### 표준 출력 함수 : print(\"문자열 or 서식\")\n",
    "- 서식(format) : 데이터의 자료형과 데이터의 자릿수를 지정하는 형식\n",
    "- 열거연산자(,)\n",
    "- sep 매개변수: print(\"출력내용\", \"출력내용\", sep=\"내가 , 자리에 대신해서 넣고싶은거 넣기\"), 구분자\n",
    "- end = \"\\n\" (개행)\n",
    "- %(나머지 연산자)를 이용해서 형식 및 위치 지정(type 바꿀 수 있음)"
   ]
  },
  {
   "cell_type": "code",
   "execution_count": 88,
   "id": "299c83db",
   "metadata": {},
   "outputs": [
    {
     "name": "stdout",
     "output_type": "stream",
     "text": [
      "출력내용 출력내용\n"
     ]
    }
   ],
   "source": [
    "print(\"출력내용\", \"출력내용\")"
   ]
  },
  {
   "cell_type": "code",
   "execution_count": 89,
   "id": "8e9c60ff",
   "metadata": {},
   "outputs": [
    {
     "name": "stdout",
     "output_type": "stream",
     "text": [
      "출력내용\n",
      "출력내용\n"
     ]
    }
   ],
   "source": [
    "print(\"출력내용\")\n",
    "print(\"출력내용\")"
   ]
  },
  {
   "cell_type": "code",
   "execution_count": 90,
   "id": "3310f6b2",
   "metadata": {},
   "outputs": [
    {
     "name": "stdout",
     "output_type": "stream",
     "text": [
      "출력내용\n",
      "\n",
      "출력내용\n"
     ]
    }
   ],
   "source": [
    "print(\"출력내용\")\n",
    "print()\n",
    "print(\"출력내용\")"
   ]
  },
  {
   "cell_type": "code",
   "execution_count": 91,
   "id": "8dbf1c01",
   "metadata": {},
   "outputs": [
    {
     "name": "stdout",
     "output_type": "stream",
     "text": [
      "출력내용,출력내용\n"
     ]
    }
   ],
   "source": [
    "print(\"출력내용\", \"출력내용\",sep = ',')"
   ]
  },
  {
   "cell_type": "code",
   "execution_count": 92,
   "id": "b1e196e7",
   "metadata": {},
   "outputs": [
    {
     "name": "stdout",
     "output_type": "stream",
     "text": [
      "출력내용, 출력내용\n"
     ]
    }
   ],
   "source": [
    "print(\"출력내용\", \"출력내용\",sep = ', ')"
   ]
  },
  {
   "cell_type": "code",
   "execution_count": 95,
   "id": "5bc5e4d1",
   "metadata": {},
   "outputs": [
    {
     "name": "stdout",
     "output_type": "stream",
     "text": [
      "출력내용출력내용\n"
     ]
    }
   ],
   "source": [
    "print(\"출력내용\",end = \"\")\n",
    "print(\"출력내용\")"
   ]
  },
  {
   "cell_type": "code",
   "execution_count": 99,
   "id": "8cd2453c",
   "metadata": {},
   "outputs": [
    {
     "name": "stdout",
     "output_type": "stream",
     "text": [
      "출력내용출력내용\n"
     ]
    }
   ],
   "source": [
    "print(\"출력내용\" + \"출력내용\")"
   ]
  },
  {
   "cell_type": "code",
   "execution_count": 104,
   "id": "61397f4e",
   "metadata": {},
   "outputs": [
    {
     "data": {
      "text/plain": [
       "'12.35 - 7'"
      ]
     },
     "execution_count": 104,
     "metadata": {},
     "output_type": "execute_result"
    }
   ],
   "source": [
    "#형식지정문자열을 이용해서 출력 위치 지정 : \"\".format()\n",
    "#string. format\n",
    "bb = \"{0:.2f} - {1:.0f}\".format(12.345, 7.25)\n",
    "bb"
   ]
  },
  {
   "cell_type": "code",
   "execution_count": 105,
   "id": "de3ead00",
   "metadata": {},
   "outputs": [
    {
     "name": "stdout",
     "output_type": "stream",
     "text": [
      "홍길동 33 187.45\n"
     ]
    }
   ],
   "source": [
    "# % 기호 : %s(문자열로 바꿔라), %d(정수형으로 바꿔라), %f(실수형으로 바ㄱ꿔라)\n",
    "name = \"홍길동\"\n",
    "age = 33\n",
    "height = 187.45\n",
    "\n",
    "print(name, age, height)"
   ]
  },
  {
   "cell_type": "code",
   "execution_count": 106,
   "id": "3924e1f9",
   "metadata": {},
   "outputs": [
    {
     "name": "stdout",
     "output_type": "stream",
     "text": [
      "나이:  33 세\n"
     ]
    }
   ],
   "source": [
    "print(\"나이: \",age, \"세\")"
   ]
  },
  {
   "cell_type": "code",
   "execution_count": 107,
   "id": "e43ca903",
   "metadata": {},
   "outputs": [
    {
     "name": "stdout",
     "output_type": "stream",
     "text": [
      "나이 : 33세\n"
     ]
    }
   ],
   "source": [
    "print(\"나이 : {}세\".format(age))"
   ]
  },
  {
   "cell_type": "code",
   "execution_count": 109,
   "id": "30d58db2",
   "metadata": {},
   "outputs": [
    {
     "name": "stdout",
     "output_type": "stream",
     "text": [
      "나이 : 33 세\n"
     ]
    }
   ],
   "source": [
    "print(\"나이 : %d 세\" % age) #%기호를 쓰면 , 가 아니라 %를 써야함=> %d 자리에 age 들어감"
   ]
  },
  {
   "cell_type": "code",
   "execution_count": 110,
   "id": "903081f2",
   "metadata": {},
   "outputs": [
    {
     "name": "stdout",
     "output_type": "stream",
     "text": [
      "홍길동 은 내친구\n"
     ]
    }
   ],
   "source": [
    "print(name, \"은 내친구\")"
   ]
  },
  {
   "cell_type": "code",
   "execution_count": 111,
   "id": "a4f9d619",
   "metadata": {},
   "outputs": [
    {
     "name": "stdout",
     "output_type": "stream",
     "text": [
      "홍길동은 내친구\n"
     ]
    }
   ],
   "source": [
    "print(name +\"은 내친구\")"
   ]
  },
  {
   "cell_type": "code",
   "execution_count": 112,
   "id": "949f5928",
   "metadata": {},
   "outputs": [
    {
     "name": "stdout",
     "output_type": "stream",
     "text": [
      "홍길동은 내친구\n"
     ]
    }
   ],
   "source": [
    "print(\"{}은 내친구\".format(name))"
   ]
  },
  {
   "cell_type": "code",
   "execution_count": 113,
   "id": "91fa22d6",
   "metadata": {},
   "outputs": [
    {
     "name": "stdout",
     "output_type": "stream",
     "text": [
      "홍길동       은 내친구\n"
     ]
    }
   ],
   "source": [
    "print(\"{:10s}은 내친구\".format(name))"
   ]
  },
  {
   "cell_type": "code",
   "execution_count": 118,
   "id": "b348dd58",
   "metadata": {},
   "outputs": [
    {
     "name": "stdout",
     "output_type": "stream",
     "text": [
      "홍길동은 내친구\n"
     ]
    }
   ],
   "source": [
    "print(\"%s은 내친구\" % name)"
   ]
  },
  {
   "cell_type": "code",
   "execution_count": 126,
   "id": "43768e2c",
   "metadata": {},
   "outputs": [
    {
     "name": "stdout",
     "output_type": "stream",
     "text": [
      "당첨확률 98%입니다\n"
     ]
    }
   ],
   "source": [
    "rate = 98\n",
    "print(\"당첨확률 {}%입니다\".format(rate))"
   ]
  },
  {
   "cell_type": "code",
   "execution_count": 125,
   "id": "29949248",
   "metadata": {},
   "outputs": [
    {
     "name": "stdout",
     "output_type": "stream",
     "text": [
      "당첨확률 98%입니다\n"
     ]
    }
   ],
   "source": [
    "rate = int(98)\n",
    "print(\"당첨확률 {}%입니다\".format(rate))"
   ]
  },
  {
   "cell_type": "code",
   "execution_count": 124,
   "id": "006c0579",
   "metadata": {},
   "outputs": [
    {
     "ename": "TypeError",
     "evalue": "can only concatenate str (not \"int\") to str",
     "output_type": "error",
     "traceback": [
      "\u001b[1;31m---------------------------------------------------------------------------\u001b[0m",
      "\u001b[1;31mTypeError\u001b[0m                                 Traceback (most recent call last)",
      "Input \u001b[1;32mIn [124]\u001b[0m, in \u001b[0;36m<cell line: 1>\u001b[1;34m()\u001b[0m\n\u001b[1;32m----> 1\u001b[0m \u001b[38;5;28mprint\u001b[39m(\u001b[38;5;124;43m\"\u001b[39;49m\u001b[38;5;124;43m당첨확률\u001b[39;49m\u001b[38;5;124;43m\"\u001b[39;49m\u001b[38;5;241;43m+\u001b[39;49m\u001b[43m \u001b[49m\u001b[43mrate\u001b[49m \u001b[38;5;241m+\u001b[39m \u001b[38;5;124m\"\u001b[39m\u001b[38;5;124m%\u001b[39m\u001b[38;5;124m입니다\u001b[39m\u001b[38;5;124m\"\u001b[39m)\n",
      "\u001b[1;31mTypeError\u001b[0m: can only concatenate str (not \"int\") to str"
     ]
    }
   ],
   "source": [
    "print(\"당첨확률\"+ rate + \"%입니다\")"
   ]
  },
  {
   "cell_type": "code",
   "execution_count": 127,
   "id": "d9b05f9a",
   "metadata": {},
   "outputs": [
    {
     "ename": "TypeError",
     "evalue": "not enough arguments for format string",
     "output_type": "error",
     "traceback": [
      "\u001b[1;31m---------------------------------------------------------------------------\u001b[0m",
      "\u001b[1;31mTypeError\u001b[0m                                 Traceback (most recent call last)",
      "Input \u001b[1;32mIn [127]\u001b[0m, in \u001b[0;36m<cell line: 1>\u001b[1;34m()\u001b[0m\n\u001b[1;32m----> 1\u001b[0m \u001b[38;5;28mprint\u001b[39m(\u001b[38;5;124;43m\"\u001b[39;49m\u001b[38;5;124;43m당첨확률은 \u001b[39;49m\u001b[38;5;132;43;01m%d\u001b[39;49;00m\u001b[38;5;124;43m%\u001b[39;49m\u001b[38;5;124;43m입니다. \u001b[39;49m\u001b[38;5;124;43m\"\u001b[39;49m\u001b[43m \u001b[49m\u001b[38;5;241;43m%\u001b[39;49m\u001b[43m(\u001b[49m\u001b[43mrate\u001b[49m\u001b[43m)\u001b[49m)\n",
      "\u001b[1;31mTypeError\u001b[0m: not enough arguments for format string"
     ]
    }
   ],
   "source": [
    "print(\"당첨확률은 %d%입니다. \" %(rate)) "
   ]
  },
  {
   "cell_type": "code",
   "execution_count": 128,
   "id": "09861619",
   "metadata": {},
   "outputs": [
    {
     "name": "stdout",
     "output_type": "stream",
     "text": [
      "당첨확률은 98%입니다. \n"
     ]
    }
   ],
   "source": [
    "print(\"당첨확률은 %d%%입니다. \" %(rate)) # %두개럴 써서 내가 %를 쓸꺼라는걸 표시 해줘야함"
   ]
  },
  {
   "cell_type": "code",
   "execution_count": 133,
   "id": "fb8ca352",
   "metadata": {},
   "outputs": [
    {
     "name": "stdout",
     "output_type": "stream",
     "text": [
      "원주율 :       3.14\n"
     ]
    }
   ],
   "source": [
    "pi = 3.141592\n",
    "print(\"원주율 : %10.2f\" % pi)"
   ]
  },
  {
   "cell_type": "code",
   "execution_count": 134,
   "id": "002ef4c2",
   "metadata": {},
   "outputs": [
    {
     "name": "stdout",
     "output_type": "stream",
     "text": [
      "원주율 : 3.14\n"
     ]
    }
   ],
   "source": [
    "pi = 3.141592\n",
    "print(\"원주율 : %.2f\" % pi)"
   ]
  },
  {
   "cell_type": "code",
   "execution_count": null,
   "id": "8540aabe",
   "metadata": {},
   "outputs": [],
   "source": []
  }
 ],
 "metadata": {
  "kernelspec": {
   "display_name": "Python 3 (ipykernel)",
   "language": "python",
   "name": "python3"
  },
  "language_info": {
   "codemirror_mode": {
    "name": "ipython",
    "version": 3
   },
   "file_extension": ".py",
   "mimetype": "text/x-python",
   "name": "python",
   "nbconvert_exporter": "python",
   "pygments_lexer": "ipython3",
   "version": "3.9.7"
  },
  "toc": {
   "base_numbering": 1,
   "nav_menu": {},
   "number_sections": true,
   "sideBar": true,
   "skip_h1_title": false,
   "title_cell": "Table of Contents",
   "title_sidebar": "Contents",
   "toc_cell": false,
   "toc_position": {},
   "toc_section_display": true,
   "toc_window_display": false
  }
 },
 "nbformat": 4,
 "nbformat_minor": 5
}
