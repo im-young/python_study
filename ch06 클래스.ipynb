{
 "cells": [
  {
   "cell_type": "markdown",
   "id": "9924846f",
   "metadata": {},
   "source": [
    "# 객체 지향 프로그래밍(oop, objected Programming)\n",
    " \n",
    " - 객체(object)를 중심으로 프로그램을 구현하거나 생각하는 것.\n",
    " - 클래스(class)기반의 객체 지향 프로그래밍 언어는 클래스를 기반으로 객체를 만들고, 그 객체를 중심으로 프로그램을 구현한다.\n",
    " "
   ]
  },
  {
   "cell_type": "markdown",
   "id": "d43bf78f",
   "metadata": {},
   "source": [
    "##### 1단계 : 학생정보를 받아 총점과 평균을 계산하여 출력하는 프로그램"
   ]
  },
  {
   "cell_type": "code",
   "execution_count": null,
   "id": "4be52766",
   "metadata": {},
   "outputs": [],
   "source": [
    "# 학생 정보를 담고 있는 리스트\n",
    "# 리스트의 요소는 사전(딕셔너리)을 사용\n",
    "students = [\n",
    "    {'name' : '홍길동', 'kor':97, \"eng\":88,'math':98, 'sci':95},\n",
    "    {'name' : '장보고', 'kor':92, \"eng\":98,'math':96, 'sci':90},\n",
    "    {'name' : '유관순', 'kor':99, \"eng\":92,'math':99, 'sci':89},\n",
    "    {'name' : '김유신', 'kor':95, \"eng\":89,'math':88, 'sci':90},\n",
    "    {'name' : '이순신', 'kor':99, \"eng\":80,'math':92, 'sci':99}\n",
    "]\n",
    "\n",
    "#구초체<클래스\n",
    "\n",
    "#학생정보를 한명씩 반복해서 출력하는 로직\n",
    "#student의 자료형은 사전\n",
    "#사전의 키를 이용해서 값을 조회한다\n",
    "print(\"이름\", \"총점\",\"평균\",sep = \"\\t\") # end ='\\n'\n",
    "\n",
    "#for 개별변수 in 집합변수 (집합변수 데이터를 다 사용할 동안)\n",
    "for student in students:\n",
    "    score_sum = student['kor'] + student[\"eng\"]+ student['math'] + student['sci']\n",
    "    score_avg = score_sum / 4\n",
    "    \n",
    "    # 계산된 학생 한명의 정보를 출력\n",
    "    print(student['name'],score_sum, score_avg, sep='\\t')\n",
    "\n",
    "\n"
   ]
  },
  {
   "cell_type": "markdown",
   "id": "f833182f",
   "metadata": {},
   "source": [
    "##### 2단계: 함수로 구현\n",
    " - 함수: 여러 명령이나 기능을 하나로 묶어서 관리하는 것, 명령어 집합(덩어리)\n"
   ]
  },
  {
   "cell_type": "code",
   "execution_count": null,
   "id": "3d70ce87",
   "metadata": {},
   "outputs": [],
   "source": [
    "# 학생 한명에 대한 정보를 만드는 함수를 구현\n",
    "#학생 정보를 입력받아 사전으로 변환하여 되돌려주는 역할을 수행하는 함수를 선언\n",
    "\n",
    "def create_student(name, kor, eng, math, sci):\n",
    "    return{\n",
    "        'name':name,\n",
    "        'kor':kor,\n",
    "        'eng':eng,\n",
    "        'math':math,\n",
    "        'sci':sci\n",
    "    }\n",
    "#학생정보를 담은 리스트를 구현\n",
    "student = [\n",
    "    create_student('홍길동',87,88,98,95),\n",
    "    create_student('장보고',92,98,96,90),\n",
    "    create_student('유관순',99,92,99,89),\n",
    "    create_student('김유신',95,89,88,90),\n",
    "    create_student('이순신',99,80,92,99)\n",
    "    \n",
    "]\n",
    "\n",
    "for student in students:\n",
    "    #총점과 평군을 계산하는 로직\n",
    "    score_sum = student['kor'] + student[\"eng\"]+ student['math'] + student['sci']\n",
    "    score_avg = score_sum / 4\n",
    "    \n",
    "    # 계산된 학생 한명의 정보를 출력\n",
    "    print(student['name'],score_sum, score_avg, sep='\\t')\n"
   ]
  },
  {
   "cell_type": "code",
   "execution_count": null,
   "id": "3ae7c3e0",
   "metadata": {},
   "outputs": [],
   "source": [
    "# 사전으로 변환하여 리텅하는 함수: 학생 정보를 입력받아 \n",
    "def create_student(name, kor, eng, math, sci):\n",
    "    return{\n",
    "        'name':name,\n",
    "        'kor':kor,\n",
    "        'eng':eng,\n",
    "        'math':math,\n",
    "        'sci':sci\n",
    "    }\n",
    "#학생정보를 담은 리스트를 구현\n",
    "student = [\n",
    "    create_student('홍길동',87,88,98,95),\n",
    "    create_student('장보고',92,98,96,90),\n",
    "    create_student('유관순',99,92,99,89),\n",
    "    create_student('김유신',95,89,88,90),\n",
    "    create_student('이순신',99,80,92,99)\n",
    "    \n",
    "]\n",
    "\n",
    "#학생 데이터를 처리하는 로직\n",
    "## 학생정보를 받아 총점을 반환하는 함수\n",
    "def student_getSum(student):\n",
    "    return student['kor'] + student['eng'] + student['math'] + student['sci']\n",
    "\n",
    "## 학생정보를 받아 평균을 반환하는 함수\n",
    "def student_getAvg(student):\n",
    "      student_getSum(student) / 4\n",
    "## 학생정보를 받아 출력하는 함수\n",
    "def student_getString(student):\n",
    "    return\"{}\\t{}\\t{}\".format(\n",
    "        student['name'],\n",
    "        student_getSum(student), \n",
    "        student_getAvg(student))\n",
    "#학생정보 처리\n",
    "print(\"이름\", \"총점\",\"평균\",sep = \"\\t\")\n",
    "for student in students:\n",
    "    print(student_getString(student))"
   ]
  },
  {
   "cell_type": "code",
   "execution_count": null,
   "id": "13d48944",
   "metadata": {},
   "outputs": [],
   "source": [
    "#클래스 선언\n",
    "class Student:\n",
    "    pass\n",
    "\n",
    "#인스턴스 객체\n",
    "student = Student()\n",
    "\n",
    "\n",
    "#학생정보를 담고 있는 리스트 선언\n",
    "studens = [\n",
    "    Student(),\n",
    "    Student(),\n",
    "    Student(),\n",
    "    Student(),\n",
    "    Student(),\n",
    "    Student()\n",
    "]"
   ]
  },
  {
   "cell_type": "markdown",
   "id": "2744cc10",
   "metadata": {},
   "source": [
    "# 클래스의 기본"
   ]
  },
  {
   "cell_type": "code",
   "execution_count": null,
   "id": "85e8949c",
   "metadata": {},
   "outputs": [],
   "source": [
    "# 객체를 프로그램에 표현하는 구조\n",
    "# 객체 : Object(오브젝트 객체, 붕어빵 틀) VS Instance(인스턴스 객체, 붕어빵,제품)\n",
    "# 오브젝트 객체는 객체들의 공통된 속성과 행위를 이용하여 구현한다.\n",
    "# 소나타, 베르나, k9, 베라크루즈, 모닝, 아이오닉, 빈츠, 티코\n",
    "\n",
    "# 함수선언\n",
    "def car():\n",
    "# 클래스 선언 \n",
    "class Car:\n",
    "    ## Menber Field : 프로퍼티스 = 변수, 공통된 특성(속성)\n",
    "    \n",
    "    ##Member Method: 함수, 행위나 동작\n",
    "    pass\n"
   ]
  },
  {
   "cell_type": "code",
   "execution_count": null,
   "id": "298a38e9",
   "metadata": {},
   "outputs": [],
   "source": [
    "#'사람' 객체를 구현하는 클래스 선언\n",
    "class Person:\n",
    "    #맴버 필드\n",
    "    \n",
    "    #멤버 메서드\n",
    "    def walk(self):  ## self = this , 자기 자신을 가르키는 키워드(객체를 자기자신의 주소)\n",
    "        print(\"사람이 걸어갑니다.\")\n",
    "    def run(self):\n",
    "        print(\"사람이 달려갑니다.\")\n",
    "# 이건 설계도 이기 때문에 제품을 만들어야함       "
   ]
  },
  {
   "cell_type": "code",
   "execution_count": null,
   "id": "97fdc9fe",
   "metadata": {},
   "outputs": [],
   "source": [
    "# ' 사람' 클래스의 객체 (Instsnce)생성\n",
    "p1 = Person()\n",
    "\n",
    "\n",
    "# 인스턴스 객체를 이용해서 클래스의 멤버에 접근한다.\n",
    "## direct 연산자: 객체명.멤버필드 or 객체명.멤버메서드\n",
    "p1.walk()"
   ]
  },
  {
   "cell_type": "code",
   "execution_count": null,
   "id": "8b3ee756",
   "metadata": {},
   "outputs": [],
   "source": [
    "p1.run()"
   ]
  },
  {
   "cell_type": "code",
   "execution_count": null,
   "id": "30dcb28d",
   "metadata": {},
   "outputs": [],
   "source": [
    "#'사람' 객체를 구현하는 클래스 선언\n",
    "class Person:\n",
    "    #맴버 필드\n",
    "    #name = \"\"(메서드에 self.name 이라고 써있으면 안써도됨, 자바는 써야함)\n",
    "    #멤버 메서드\n",
    "    def walk(self):  ## self = this , 자기 자신을 가르키는 키워드(객체를 자기자신의 주소)\n",
    "        print(self.name +\"이 걸어갑니다.\")\n",
    "    def run(self):\n",
    "        print(self.name+\"이 달려갑니다.\")\n",
    "# 이건 설계도 이기 때문에 제품을 만들어야함       "
   ]
  },
  {
   "cell_type": "code",
   "execution_count": null,
   "id": "f7f97d16",
   "metadata": {},
   "outputs": [],
   "source": [
    "p1 = Person\n",
    "\n",
    "p1.walk()\n",
    "# name을 안채워서 에러남"
   ]
  },
  {
   "cell_type": "code",
   "execution_count": null,
   "id": "d517a8d9",
   "metadata": {},
   "outputs": [],
   "source": [
    "p1 = Person()\n",
    "\n",
    "# 인스턴스 객체를 이용해서 멤버 필드를 초기화하는 작업이 필요하다.\n",
    "\n",
    "p1.name = \"홍길동\"\n",
    "p1.walk()\n",
    "p1.run()"
   ]
  },
  {
   "cell_type": "code",
   "execution_count": null,
   "id": "96b47211",
   "metadata": {},
   "outputs": [],
   "source": [
    "p2 = Person()\n",
    "\n",
    "p2.name = \"유경민\"\n",
    "p2.walk()\n",
    "p2.run()"
   ]
  },
  {
   "cell_type": "code",
   "execution_count": null,
   "id": "36617ef2",
   "metadata": {},
   "outputs": [],
   "source": [
    "#'사람' 객체를 구현하는 클래스 선언\n",
    "class Person:\n",
    "    #맴버 필드\n",
    "    #name = \"\"(메서드에 self.name 이라고 써있으면 안써도됨, 자바는 써야함)\n",
    "    #멤버 메서드\n",
    "    def walk(self,speed):  ## self = this , 자기 자신을 가르키는 키워드(객체를 자기자신의 주소)\n",
    "        print(self.name+\"이가\" +str(speed)+  \"km/s의 속도로 걸어갑니다.\")\n",
    "    def run(self,speed):\n",
    "        print(self.name+\"이가\" +str(speed)+  \"km/s의 속도로 달려갑니다.\")"
   ]
  },
  {
   "cell_type": "code",
   "execution_count": null,
   "id": "33cd34f0",
   "metadata": {},
   "outputs": [],
   "source": [
    "p = Person()\n",
    "\n",
    "# 멤버 필드를 초기화\n",
    "p.name = \"장보고\"\n",
    "\n",
    "# 멤버 베서드 호출\n",
    "p.walk(10)\n",
    "p.run(25)\n"
   ]
  },
  {
   "cell_type": "code",
   "execution_count": null,
   "id": "5422a810",
   "metadata": {},
   "outputs": [],
   "source": [
    "#'사람' 객체를 구현하는 클래스 선언\n",
    "class Person:\n",
    "    #맴버 필드\n",
    "    #name = \"\"(메서드에 self.name 이라고 써있으면 안써도됨, 자바는 써야함)\n",
    "    \n",
    "    # 생성자 메서드 : 객체 생성시 멤버필드를 초기화할 목적으로 구현하는 메서드\n",
    "    def __init__(self, name):\n",
    "        self.name = name # this.name = name(자바) , 입력받은 name 을 Person name 에 담아라\n",
    "        \n",
    "    #멤버 메서드\n",
    "    def walk(self,speed):  ## self = this , 자기 자신을 가르키는 키워드(객체를 자기자신의 주소)\n",
    "        print(self.name+\"이가\" +str(speed)+  \"km/s의 속도로 걸어갑니다.\")\n",
    "    def run(self,speed):\n",
    "        print(self.name+\"이가\" +str(speed)+  \"km/s의 속도로 달려갑니다.\")"
   ]
  },
  {
   "cell_type": "code",
   "execution_count": null,
   "id": "cfd04aa8",
   "metadata": {},
   "outputs": [],
   "source": [
    "# 인스턴스 객체 생성시 생성자 메서드가 호출된다.\n",
    "p1 = Person(\"이순신\")\n",
    "\n",
    "p1.walk(5)\n",
    "p1.run(9)"
   ]
  },
  {
   "cell_type": "code",
   "execution_count": null,
   "id": "ef763d85",
   "metadata": {},
   "outputs": [],
   "source": [
    "# 생성자 메서드를 기술하지 않을 때 default 생성자가 호출되는 것으로 간주한다.\n",
    "# default 생성자는"
   ]
  },
  {
   "cell_type": "code",
   "execution_count": null,
   "id": "6b77e401",
   "metadata": {},
   "outputs": [],
   "source": [
    "class Person:\n",
    "    #멤버 필드\n",
    "    \n",
    "    # 생성자 메서드 : 객체 생성시 자동으로 호출되는 메서드\n",
    "    def __init__(self, name,age,height):\n",
    "        self.name = name\n",
    "        self.age = age\n",
    "        self.height = height\n",
    "        \n",
    "    \n",
    "    # 멤버 메서드\n",
    "    def disp(self):\n",
    "        print(\"이름 : \"+self.name)\n",
    "        print(\"나이 : \"+str(self.age))\n",
    "        print(\"신장 : \"+str(self.height))\n",
    "    \n",
    "    # 소멸자 메서드 : 객체 소멸시 자동으로 호출되는 메서드, 생략해서 사용\n",
    "    "
   ]
  },
  {
   "cell_type": "code",
   "execution_count": null,
   "id": "0dfd5225",
   "metadata": {},
   "outputs": [],
   "source": [
    "# Person  클래스의 인스턴스 객체 생성\n",
    "p1 = Person() # default 생성자: 생성자가 없을 경우 생략된 것으로 간주한다.\n",
    "\n",
    "# 멤버 필드를 초기화하는 작업을 수행한다.\n",
    "p1.name =\"홍길동\"\n",
    "p1.age = 30\n",
    "p1.height = 170.8\n",
    "p1.disp()\n"
   ]
  },
  {
   "cell_type": "code",
   "execution_count": null,
   "id": "574b8209",
   "metadata": {},
   "outputs": [],
   "source": [
    "p2 = Person()\n",
    "p2.name = \"장보고\"\n",
    "p2.age= 25\n",
    "p2.height = 180\n",
    "p2.disp()"
   ]
  },
  {
   "cell_type": "code",
   "execution_count": null,
   "id": "22334995",
   "metadata": {},
   "outputs": [],
   "source": [
    "#생성자가 메서드의 형태에 맞게 객체를 생성해야한다.\n",
    "p3 = Person(\"이순신\", 40, 180.5)\n",
    "p3.disp()"
   ]
  },
  {
   "cell_type": "code",
   "execution_count": null,
   "id": "246bb716",
   "metadata": {},
   "outputs": [],
   "source": [
    "class Person:\n",
    "    #멤버 필드 = 프로퍼티스(클래스 변수, 공유 목적의 변수)\n",
    "    name = \"강감찬\"\n",
    "    age = 20\n",
    "    height= 180.5\n",
    "    \n",
    "    #멤버 메서드 = 함수(Function = Method)\n",
    "    def show(self):\n",
    "        ## self.변수명 : 인스턴스 변수(개별적인 값)\n",
    "        print(\"이름: \"+ self.name, end=\" \")\n",
    "        print(\"나이: \"+ str(self.age),end=\" \")\n",
    "        print(\"신장: \"+ str(self.height))\n",
    "        \n",
    "    ## 클래스명.변수명 : 클래스 변수(공통적인 값)\n",
    "        print(\"이름: \"+ Person.name, end=\" \")\n",
    "        print(\"나이: \"+ str(Person.age),end=\" \")\n",
    "        print(\"신장: \"+ str(Person.height))\n",
    "        \n",
    "        \n",
    "    "
   ]
  },
  {
   "cell_type": "code",
   "execution_count": null,
   "id": "69f310b5",
   "metadata": {},
   "outputs": [],
   "source": [
    "p4=Person()\n",
    "p4.name = \"김철수\"\n",
    "p4.age=21\n",
    "p4.height=177.7\n",
    "\n",
    "p4.show()"
   ]
  },
  {
   "cell_type": "code",
   "execution_count": null,
   "id": "0c52f733",
   "metadata": {},
   "outputs": [],
   "source": [
    "p5 = Person\n",
    "\n",
    "p5.show()"
   ]
  },
  {
   "cell_type": "code",
   "execution_count": null,
   "id": "d0ee2543",
   "metadata": {},
   "outputs": [],
   "source": [
    "#default Parameter : 매개변수으 ㅣ초기화\n",
    "def aaa(x, y= 20, z = 30):\n",
    "    print(x, y, z)\n",
    "    \n",
    "aaa(1, 2 ,3)"
   ]
  },
  {
   "cell_type": "code",
   "execution_count": null,
   "id": "6ff0f21c",
   "metadata": {},
   "outputs": [],
   "source": [
    "aaa(1, 2)"
   ]
  },
  {
   "cell_type": "code",
   "execution_count": null,
   "id": "192c59af",
   "metadata": {},
   "outputs": [],
   "source": [
    "aaa(1)"
   ]
  },
  {
   "cell_type": "code",
   "execution_count": null,
   "id": "3045c618",
   "metadata": {},
   "outputs": [],
   "source": [
    "class Member :\n",
    "    def info(self):\n",
    "        print(\"아이다 : \"+ self.userid, end=\" \")\n",
    "        print(\"비밀번호 : \"+ self.pwd, end= \" \")\n",
    "        print(\"이름 : \"+ self.name, end=\" \")\n",
    "        print(\"나이 : \"+str(self.age))"
   ]
  },
  {
   "cell_type": "code",
   "execution_count": null,
   "id": "67cafa36",
   "metadata": {},
   "outputs": [],
   "source": [
    "#회원 인스턴스 객체 생성\n",
    "m1 = Member() # 객체 생성시 default 생성자가 호출된다.\n",
    "\n",
    "m1.info()\n",
    "# 값이 없어서 에러남"
   ]
  },
  {
   "cell_type": "code",
   "execution_count": null,
   "id": "99ac08a4",
   "metadata": {},
   "outputs": [],
   "source": [
    "m2 = Member()\n",
    "\n",
    "m2.userid = \"kim\"\n",
    "m2.pwd = \"1234\"\n",
    "m2.name = \"김길동\"\n",
    "m2.age = 20\n",
    "\n",
    "m2.info()"
   ]
  },
  {
   "cell_type": "code",
   "execution_count": null,
   "id": "d1759ee0",
   "metadata": {},
   "outputs": [],
   "source": [
    "class Member :\n",
    "    #생성자 메서드 : 객체 생성시 멤버 필드를 초기화할 목적으로 구현되는 메서드\n",
    "    def __init__(self, userid, pwd, name, age):\n",
    "        self.userid = userid\n",
    "        self.pwd = pwd\n",
    "        self.name = name\n",
    "        self.age = age\n",
    "    def info(self):\n",
    "        print(\"아이ㄷㅣ : \"+ self.userid, end=\" \")\n",
    "        print(\"비밀번호 : \"+ self.pwd, end= \" \")\n",
    "        print(\"이름 : \"+ self.name, end=\" \")\n",
    "        print(\"나이 : \"+str(self.age))"
   ]
  },
  {
   "cell_type": "code",
   "execution_count": null,
   "id": "1875b7c1",
   "metadata": {},
   "outputs": [],
   "source": [
    "#생성자가 없을 경우 default 생성자가 생략된 것으로 간주한다.\n",
    "#만약 생성자 메서드를 기술했을 경우 해당 생성자가 메서드를 이용하여 객체를 생성해야한다.\n",
    "\n",
    "m3 = Member(\"aaa\", \"1234\",\"장보고\", 35)\n",
    "m3.info()\n"
   ]
  },
  {
   "cell_type": "code",
   "execution_count": null,
   "id": "839fa8b7",
   "metadata": {},
   "outputs": [],
   "source": [
    "class Member :\n",
    "    #생성자 메서드 : 객체 생성시 멤버 필드를 초기화할 목적으로 구현되는 메서드\n",
    "    def __init__(self, userid=\"\", pwd=\"\", name=\"\", age=0):\n",
    "        self.userid = userid\n",
    "        self.pwd = pwd\n",
    "        self.name = name\n",
    "        self.age = age\n",
    "    def info(self):\n",
    "        print(\"아이ㄷㅣ : \"+ self.userid, end=\" \")\n",
    "        print(\"비밀번호 : \"+ self.pwd, end= \" \")\n",
    "        print(\"이름 : \"+ self.name, end=\" \")\n",
    "        print(\"나이 : \"+str(self.age))"
   ]
  },
  {
   "cell_type": "code",
   "execution_count": null,
   "id": "d53d1848",
   "metadata": {},
   "outputs": [],
   "source": [
    "m5 = Member(\"kim\", \"1234\")\n",
    "m5.info()"
   ]
  },
  {
   "cell_type": "code",
   "execution_count": null,
   "id": "79bc5ebb",
   "metadata": {},
   "outputs": [],
   "source": [
    "m6 = Member(\"bbb\",\"1234\",\"강아지\",3)\n",
    "m6.info"
   ]
  },
  {
   "cell_type": "code",
   "execution_count": null,
   "id": "d6a48e2a",
   "metadata": {},
   "outputs": [],
   "source": [
    "m6 = Member(\"bbb\",\"1234\",\"강아지\",3)\n",
    "m6.info"
   ]
  },
  {
   "cell_type": "code",
   "execution_count": null,
   "id": "8b690ede",
   "metadata": {},
   "outputs": [],
   "source": [
    "m8 = Member(\"ddd\",\"1234\")\n",
    "m8.info()"
   ]
  },
  {
   "cell_type": "code",
   "execution_count": null,
   "id": "0e68687e",
   "metadata": {},
   "outputs": [],
   "source": [
    "m9 = Member()\n",
    "m9.info()"
   ]
  },
  {
   "cell_type": "code",
   "execution_count": null,
   "id": "97633fd8",
   "metadata": {},
   "outputs": [],
   "source": [
    "m10 = Member(\"kkk\",\"1234\",\"\",15)\n",
    "m10.info()"
   ]
  },
  {
   "cell_type": "markdown",
   "id": "ca599fcf",
   "metadata": {},
   "source": [
    "### 4단계 - 학생 성적관리 객체\n"
   ]
  },
  {
   "cell_type": "code",
   "execution_count": null,
   "id": "eac79ff4",
   "metadata": {},
   "outputs": [],
   "source": [
    "# 클래스 선언\n",
    "class Student:\n",
    "    #멤버 필드\n",
    "    \n",
    "    # 생성자 메서드\n",
    "    def __init__(self, name, kor, eng, math, sci):\n",
    "        slef.name = name\n",
    "        self.kor = kor\n",
    "        self.eng = eng\n",
    "        self.math = math\n",
    "        self.sci = sci\n",
    "        \n",
    "    # 멤버 메서드\n",
    "    ## 총점을 계산하여 반환하는 함수\n",
    "    def get_sum(self):\n",
    "        return self.kor + self.eng + self.math + self.sci\n",
    "    \n",
    "    ## 평균을 계산하여 반환하느 함수\n",
    "    def get_avg(self):\n",
    "        return self.get_sum() / 4\n",
    "    \n",
    "    ## 출력하는 함수\n",
    "    def to_string(self):\n",
    "        return\"{}\\t{}\\t{}\".format(self.name, self.get_sum(),self.get_avg())\n",
    "    \n",
    "    # 소멸자 메서드\n",
    "    "
   ]
  },
  {
   "cell_type": "code",
   "execution_count": null,
   "id": "1ffdb47d",
   "metadata": {},
   "outputs": [],
   "source": [
    "# 인스턴스 객체 생성\n",
    "s1 = Student()\n",
    "s1.name =\"홍길동\"\n",
    "s1.kor = 88 \n",
    "s1.eng = 92\n",
    "s1.math = 90\n",
    "s1.sci = 99\n",
    "\n",
    "print(s1.to_string())"
   ]
  },
  {
   "cell_type": "code",
   "execution_count": null,
   "id": "c0a4eec8",
   "metadata": {},
   "outputs": [],
   "source": [
    "s2 = Student(\"장보고\", 87, 98, 88, 95)\n",
    "print(s2.to_string())"
   ]
  },
  {
   "cell_type": "code",
   "execution_count": null,
   "id": "a98ee250",
   "metadata": {},
   "outputs": [],
   "source": [
    "# 비효율적인 코딩\n",
    "s1 = Studetn(\"aaa\", 88, 97, 95, 76)\n",
    "s1 = Studetn(\"bbb\", 98, 87, 95, 76)\n",
    "s1 = Studetn(\"ccc\", 88, 97, 95, 76)\n",
    "s1 = Studetn(\"ddd\", 88, 97, 95, 76)\n",
    "s1 = Studetn(\"eee\", 88, 97, 95, 76)\n",
    "1111 "
   ]
  },
  {
   "cell_type": "code",
   "execution_count": null,
   "id": "8779f420",
   "metadata": {},
   "outputs": [],
   "source": [
    "#학생 정보를 가지고 있는 리스트 생성\n",
    " student = [\n",
    "    s1 = Studetn(\"aaa\", 88, 97, 95, 76)\n",
    "    s1 = Studetn(\"bbb\", 98, 87, 95, 86)\n",
    "    s1 = Studetn(\"ccc\", 99, 87, 77, 69)\n",
    "    s1 = Studetn(\"ddd\", 79, 88, 93, 90)\n",
    "    s1 = Studetn(\"eee\", 80, 90, 99, 80)\n",
    " ]"
   ]
  },
  {
   "cell_type": "code",
   "execution_count": null,
   "id": "b7d7d0c0",
   "metadata": {},
   "outputs": [],
   "source": [
    "student = [\n",
    "    s1 = Studetn(\"aaa\", 88, 97, 95, 76)\n",
    "    s1 = Studetn(\"bbb\", 98, 87, 95, 86)\n",
    "    s1 = Studetn(\"ccc\", 99, 87, 77, 69)\n",
    "    s1 = Studetn(\"ddd\", 79, 88, 93, 90)\n",
    "    s1 = Studetn(\"eee\", 80, 90, 99, 80)\n",
    " ]\n",
    "\n",
    "print(\"이름\", \"총점\", \"평균\", sep + \"\\t\")\n",
    "for student in students:\n",
    "    print(student.to_string())"
   ]
  },
  {
   "cell_type": "markdown",
   "id": "dca27263",
   "metadata": {},
   "source": [
    "##### 클래스를 사용하는 이유\n"
   ]
  },
  {
   "cell_type": "code",
   "execution_count": null,
   "id": "abe73ac3",
   "metadata": {},
   "outputs": [],
   "source": [
    "#데이터\n",
    "names = ['Messi', 'Ramos', 'Ranaldo', 'Pakr', 'Son']\n",
    "position = ['MF', 'DF','CF','WF','GK']\n",
    "numbers = [10, 4, 7, 13, 1]\n",
    "\n",
    "#이차원 리스트\n",
    "players = [[name, position, number] for name, position, number in zip(names, position,numbers)]\n",
    "print(players)"
   ]
  },
  {
   "cell_type": "code",
   "execution_count": null,
   "id": "99e98747",
   "metadata": {},
   "outputs": [],
   "source": [
    "print(players[0])"
   ]
  },
  {
   "cell_type": "code",
   "execution_count": null,
   "id": "829e1ee1",
   "metadata": {},
   "outputs": [],
   "source": [
    "class SoccerPlayer:\n",
    "    def __init__(self, name, position, number):\n",
    "        self.name = name\n",
    "        self.position = position\n",
    "        self.number = number\n",
    "    \n",
    "    def disp(self):\n",
    "        print(\"이름 : \", self.name)\n",
    "        print(\"포지션 : \", self.position)\n",
    "        print(\"백넘버 : \", self.number)"
   ]
  },
  {
   "cell_type": "code",
   "execution_count": null,
   "id": "7ebcfb45",
   "metadata": {},
   "outputs": [],
   "source": [
    "p1 = SoccerPlayer()\n",
    "p1.name = \"박지성\"\n",
    "p1.position = \"MF\"\n",
    "p1.number = 13\n",
    "\n",
    "p1.disp()"
   ]
  },
  {
   "cell_type": "markdown",
   "id": "d1aae24c",
   "metadata": {},
   "source": [
    "### Q 자동차 관리 프로그램\n",
    "1. 요구사항 명세서\n",
    "    - 자동차는 식별할 이름과 속도, 연료량을 관리한다.\n",
    "    - 자동차의 속도는 최대 200을 넘지 못하게 구현한다.\n",
    "    - 자동차가 가속시 연료에 10을 소모하도록 구현한다.\n",
    "    - 자동차의 연료가 없으면 가속이 불가능하도록 구현하다.\n",
    "    - 현재 자동차의 상태를 확인할 수 있도록 구현한다.\n",
    "    - 기능별 함수로 구현해서 처리한다.\n",
    "    "
   ]
  },
  {
   "cell_type": "code",
   "execution_count": null,
   "id": "988978f3",
   "metadata": {},
   "outputs": [],
   "source": [
    "class Car:\n",
    "    #멤버 필드\n",
    "    name = \"\"\n",
    "    speed = 0\n",
    "    gas = 0\n",
    "    \n",
    "    # 매서드 생성자\n",
    "    def __inif__(self, name, speed, gas)\n",
    "    \n",
    "    \n",
    "    # 멤버 메서드\n",
    "    def carAccel(self): # 가속패달을 한 번 밟았을 때의 행위를 기술한다.\n",
    "        # 연료가 없으면 가속 불가능, 가속패달을 밟을 때 마다 연료는 10 씩 감소\n",
    "        # 가속도 10씩 속도가 증가한다. 이때 최고속도인 200을 넘을 수 없다.\n",
    "        if self.gas >=10: # 연료가 있느냐? 있으면 가속처리\n",
    "            if self.speed + 10 >200: # 속도가 증가할 때 최고속도를 넘느냐 ?\n",
    "                self.speed = 200 # 최고속도는 200을 넘을 수 없다.\n",
    "            else:\n",
    "                self.speed = self.speed + 10\n",
    "                self.gas = self.gas - 10\n",
    "                \n",
    "                \n",
    "            \n",
    "        else:\n",
    "            print(\"연료가 부족합니다.\")\n",
    "            return  # 제어권만 호출된 곳으로 돌려준다. 생략가능\n",
    "            \n",
    "        \n",
    "    def carBreak(self):\n",
    "        #연료의 소모는 없다.\n",
    "        # 자동차의 속도가 10 감소한다.\n",
    "        #자동차의 속도값이 음수일 수 없다.\n",
    "        if self.speed <10 : \n",
    "            self.speed = 0\n",
    "        else:\n",
    "            self.speed = self.speed - 10\n",
    "            \n",
    "        \n",
    "    def carState(self):\n",
    "        print(\"차종 : \",self.name)\n",
    "        print(\"속도 : \",self.speed)\n",
    "        print(\"연료량 : \",self.gas)\n",
    "    "
   ]
  },
  {
   "cell_type": "code",
   "execution_count": null,
   "id": "70156e2e",
   "metadata": {},
   "outputs": [],
   "source": [
    "c1 = Car()\n",
    "\n",
    "c1.carState()\n"
   ]
  },
  {
   "cell_type": "code",
   "execution_count": null,
   "id": "92ebad00",
   "metadata": {},
   "outputs": [],
   "source": [
    "c2 = Car()\n",
    "c2.name = \"sonata\"\n",
    "c2.speed = 0\n",
    "c2.gas=90\n",
    "c2.carState()"
   ]
  },
  {
   "cell_type": "code",
   "execution_count": null,
   "id": "079612ff",
   "metadata": {},
   "outputs": [],
   "source": [
    "c3 = Car(\"Morning\")"
   ]
  },
  {
   "cell_type": "code",
   "execution_count": null,
   "id": "4cae9dba",
   "metadata": {},
   "outputs": [],
   "source": [
    "# 가속페달을 밟는 행위 - 살행할 수 록 바뀜\n"
   ]
  },
  {
   "cell_type": "code",
   "execution_count": null,
   "id": "6abe6011",
   "metadata": {},
   "outputs": [],
   "source": [
    "# 브레이크 패달을 밟는 행위\n"
   ]
  },
  {
   "cell_type": "markdown",
   "id": "65a07067",
   "metadata": {},
   "source": [
    "### Q 노트북 프로그램\n",
    "- 노트(note)를 정리하는 프로그램이다.\n",
    "- 사용자는 노트에 컨텐츠를 적을 수 있다.\n",
    "- 노트는 노트북(notebook)에 ~~~ "
   ]
  },
  {
   "cell_type": "markdown",
   "id": "8e11b50b",
   "metadata": {},
   "source": [
    "### 클래스 객체로 갖는 클래스 구현\n"
   ]
  },
  {
   "cell_type": "code",
   "execution_count": null,
   "id": "11805307",
   "metadata": {},
   "outputs": [],
   "source": [
    "# 원을 객체로 갖는 클래스 구현\n",
    "class Circle:\n",
    "    #멤버 필드\n",
    "    r = 0\n",
    "    \n",
    "    # 생성자 메서드 : 객체가 생성될 때 자동으로 호출되는 함수\n",
    "    ## 멤버 필드를 초기화하는 역할\n",
    "    \n",
    "    \n",
    "    ## 객체 생성시 가장 처음 수행할 작업을 기술할 때 (키보드를 통해서 반지름을 입력받아 객체를 생성할 수 있음)\n",
    "    def __init__(self): # Circle()에 매핑\n",
    "        self.r=int(input(\"반지름 =\"))\n",
    "\n",
    "    \n",
    "    # 멤버 메서드 // (함수 만들때 )접두어 :set~(세팅한다) get~ \n",
    "    ## 단순히 반지름을 출력(리턴도 가능)하는 메서드\n",
    "    def getRadius(self):\n",
    "        #print(\"r =\", self.r)\n",
    "        return self.r\n",
    "    \n",
    "    def setRadius(self):\n",
    "        self.r= r\n",
    "        \n",
    "    ## 사용자가 입력한 반지름을 받아서 멤버 필드에 대합히는 메서드\n",
    "    ## 원의 면적을 계산하여 반환하는 메서드\n",
    "    def getArea(self):\n",
    "        return self.r * self.r* 3.14\n",
    "    \n",
    "    #소멸자 메서드\n",
    "    "
   ]
  },
  {
   "cell_type": "code",
   "execution_count": null,
   "id": "a6f661fc",
   "metadata": {},
   "outputs": [],
   "source": [
    "#  원 객체에 접근하는 인스턴스 객체 생성\n",
    "donut = Circle()\n",
    "\n",
    "#멤버 필드를 초기화하는 작업\n",
    "\n",
    "#donut.r = 5\n",
    "donut.setRadius(5)\n",
    "\n",
    "#반지름 출력하는 메서드 호출\n",
    "\n",
    "print(\"반지름 =\", donut.getRadius())"
   ]
  },
  {
   "cell_type": "code",
   "execution_count": null,
   "id": "778408bd",
   "metadata": {},
   "outputs": [],
   "source": [
    "# 인스턴스 객체는 생성자를 이용하여 생성한다.\n",
    "# 생성자가 존재하지 않을 경우 default 생성자가 생략된 것으로 간주한다.\n",
    "# default 생성자: "
   ]
  },
  {
   "cell_type": "code",
   "execution_count": null,
   "id": "5a71cce2",
   "metadata": {},
   "outputs": [],
   "source": [
    "#생성자 역할 1\n",
    "# 사용자로부터 반지름을 입력받아 객체를 생성할 수 있다.(키보드로 입력받아서)\n",
    "radius = int(input(\"반지름 = \"))\n",
    "b = Circle(radius)\n",
    "print(\"반지름 =\", b.getRadius())\n"
   ]
  },
  {
   "cell_type": "code",
   "execution_count": null,
   "id": "9af8ff70",
   "metadata": {},
   "outputs": [],
   "source": [
    "## 객체 생성시 가장 처음 수행할 작업을 기술할 때 \n",
    "ap = Circle()\n",
    "print(\"원의 면적 =\", ap.getArea())"
   ]
  },
  {
   "cell_type": "code",
   "execution_count": null,
   "id": "6d74997c",
   "metadata": {},
   "outputs": [],
   "source": [
    "#평면위의 한 점을 객체로 갖고 있는 클래스 선언\n",
    "class Point:\n",
    "    # 멤버 필드\n",
    "    xpos = 0\n",
    "    ypos = 0\n",
    "    \n",
    "    \n",
    "    # 생성자 메서드\n",
    "    \n",
    "    #멤버 메서드\n",
    "    def disp(self):\n",
    "        print(\"점(x,y) = ({0},{1})\".format(self.xpos, self.ypos))\n",
    "        \n",
    "    ## 좌표값을 변경하는 메서드\n",
    "    def setX(self,x):\n",
    "        self.xpos = x\n",
    "        \n",
    "    def setY(self,y):\n",
    "        self.ypos = y\n",
    "        \n",
    "    \n",
    "    \n",
    "    #소멸자 메서드\n",
    "    "
   ]
  },
  {
   "cell_type": "code",
   "execution_count": null,
   "id": "491c61ac",
   "metadata": {},
   "outputs": [],
   "source": [
    "#인스턴스 객체 만들기\n",
    "\n",
    "ap = Point() # default 생성자에 의해 객체 생성\n",
    "ap.disp()"
   ]
  },
  {
   "cell_type": "code",
   "execution_count": null,
   "id": "87d3a14a",
   "metadata": {},
   "outputs": [],
   "source": [
    "#멤버 필드에 새로운 값을 대입(직접 접근)\n",
    "ap.xpos = 10 # 좌표값 변경\n",
    "ap.ypos = 20\n",
    "ap.disp()"
   ]
  },
  {
   "cell_type": "code",
   "execution_count": null,
   "id": "73f93e99",
   "metadata": {},
   "outputs": [],
   "source": [
    "## 좌표값을 변경하는 메서드\n",
    "# 함수를 이용하여 멤버필드 초기화\n",
    "\n",
    "ap = Point()\n",
    "\n",
    "ap.setX(5)\n",
    "ap.setY(10)\n",
    "ap.disp()"
   ]
  },
  {
   "cell_type": "code",
   "execution_count": null,
   "id": "c48a6032",
   "metadata": {},
   "outputs": [],
   "source": [
    "#사각형을 객체로 하는 클래스 선언\n",
    "\n",
    "class Rect:\n",
    "    #멤버 필드\n",
    "    garo= 0\n",
    "    sero= 0\n",
    "    # 생성자 메서드\n",
    "    \n",
    "    # 멤버 메서드\n",
    "    def disp(self):\n",
    "        print(\"가로 = {0}, 세로={1}\".format(self.garo,self.sero))\n",
    "        \n",
    "    ## 사각형 넓이 구하는 함수\n",
    "    def getArea(self):\n",
    "        return self.garo * self.sero\n",
    "    ##정사각형인지 판별하는 함수\n",
    "    def check(self):\n",
    "        if self.garo === self.sero\n",
    "        \n",
    "        else\n",
    "         \n",
    "        \n",
    "    \n",
    "    \n",
    "    # 소멸자 메서드\n",
    "    "
   ]
  },
  {
   "cell_type": "code",
   "execution_count": null,
   "id": "f28c6966",
   "metadata": {},
   "outputs": [],
   "source": [
    "# 디폴트 생성자를 통해 만들어진 객체\n",
    "a = Rect # 가로 = 0, 세로 = 0 (처음 준 값이 0이라서)\n",
    "a.disp()"
   ]
  },
  {
   "cell_type": "code",
   "execution_count": null,
   "id": "a8109da4",
   "metadata": {},
   "outputs": [],
   "source": [
    "b= Rect()\n",
    "\n",
    "b.garo=7\n",
    "b.sero=9\n",
    "\n",
    "if b.check():\n",
    "    print(\"정사각형입니다.\")\n",
    "else:\n",
    "    print(\"정사각형이 아닙니다.\")"
   ]
  },
  {
   "cell_type": "markdown",
   "id": "5dfb9c37",
   "metadata": {},
   "source": [
    "##### Q 도형생성 프로그램"
   ]
  },
  {
   "cell_type": "code",
   "execution_count": null,
   "id": "389e40ee",
   "metadata": {},
   "outputs": [],
   "source": [
    "# 사용자로부터 원하는 도형을 입력받도록 구현한다.\n",
    "# 사용자가 선택한 도형에 맞는 값을 할당하고 출력한다.\n",
    "# 언제든 프로그램은 종료될 수 있도록 구현def disp(self):\n",
    "\n",
    "print(\"점(x,y)=({0}, {1})\".format(self.x,slef.y))\n",
    "\n",
    "while 1:\n",
    "    #화면에 출력되는 메뉴\n",
    "   # print('[1]점 [2]원 [3]사각형 [4]종료 =', end=\" \")\n",
    "    menu = int(input(\"[1]점 [2]원 [3]사각형 [4]종료 = \"))\n",
    "    \n",
    "    if menu == 1:\n",
    "        a = Point()\n",
    "        a.disp()\n",
    "    elif menu == 2:\n",
    "        b = Circle()\n",
    "        b.disp()\n",
    "    elif menu == 3:\n",
    "        c = Rect()\n",
    "        c.disp()\n",
    "    elif menu == 4:\n",
    "        print(\"프로그램을 종료합니다.\")\n",
    "    else:\n",
    "        print(\"선택이 올바르지 않습니다.\")\n",
    "    "
   ]
  },
  {
   "cell_type": "code",
   "execution_count": null,
   "id": "d27ce594",
   "metadata": {},
   "outputs": [],
   "source": [
    "class Point:\n",
    "    \n",
    "    def __init__(self):\n",
    "        self.x = int(input(\"x =\"))\n",
    "        self.y = int(input(\"y =\"))\n",
    "        \n",
    "    def disp(self):\n",
    "        print(\"점(x,y)=({0}, {1})\".format(self.x,slef.y))\n",
    "        "
   ]
  },
  {
   "cell_type": "code",
   "execution_count": null,
   "id": "38a166f0",
   "metadata": {},
   "outputs": [],
   "source": [
    "class Circle:\n",
    "    \n",
    "     def __init__(self):\n",
    "        self.x = int(input(\"x =\"))\n",
    "        self.y = int(input(\"y =\"))\n",
    "        self.r = int(input(\"r =\"))\n",
    "        \n",
    "    def disp(self):\n",
    "        print(\"점(x,y)=({0}, {1})\".format(self.x,slef.y))\n",
    "        print(\"반지름(r)=\",self.r)"
   ]
  },
  {
   "cell_type": "code",
   "execution_count": null,
   "id": "31851cba",
   "metadata": {},
   "outputs": [],
   "source": [
    "class Rect:\n",
    "    \n",
    "    def __init__(self):\n",
    "        self.x = int(input(\"x =\"))\n",
    "        self.y = int(input(\"y =\"))\n",
    "        self.h = int(input(\"h =\"))\n",
    "        self.w = int(input(\"w =\"))\n",
    "        \n",
    "    def disp(self):\n",
    "        print(\"점(x,y)=({0}, {1})\".format(self.x,slef.y))\n",
    "        print(\"반지름(r)=\",self.r)\n",
    "        print(\"높이(h) = {0}, 너비(w) ={1}\").format(self.h,self.w)"
   ]
  },
  {
   "cell_type": "markdown",
   "id": "5095001a",
   "metadata": {},
   "source": [
    "# 상속(Inheritance)"
   ]
  },
  {
   "cell_type": "code",
   "execution_count": null,
   "id": "f6ecd430",
   "metadata": {},
   "outputs": [],
   "source": [
    "# 상속 : 클래스로부터 멤버를 물려받아서 다시 기술하지 않고 재사용하는 것\n",
    "#부모클래스 or 상위클래스 or 기반클래스\n",
    "#자녀클래스 or 하위클래스 or 파생클래스\n",
    "#기본형 calss 클래스명: \n",
    "#상속 class 자녀클래스 (부모클래스):\n",
    "#persopn : 이름, 나이, 키\n",
    "#personInfo : 이름, 나이, 키, 체중, 시력\n"
   ]
  },
  {
   "cell_type": "code",
   "execution_count": null,
   "id": "8af720fe",
   "metadata": {},
   "outputs": [],
   "source": [
    "# 상위클래스(부모클래스, 기반클래스)\n",
    "class Person:\n",
    "    \n",
    "    def __init__(self, name, age, height):\n",
    "        self.name = name\n",
    "        self.age = age\n",
    "        self.height = height\n",
    "        \n",
    "    def disp(self):\n",
    "        print(\"이름 : \"+ self.name, end=\" \")\n",
    "        print(\"나이 : \"+ str(self.age), end=\" \")\n",
    "        print(\"신장 : \"+ str(self.height), end=\" \")"
   ]
  },
  {
   "cell_type": "code",
   "execution_count": null,
   "id": "32ee3745",
   "metadata": {},
   "outputs": [],
   "source": [
    "#하위클래스(자녀클래스, 파생클래스)\n",
    "class PersonInfo(Person):\n",
    "\n",
    "    def __init__ (self, name, age, height, weight, left_eye, right_eye):\n",
    "        #부모 멤버의 생성자 호출\n",
    "        Person.__init__(self, name, age, height)\n",
    "        self.weight = weight\n",
    "        self.left_eye = left_eye\n",
    "        self.right_eye = right_eye\n",
    "\n",
    "    def disp(self): # 오버라이딩(재정의) 부모와 자식이 같은 이름을 가지고 있는것\n",
    "        #부모클래스의 멤버 메서드 호출\n",
    "        Person.disp(self)\n",
    "        print(\"체중 : \" + str(self.weight), end =\" \")\n",
    "        print(\"시력(좌) : \"+ str(self.left_eye), end=\" \")\n",
    "        print(\"시력(우) : \"+ str(self.right_eye), end=\" \")\n",
    "        "
   ]
  },
  {
   "cell_type": "code",
   "execution_count": null,
   "id": "5d0ecc0f",
   "metadata": {},
   "outputs": [],
   "source": [
    "#자녀클래스는 반드시 상속받은 부모 클래스의 멤버를 초기화해야한다.\n",
    "p1 = PersonInfo(\"홍길동\", 20, 180.5)\n",
    "p1.weight = 71.5\n",
    "p1.left_eye = 1.5\n",
    "p1.right_eye = 1.5\n",
    "p1.disp()"
   ]
  },
  {
   "cell_type": "code",
   "execution_count": null,
   "id": "577a72f8",
   "metadata": {},
   "outputs": [],
   "source": [
    "p1 = PersonInfo(\"홍길동\", 33, 180.7, 71.5, 1.0, 1.0)\n",
    "p1.disp()"
   ]
  },
  {
   "cell_type": "markdown",
   "id": "62677e52",
   "metadata": {},
   "source": [
    "#### 친구관리 프로그램"
   ]
  },
  {
   "cell_type": "code",
   "execution_count": null,
   "id": "b2cfe34e",
   "metadata": {},
   "outputs": [],
   "source": [
    "#중학교 : 이름, 연락처\n",
    "#고등학교 : 이름, 연락처, 주소\n",
    "#대학교 : 이름, 연락처, 전공\n",
    "#사회인 : 이름, 연락처, 회사명, 직책\n"
   ]
  },
  {
   "cell_type": "code",
   "execution_count": null,
   "id": "b0013aa0",
   "metadata": {},
   "outputs": [],
   "source": [
    "class Middle:\n",
    "    #멤버 필드\n",
    "    name = \"\"\n",
    "    phon = \"\"\n",
    "    \n",
    "    #생성자 메서드\n",
    "    def __init__(self, name, phone):\n",
    "        self.name = name\n",
    "        self.phone = phone\n",
    "   \n",
    "    #멤버 메서드\n",
    "    def disp(self):\n",
    "        print(\"이름 : \", self.name)\n",
    "        print(\"연락처 : \", self.phone)\n",
    "        "
   ]
  },
  {
   "cell_type": "code",
   "execution_count": null,
   "id": "53073992",
   "metadata": {},
   "outputs": [],
   "source": [
    "m1 = Middle(\"aaa\",\"010-1111-2222\")\n",
    "m2 = Middle(\"bbb\",\"010-2222-3333\")\n",
    "m3 = Middle(\"ccc\",\"010-3333-4444\")\n",
    "\n",
    "\n",
    "\n",
    "m1.disp()\n",
    "m2.disp()\n",
    "m3.disp()\n",
    "\n",
    "friends[0].disp\n",
    "friends[1].disp\n",
    "friends[2].disp"
   ]
  },
  {
   "cell_type": "code",
   "execution_count": null,
   "id": "c1b9a2d2",
   "metadata": {},
   "outputs": [],
   "source": [
    "friends= [\n",
    "    Middle(\"aaa\",\"010-1111-2222\"),\n",
    "    Middle(\"bbb\",\"010-2222-3333\"),\n",
    "    Middle(\"ccc\",\"010-3333-4444\")\n",
    "]\n",
    "# friends.append(m1)\n",
    "# friends.append(m2)\n",
    "# friends.append(m3)\n",
    "\n",
    "friends[0].disp\n",
    "friends[1].disp\n",
    "friends[2].disp\n",
    "\n",
    "for friend in friends :\n",
    "    friend.disp()"
   ]
  },
  {
   "cell_type": "code",
   "execution_count": null,
   "id": "a7244fb7",
   "metadata": {},
   "outputs": [],
   "source": [
    "class High(Middle):\n",
    "    #멤버 필드\n",
    "#     name = \"\"\n",
    "#     phone = \"\"\n",
    "    address= \"\"\n",
    "    \n",
    "    # 생서자 메서드\n",
    "    def __init__(self, name, phone, address):\n",
    "#         self.name = name\n",
    "#         self.phone = phone\n",
    "        Middle.__init__(self, name, phone)\n",
    "        self.address = address\n",
    "        \n",
    "    #멤버 메서드\n",
    "    def disp(self):\n",
    "        Middle.disp(self)\n",
    "        print(\"주소 : \", self.address)"
   ]
  },
  {
   "cell_type": "code",
   "execution_count": null,
   "id": "ec343d5e",
   "metadata": {},
   "outputs": [],
   "source": [
    "h1 = High(\"kim\", \"010-9999-9999\",\"부산시\")\n",
    "h2 = High(\"park\", \"010-8888-8888\",\"대전시\")"
   ]
  },
  {
   "cell_type": "code",
   "execution_count": null,
   "id": "fbf8655c",
   "metadata": {},
   "outputs": [],
   "source": [
    "class Univ(Middle):\n",
    "    #멤버필드\n",
    "#     naem =\"\"\n",
    "#     phone=\"\"\n",
    "    major=\"\"\n",
    "    \n",
    "    pass"
   ]
  },
  {
   "cell_type": "code",
   "execution_count": null,
   "id": "84765c9f",
   "metadata": {},
   "outputs": [],
   "source": [
    "class Soc:\n",
    "    pass"
   ]
  },
  {
   "cell_type": "markdown",
   "id": "34baf5b3",
   "metadata": {},
   "source": [
    "### 급여관리 프로그램\n",
    "- A라는 회사가 창업을 하면서 채용한 모든 직원을 정규직으로 관리하는 프로그램을 구현하려고 한다.\n",
    "- "
   ]
  },
  {
   "cell_type": "code",
   "execution_count": 2,
   "id": "cb7593ba",
   "metadata": {},
   "outputs": [],
   "source": [
    "# 최상위 부모 클래스 객체\n",
    "class Employee:\n",
    "    # 멤버 필드\n",
    "    name=\"\"\n",
    "    \n",
    "    \n",
    "    # 생성자 메서드\n",
    "    def __init__(self, name, salary=0):\n",
    "        self.name = name\n",
    "       \n",
    "        \n",
    "    \n",
    "    # 멤버 메서드\n",
    "    def getPay(self):\n",
    "        return self.salary\n",
    "    \n",
    "    def disp(self):\n",
    "        print(\"이름 : \",self.name, end=\" \")\n",
    "        print(\"급여 : \",self.getPay(), end=\" \")\n",
    "    # 소멸자 메서드\n",
    "    "
   ]
  },
  {
   "cell_type": "code",
   "execution_count": 3,
   "id": "1860c0d4",
   "metadata": {},
   "outputs": [],
   "source": [
    "#정규직 직원을 관리하는 객체\n",
    "class Permanent(Employee):\n",
    "    #멤버 필드\n",
    "#     name=\"\"\n",
    "    salary = 0\n",
    "    \n",
    "    #생성자 매서드\n",
    "    ## 상속받은 자녀객체는 반드시 부모객체를 초기화시켜줄 의무가 있다.\n",
    "    def __init__(self, name, salary): # 직원을 둥록하는 역할을 수행하는 메서드\n",
    "#         self.name = name\n",
    "         \n",
    "        Employee.__init__(self, name, salary) # 부모 생성자 호출\n",
    "        self.salary = salary\n",
    "    \n",
    "    #멤버 메서드\n",
    "    def addEmployee(self, name, salary) : # 직원을 등록하는 역할ㅇ르 수행하는 메서드\n",
    "        self.name = name\n",
    "        self.salary = salary\n",
    "        \n",
    "    def getPay(self): # 한명의 직원의 급여를 반환하는 함수\n",
    "        return self.salary\n",
    "    \n",
    "    def disp(self):\n",
    "        print(\"이름 : \",self.name, end=\" \")\n",
    "        \n",
    "        #print(\"급여 : \",self.salary, end=\" \")\n",
    "        Employee.disp(self) # 부모메서드 호출\n",
    "        print(\"급여 : \",self.getPay(), end=\" \")\n",
    "        \n",
    "    \n"
   ]
  },
  {
   "cell_type": "code",
   "execution_count": 4,
   "id": "78af8262",
   "metadata": {},
   "outputs": [
    {
     "ename": "SyntaxError",
     "evalue": "invalid syntax (1235860150.py, line 13)",
     "output_type": "error",
     "traceback": [
      "\u001b[1;36m  Input \u001b[1;32mIn [4]\u001b[1;36m\u001b[0m\n\u001b[1;33m    def getPay(self)\u001b[0m\n\u001b[1;37m                    ^\u001b[0m\n\u001b[1;31mSyntaxError\u001b[0m\u001b[1;31m:\u001b[0m invalid syntax\n"
     ]
    }
   ],
   "source": [
    "# 영업직 직원을 관리하는 객체 선언\n",
    "class sales(Permanent):\n",
    "    #멤버 필드\n",
    "#     name = \"\"\n",
    "#     salary = 0\n",
    "    bonus = 0\n",
    "    rate = 0.0\n",
    "    #생성자 메서드\n",
    "    def __init__(self, name, salary, bonus, rate):\n",
    "        Permanent.__init__(self, name, salary)\n",
    "        self.bonus = bonus\n",
    "        self.rate = rate\n",
    "    def getPay(self)\n",
    "    return self.salary + (self.bonus*self.rate)\n",
    "\n",
    "    def disp(self):\n",
    "        Permanent.disp(self)\n",
    "        print(\"판매실적 : \",self.bonus, end=\" \")\n",
    "        print(\"보너스율 : \",self.rate, end=\" \")\n",
    "        "
   ]
  },
  {
   "cell_type": "code",
   "execution_count": null,
   "id": "7fbd990b",
   "metadata": {},
   "outputs": [],
   "source": [
    "# 직원 정보를 담고 있는 자료구조 생성\n",
    "employees = []\n",
    "# 새로운 직원을 등록하는 작업\n",
    "\n",
    "e1 = Manager()\n",
    "e1.addEmployee(\"aaa\",1000)\n",
    "employees.append(e1)"
   ]
  },
  {
   "cell_type": "code",
   "execution_count": null,
   "id": "f1af7c6f",
   "metadata": {},
   "outputs": [],
   "source": [
    "# 직원 정보를 담고 있는 자료구조 생성\n",
    "employees = []\n",
    "# 새로운 직원을 등록하는 작업\n",
    "\n",
    "e1 = Manager('aaa', 1000)\n",
    "# e1.addEmployee(\"aaa\",1000)\n",
    "employees.append(e1)"
   ]
  },
  {
   "cell_type": "code",
   "execution_count": null,
   "id": "11938a91",
   "metadata": {},
   "outputs": [],
   "source": [
    "print(employees[0].disp())"
   ]
  },
  {
   "cell_type": "code",
   "execution_count": null,
   "id": "84f896af",
   "metadata": {},
   "outputs": [
    {
     "name": "stdout",
     "output_type": "stream",
     "text": [
      "== 직원관리 프로그램==\n",
      "1. 직원등록\n",
      "2. 직원정보 출력\n",
      "3. 총 금여액 출력\n",
      "4. 프로그램 종료\n",
      "menu =1\n",
      "[1]정규직, [2]영업직 =1\n",
      "이름 = aaa\n",
      "기본급 = 1000\n",
      "직원등록이 완료되었습니다\n",
      "== 직원관리 프로그램==\n",
      "1. 직원등록\n",
      "2. 직원정보 출력\n",
      "3. 총 금여액 출력\n",
      "4. 프로그램 종료\n",
      "menu =1\n",
      "[1]정규직, [2]영업직 =2\n",
      "이름 = bbb\n",
      "기본급 = 200\n",
      "판매실적 =10000\n",
      "보너스율 = 2\n",
      "직원등록이 완료되었습니다\n",
      "== 직원관리 프로그램==\n",
      "1. 직원등록\n",
      "2. 직원정보 출력\n",
      "3. 총 금여액 출력\n",
      "4. 프로그램 종료\n",
      "menu =1\n",
      "[1]정규직, [2]영업직 =2\n",
      "이름 = ccc\n",
      "기본급 = 300\n",
      "판매실적 =2000\n",
      "보너스율 = 3.5\n",
      "직원등록이 완료되었습니다\n",
      "== 직원관리 프로그램==\n",
      "1. 직원등록\n",
      "2. 직원정보 출력\n",
      "3. 총 금여액 출력\n",
      "4. 프로그램 종료\n",
      "menu =2\n",
      "\n",
      "==전체 직원 정보 출력==\n",
      "이름 :  aaa 이름 :  aaa 급여 :  1000 급여 :  1000 직원정보 출력이 완료되었습니다.\n",
      "이름 :  aaa 이름 :  aaa 급여 :  1000 급여 :  1000 직원정보 출력이 완료되었습니다.\n",
      "이름 :  aaa 이름 :  aaa 급여 :  1000 급여 :  1000 직원정보 출력이 완료되었습니다.\n",
      "== 직원관리 프로그램==\n",
      "1. 직원등록\n",
      "2. 직원정보 출력\n",
      "3. 총 금여액 출력\n",
      "4. 프로그램 종료\n"
     ]
    }
   ],
   "source": [
    "# 직원전체 저오를 저장할 객체\n",
    "empList = []\n",
    "while True:\n",
    "    print(\"== 직원관리 프로그램==\")\n",
    "    print(\"1. 직원등록\")\n",
    "    print(\"2. 직원정보 출력\")\n",
    "    print(\"3. 총 금여액 출력\")\n",
    "    print(\"4. 프로그램 종료\")\n",
    "    \n",
    "    menu = int(input(\"menu =\"))\n",
    "    \n",
    "    if menu == 1:\n",
    "        ch = int(input(\"[1]정규직, [2]영업직 =\"))\n",
    "        if ch==1:\n",
    "            name = input(\"이름 = \")\n",
    "            pay = int(input(\"기본급 = \"))\n",
    "            emp= Permanent(name, pay)\n",
    "        elif ch==2:\n",
    "            name = input(\"이름 = \")\n",
    "            pay = int(input(\"기본급 = \"))\n",
    "            bouns = int(input(\"판매실적 =\"))\n",
    "            rate = float(input(\"보너스율 = \"))\n",
    "        \n",
    "        empList.append(emp)\n",
    "        print(\"직원등록이 완료되었습니다\")\n",
    "    elif menu == 2:\n",
    "        print(\"\\n==전체 직원 정보 출력==\")\n",
    "        for emp in empList:\n",
    "            emp.disp()\n",
    "            print(\"직원정보 출력이 완료되었습니다.\")\n",
    "    elif menu == 3:\n",
    "        print(\"\\n==지급되는 직원급여의 총합==\")\n",
    "        for emp in empList:\n",
    "            tot += emp.getPay()\n",
    "        print(\"총 금여액 : \",tot)\n",
    "    elif menu == 4:\n",
    "        print(\"프로그램을 종료합니다.\")\n",
    "        break\n",
    "    else:\n",
    "        print(\"다시 눌러주세요\")\n",
    "    "
   ]
  },
  {
   "cell_type": "markdown",
   "id": "17639514",
   "metadata": {},
   "source": [
    "# - 정규직(Manager. Permanent) : 이름, 기본급/ 급여 = 기본급\n",
    "- 영업직(SaleesMan) : 이름, 기본급, 매출액, 보너스률 / 급여 = 기본급 + 판매수당(매출액 *보너스률)\n",
    "- 임시직(Temporary) : 이름, 시간당급여, 근무시간, / 급여 = 시간당급여 * 근무시간\n",
    "\n",
    "- 직원(Employee) : 이름\n"
   ]
  }
 ],
 "metadata": {
  "kernelspec": {
   "display_name": "Python 3 (ipykernel)",
   "language": "python",
   "name": "python3"
  },
  "language_info": {
   "codemirror_mode": {
    "name": "ipython",
    "version": 3
   },
   "file_extension": ".py",
   "mimetype": "text/x-python",
   "name": "python",
   "nbconvert_exporter": "python",
   "pygments_lexer": "ipython3",
   "version": "3.9.12"
  },
  "toc": {
   "base_numbering": 1,
   "nav_menu": {},
   "number_sections": true,
   "sideBar": true,
   "skip_h1_title": false,
   "title_cell": "Table of Contents",
   "title_sidebar": "Contents",
   "toc_cell": false,
   "toc_position": {
    "height": "calc(100% - 180px)",
    "left": "10px",
    "top": "150px",
    "width": "264.825px"
   },
   "toc_section_display": true,
   "toc_window_display": false
  }
 },
 "nbformat": 4,
 "nbformat_minor": 5
}
