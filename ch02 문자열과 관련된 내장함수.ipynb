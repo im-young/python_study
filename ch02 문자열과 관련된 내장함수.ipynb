{
 "cells": [
  {
   "cell_type": "code",
   "execution_count": 2,
   "id": "1fd6a413",
   "metadata": {},
   "outputs": [
    {
     "name": "stdout",
     "output_type": "stream",
     "text": [
      "안녕하세요\n"
     ]
    }
   ],
   "source": [
    "# 대소문자 변환함수 : upper()와 lower() - 오라클에서\n",
    "#모든 것을 객체로 간주한다.\n",
    "print(\"안녕하세요\")\n",
    "\n",
    "love = print # 객체 복사\n"
   ]
  },
  {
   "cell_type": "code",
   "execution_count": 1,
   "id": "02bcb77e",
   "metadata": {},
   "outputs": [
    {
     "ename": "NameError",
     "evalue": "name 'love' is not defined",
     "output_type": "error",
     "traceback": [
      "\u001b[1;31m---------------------------------------------------------------------------\u001b[0m",
      "\u001b[1;31mNameError\u001b[0m                                 Traceback (most recent call last)",
      "Input \u001b[1;32mIn [1]\u001b[0m, in \u001b[0;36m<cell line: 1>\u001b[1;34m()\u001b[0m\n\u001b[1;32m----> 1\u001b[0m \u001b[43mlove\u001b[49m(\u001b[38;5;124m\"\u001b[39m\u001b[38;5;124m웃기다\u001b[39m\u001b[38;5;124m\"\u001b[39m)\n",
      "\u001b[1;31mNameError\u001b[0m: name 'love' is not defined"
     ]
    }
   ],
   "source": [
    "love(\"웃기다\")"
   ]
  },
  {
   "cell_type": "code",
   "execution_count": 3,
   "id": "ec1301b6",
   "metadata": {},
   "outputs": [
    {
     "name": "stdout",
     "output_type": "stream",
     "text": [
      "웃기다\n"
     ]
    }
   ],
   "source": [
    "love(\"웃기다\") # 파이선에선 예약어도 객체복사가 되기 때문에 조심해서 써야함"
   ]
  },
  {
   "cell_type": "code",
   "execution_count": 8,
   "id": "57b95f93",
   "metadata": {},
   "outputs": [
    {
     "data": {
      "text/plain": [
       "'hello python program....'"
      ]
     },
     "execution_count": 8,
     "metadata": {},
     "output_type": "execute_result"
    }
   ],
   "source": [
    "string = \"Hello python program....\"\n",
    "string\n",
    "\n",
    "\n"
   ]
  },
  {
   "cell_type": "code",
   "execution_count": 18,
   "id": "cc82d976",
   "metadata": {},
   "outputs": [
    {
     "data": {
      "text/plain": [
       "'HELLO PYTHON PROGRAM....'"
      ]
     },
     "execution_count": 18,
     "metadata": {},
     "output_type": "execute_result"
    }
   ],
   "source": [
    "string.upper()"
   ]
  },
  {
   "cell_type": "code",
   "execution_count": 10,
   "id": "333f6a86",
   "metadata": {},
   "outputs": [
    {
     "data": {
      "text/plain": [
       "'hello python program....'"
      ]
     },
     "execution_count": 10,
     "metadata": {},
     "output_type": "execute_result"
    }
   ],
   "source": [
    "string.lower()"
   ]
  },
  {
   "cell_type": "code",
   "execution_count": 21,
   "id": "20e73717",
   "metadata": {},
   "outputs": [
    {
     "ename": "TypeError",
     "evalue": "str.upper() takes no arguments (1 given)",
     "output_type": "error",
     "traceback": [
      "\u001b[1;31m---------------------------------------------------------------------------\u001b[0m",
      "\u001b[1;31mTypeError\u001b[0m                                 Traceback (most recent call last)",
      "Input \u001b[1;32mIn [21]\u001b[0m, in \u001b[0;36m<cell line: 1>\u001b[1;34m()\u001b[0m\n\u001b[1;32m----> 1\u001b[0m \u001b[43mstring\u001b[49m\u001b[38;5;241;43m.\u001b[39;49m\u001b[43mupper\u001b[49m\u001b[43m(\u001b[49m\u001b[38;5;124;43m'\u001b[39;49m\u001b[38;5;124;43mstr\u001b[39;49m\u001b[38;5;124;43m'\u001b[39;49m\u001b[43m)\u001b[49m\n",
      "\u001b[1;31mTypeError\u001b[0m: str.upper() takes no arguments (1 given)"
     ]
    }
   ],
   "source": [
    "string.upper('str') # ()에 매개변수를 넣으면 안된다. => 아무것도 넣으면 안된다."
   ]
  },
  {
   "cell_type": "code",
   "execution_count": 14,
   "id": "5dde3fe2",
   "metadata": {},
   "outputs": [],
   "source": [
    "# strip(오라클에선 trim), lstrim(ltrim), rstrim(rtrim) : 공백을 없애라\n",
    "aaa = \"\"\"\n",
    "          안녕하세여\n",
    "문자열과 관련된\"\"\""
   ]
  },
  {
   "cell_type": "code",
   "execution_count": 15,
   "id": "ad0968de",
   "metadata": {},
   "outputs": [
    {
     "data": {
      "text/plain": [
       "'\\n          안녕하세여\\n문자열과 관련된'"
      ]
     },
     "execution_count": 15,
     "metadata": {},
     "output_type": "execute_result"
    }
   ],
   "source": [
    "aaa"
   ]
  },
  {
   "cell_type": "code",
   "execution_count": 16,
   "id": "a6727852",
   "metadata": {},
   "outputs": [
    {
     "name": "stdout",
     "output_type": "stream",
     "text": [
      "\n",
      "          안녕하세여\n",
      "문자열과 관련된\n"
     ]
    }
   ],
   "source": [
    "print(aaa)"
   ]
  },
  {
   "cell_type": "code",
   "execution_count": 17,
   "id": "008faf36",
   "metadata": {},
   "outputs": [
    {
     "name": "stdout",
     "output_type": "stream",
     "text": [
      "안녕하세여\n",
      "문자열과 관련된\n"
     ]
    }
   ],
   "source": [
    "print(aaa.strip())"
   ]
  },
  {
   "cell_type": "code",
   "execution_count": 22,
   "id": "b877de82",
   "metadata": {},
   "outputs": [
    {
     "name": "stdout",
     "output_type": "stream",
     "text": [
      "<class 'bool'>\n"
     ]
    }
   ],
   "source": [
    "# 논리형 변수 : True or False, and, or, not\n",
    "hungry = True\n",
    "sleep = False\n",
    "\n",
    "print(type(hungry))\n"
   ]
  },
  {
   "cell_type": "code",
   "execution_count": 23,
   "id": "956cd3e3",
   "metadata": {},
   "outputs": [
    {
     "name": "stdout",
     "output_type": "stream",
     "text": [
      "False\n"
     ]
    }
   ],
   "source": [
    "print(hungry and sleep)"
   ]
  },
  {
   "cell_type": "code",
   "execution_count": 24,
   "id": "74671bad",
   "metadata": {},
   "outputs": [
    {
     "name": "stdout",
     "output_type": "stream",
     "text": [
      "True\n"
     ]
    }
   ],
   "source": [
    "print(hungry or sleep)"
   ]
  },
  {
   "cell_type": "code",
   "execution_count": 25,
   "id": "5166f00c",
   "metadata": {},
   "outputs": [
    {
     "ename": "SyntaxError",
     "evalue": "invalid syntax (3506840419.py, line 1)",
     "output_type": "error",
     "traceback": [
      "\u001b[1;36m  Input \u001b[1;32mIn [25]\u001b[1;36m\u001b[0m\n\u001b[1;33m    print(hungry and !sleep)\u001b[0m\n\u001b[1;37m                     ^\u001b[0m\n\u001b[1;31mSyntaxError\u001b[0m\u001b[1;31m:\u001b[0m invalid syntax\n"
     ]
    }
   ],
   "source": [
    "print(hungry and !sleep)"
   ]
  },
  {
   "cell_type": "code",
   "execution_count": 26,
   "id": "f18a3b3c",
   "metadata": {},
   "outputs": [
    {
     "ename": "SyntaxError",
     "evalue": "invalid syntax (446141779.py, line 1)",
     "output_type": "error",
     "traceback": [
      "\u001b[1;36m  Input \u001b[1;32mIn [26]\u001b[1;36m\u001b[0m\n\u001b[1;33m    print(hungry and &&sleep)\u001b[0m\n\u001b[1;37m                     ^\u001b[0m\n\u001b[1;31mSyntaxError\u001b[0m\u001b[1;31m:\u001b[0m invalid syntax\n"
     ]
    }
   ],
   "source": [
    "print(hungry and &&sleep)"
   ]
  },
  {
   "cell_type": "code",
   "execution_count": 27,
   "id": "6edfced7",
   "metadata": {},
   "outputs": [
    {
     "name": "stdout",
     "output_type": "stream",
     "text": [
      "True\n"
     ]
    }
   ],
   "source": [
    "print(hungry and not sleep)"
   ]
  },
  {
   "cell_type": "code",
   "execution_count": 30,
   "id": "3e287049",
   "metadata": {},
   "outputs": [
    {
     "name": "stdout",
     "output_type": "stream",
     "text": [
      "ok\n"
     ]
    }
   ],
   "source": [
    "a = 1\n",
    "b = 3\n",
    "\n",
    "if a == 1 and b == 3:\n",
    "    print(\"ok\")\n",
    "else:\n",
    "    print(\"not ok\")"
   ]
  },
  {
   "cell_type": "code",
   "execution_count": 31,
   "id": "15787926",
   "metadata": {},
   "outputs": [],
   "source": [
    "#비교(관계) 연산자 : ==, !=, >= ....\n",
    "#논리연산자 : and, or, not\n",
    "#조건식에서 쓴다."
   ]
  },
  {
   "cell_type": "code",
   "execution_count": 38,
   "id": "6149c1bc",
   "metadata": {},
   "outputs": [
    {
     "data": {
      "text/plain": [
       "0"
      ]
     },
     "execution_count": 38,
     "metadata": {},
     "output_type": "execute_result"
    }
   ],
   "source": [
    "# find() : 왼쪽부터 찾아서 처음 나오는 위치값을 얻어오는 함수\n",
    "# rfind() : 오른쪽부터 \n",
    "string = \"안녕안녕하세요\".find(\"안녕\")\n",
    "string"
   ]
  },
  {
   "cell_type": "code",
   "execution_count": 39,
   "id": "d413af2c",
   "metadata": {},
   "outputs": [
    {
     "data": {
      "text/plain": [
       "2"
      ]
     },
     "execution_count": 39,
     "metadata": {},
     "output_type": "execute_result"
    }
   ],
   "source": [
    "string = \"안녕안녕하세요\".rfind(\"안녕\") \n",
    "string"
   ]
  },
  {
   "cell_type": "markdown",
   "id": "eb95158f",
   "metadata": {},
   "source": [
    "- 안 녕 안 녕 하 세 요\n",
    "- 0  1  2  3 4 5 6 "
   ]
  },
  {
   "cell_type": "code",
   "execution_count": 41,
   "id": "71af5c44",
   "metadata": {},
   "outputs": [
    {
     "name": "stdout",
     "output_type": "stream",
     "text": [
      "True\n"
     ]
    }
   ],
   "source": [
    "# in 연산자 \n",
    "print ( \"안녕\" in \"안녕하세요\")"
   ]
  },
  {
   "cell_type": "code",
   "execution_count": 42,
   "id": "461137c6",
   "metadata": {},
   "outputs": [
    {
     "name": "stdout",
     "output_type": "stream",
     "text": [
      "False\n"
     ]
    }
   ],
   "source": [
    "print ( \"잘자\" in \"안녕하세요\")"
   ]
  },
  {
   "cell_type": "code",
   "execution_count": 45,
   "id": "dec06358",
   "metadata": {},
   "outputs": [
    {
     "data": {
      "text/plain": [
       "['10', '20', '30', '40', '50']"
      ]
     },
     "execution_count": 45,
     "metadata": {},
     "output_type": "execute_result"
    }
   ],
   "source": [
    "# split() : 문자열을 자르는 함수\n",
    "a = \"10 20 30 40 50\".split(\" \")\n",
    "a"
   ]
  },
  {
   "cell_type": "code",
   "execution_count": 46,
   "id": "befa871a",
   "metadata": {},
   "outputs": [
    {
     "data": {
      "text/plain": [
       "'10'"
      ]
     },
     "execution_count": 46,
     "metadata": {},
     "output_type": "execute_result"
    }
   ],
   "source": [
    "# f-문자열 : 파이선 3.6 버전부터 사용되는 기능\n",
    "#문자열 앞에 f를 붙이고 문자열 내부에 표현식을 {}로 삽입\n",
    "##f'문자열 {표현식}문자열'\n",
    "a = \"{}\".format(10)\n",
    "a"
   ]
  },
  {
   "cell_type": "code",
   "execution_count": 47,
   "id": "1f8a35af",
   "metadata": {},
   "outputs": [
    {
     "data": {
      "text/plain": [
       "str"
      ]
     },
     "execution_count": 47,
     "metadata": {},
     "output_type": "execute_result"
    }
   ],
   "source": [
    "type(a)"
   ]
  },
  {
   "cell_type": "code",
   "execution_count": 48,
   "id": "2ce7b963",
   "metadata": {},
   "outputs": [
    {
     "data": {
      "text/plain": [
       "'10'"
      ]
     },
     "execution_count": 48,
     "metadata": {},
     "output_type": "execute_result"
    }
   ],
   "source": [
    "f'{10}'"
   ]
  },
  {
   "cell_type": "code",
   "execution_count": 50,
   "id": "ea958d9d",
   "metadata": {},
   "outputs": [
    {
     "data": {
      "text/plain": [
       "'3+4 = 7'"
      ]
     },
     "execution_count": 50,
     "metadata": {},
     "output_type": "execute_result"
    }
   ],
   "source": [
    "f\"3+4 = {3+4}\""
   ]
  },
  {
   "cell_type": "code",
   "execution_count": null,
   "id": "289f2dad",
   "metadata": {},
   "outputs": [],
   "source": []
  }
 ],
 "metadata": {
  "kernelspec": {
   "display_name": "Python 3 (ipykernel)",
   "language": "python",
   "name": "python3"
  },
  "language_info": {
   "codemirror_mode": {
    "name": "ipython",
    "version": 3
   },
   "file_extension": ".py",
   "mimetype": "text/x-python",
   "name": "python",
   "nbconvert_exporter": "python",
   "pygments_lexer": "ipython3",
   "version": "3.9.12"
  },
  "toc": {
   "base_numbering": 1,
   "nav_menu": {},
   "number_sections": true,
   "sideBar": true,
   "skip_h1_title": false,
   "title_cell": "Table of Contents",
   "title_sidebar": "Contents",
   "toc_cell": false,
   "toc_position": {},
   "toc_section_display": true,
   "toc_window_display": false
  }
 },
 "nbformat": 4,
 "nbformat_minor": 5
}
