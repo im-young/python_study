{
 "cells": [
  {
   "cell_type": "code",
   "execution_count": 1,
   "id": "e43de869",
   "metadata": {},
   "outputs": [],
   "source": [
    "# 문자열 모듈\n",
    "import string"
   ]
  },
  {
   "cell_type": "code",
   "execution_count": 5,
   "id": "4e66da51",
   "metadata": {},
   "outputs": [
    {
     "name": "stdout",
     "output_type": "stream",
     "text": [
      "capwords :  All That I Need You\n",
      "upper :  ALL THAT I NEED YOU\n",
      "lower :  all that i need you\n",
      "split :  ['All', 'that', 'i', 'need', 'you']\n",
      "replace :  All that i need him\n",
      "find : 11\n",
      "count : 2\n"
     ]
    }
   ],
   "source": [
    "text = 'All that i need you'\n",
    "\n",
    "# 첫글자만 대문자로 표현하는 함수\n",
    "print('capwords : ', string.capwords(text))\n",
    "# 전체대문자로 변환\n",
    "print('upper : ',text.upper())\n",
    "#전체 소문자로 변환\n",
    "print('lower : ',text.lower())\n",
    "#구분기호로 나누기 : 리스트로 변환\n",
    "print('split : ',text.split(\" \"))\n",
    "#치환\n",
    "print('replace : ',text.replace(\"you\", 'him'))\n",
    "#문자열의 위치를 찾는 함수\n",
    "print('find :', text.find('need'))\n",
    "#글자수 세기\n",
    "print('count :',text.count('e'))\n"
   ]
  },
  {
   "cell_type": "markdown",
   "id": "1ad5d83d",
   "metadata": {},
   "source": [
    "##### Q  1 다시 풀어보기\n",
    "- 사용자로 부터 30글자 이상의 문자열을 입력받아 처리한다.\n",
    "- 알파벳이 몇개로 구성되어있는지 출력한다. isalpha() :True(1) or False(0)\n",
    "- 대문자_isupper(), 소문자_islower() 각각 몇개로 구성되었는지 출력한다.\n",
    "- is 를 붙이면 '함수'입니까? 라고 묻는것"
   ]
  },
  {
   "cell_type": "code",
   "execution_count": 11,
   "id": "83ed8821",
   "metadata": {},
   "outputs": [
    {
     "name": "stdout",
     "output_type": "stream",
     "text": [
      "30자 이상의 문자열을 입력하세요: the grown-ups' response, this time, was to advise me to lay aside my drawings of boa constrictors, whether from the inside or the outside, and devote myself instead to geography, history, arithmetic, and grammar. That is why, at the, age of six, I gave up what might have been a magnificent career as a painter. I had been disheartened by the failure of my Drawing Number One and my Drawing Number Two. Grown-ups never understand anything by themselves, and it is tiresome for children to be always and forever explaining things to the.\n",
      "알파벳 갯수: False\n",
      "대문자 갯수: False\n",
      "소문자 갯수: False\n"
     ]
    }
   ],
   "source": [
    "## 다시 풀어보기\n",
    "\n",
    "a = str(input('30자 이상의 문자열을 입력하세요: '))\n",
    "print(\"알파벳 갯수:\" , a.isalpha())\n",
    "print('대문자 갯수:', a.isupper())\n",
    "print('소문자 갯수:', a.islower())\n"
   ]
  },
  {
   "cell_type": "code",
   "execution_count": null,
   "id": "b9cd9138",
   "metadata": {},
   "outputs": [],
   "source": [
    "text = input(\"글자:\")\n",
    "alpha = 0"
   ]
  },
  {
   "cell_type": "code",
   "execution_count": 12,
   "id": "bcc51062",
   "metadata": {},
   "outputs": [
    {
     "name": "stdout",
     "output_type": "stream",
     "text": [
      "더하기:  8\n",
      "빼기 :  2\n"
     ]
    }
   ],
   "source": [
    "import mod1  \n",
    "\n",
    "print('더하기: ' ,mod1.add(3, 5))\n",
    "print('빼기 : ',mod1.sub(4,2))\n",
    "\n"
   ]
  },
  {
   "cell_type": "code",
   "execution_count": 1,
   "id": "9c601d77",
   "metadata": {},
   "outputs": [
    {
     "name": "stdout",
     "output_type": "stream",
     "text": [
      "더하기:  8\n"
     ]
    },
    {
     "ename": "NameError",
     "evalue": "name 'mod1' is not defined",
     "output_type": "error",
     "traceback": [
      "\u001b[1;31m---------------------------------------------------------------------------\u001b[0m",
      "\u001b[1;31mNameError\u001b[0m                                 Traceback (most recent call last)",
      "Input \u001b[1;32mIn [1]\u001b[0m, in \u001b[0;36m<cell line: 3>\u001b[1;34m()\u001b[0m\n\u001b[0;32m      1\u001b[0m \u001b[38;5;28;01mfrom\u001b[39;00m \u001b[38;5;21;01mmod1\u001b[39;00m \u001b[38;5;28;01mimport\u001b[39;00m add, sub \u001b[38;5;66;03m# 해당 모듈을 일부분만 가져와서 사용\u001b[39;00m\n\u001b[0;32m      2\u001b[0m \u001b[38;5;28mprint\u001b[39m(\u001b[38;5;124m'\u001b[39m\u001b[38;5;124m더하기: \u001b[39m\u001b[38;5;124m'\u001b[39m ,add(\u001b[38;5;241m3\u001b[39m, \u001b[38;5;241m5\u001b[39m))\n\u001b[1;32m----> 3\u001b[0m \u001b[38;5;28mprint\u001b[39m(\u001b[38;5;124m'\u001b[39m\u001b[38;5;124m빼기 : \u001b[39m\u001b[38;5;124m'\u001b[39m,\u001b[43mmod1\u001b[49m\u001b[38;5;241m.\u001b[39msub(\u001b[38;5;241m4\u001b[39m,\u001b[38;5;241m2\u001b[39m))\n",
      "\u001b[1;31mNameError\u001b[0m: name 'mod1' is not defined"
     ]
    }
   ],
   "source": [
    "from mod1 import add, sub # 해당 모듈을 일부분만 가져와서 사용\n",
    "# from 으로 모듈명 불러 올땐 함수 앞에 모듈명 안붙임\n",
    "print('더하기: ' ,add(3, 5))\n",
    "print('빼기 : ',mod1.sub(4,2))"
   ]
  },
  {
   "cell_type": "code",
   "execution_count": 14,
   "id": "aae13356",
   "metadata": {},
   "outputs": [],
   "source": [
    "# 해당 모듈을 다 가져 가져와서 사용 2\n",
    "from mod1 import * "
   ]
  },
  {
   "cell_type": "code",
   "execution_count": 16,
   "id": "dd880c14",
   "metadata": {},
   "outputs": [
    {
     "ename": "TypeError",
     "evalue": "can only concatenate str (not \"int\") to str",
     "output_type": "error",
     "traceback": [
      "\u001b[1;31m---------------------------------------------------------------------------\u001b[0m",
      "\u001b[1;31mTypeError\u001b[0m                                 Traceback (most recent call last)",
      "Input \u001b[1;32mIn [16]\u001b[0m, in \u001b[0;36m<cell line: 1>\u001b[1;34m()\u001b[0m\n\u001b[1;32m----> 1\u001b[0m \u001b[43mmod1\u001b[49m\u001b[38;5;241;43m.\u001b[39;49m\u001b[43madd\u001b[49m\u001b[43m(\u001b[49m\u001b[38;5;124;43m\"\u001b[39;49m\u001b[38;5;124;43mkor\u001b[39;49m\u001b[38;5;124;43m\"\u001b[39;49m\u001b[43m,\u001b[49m\u001b[43m \u001b[49m\u001b[38;5;241;43m3\u001b[39;49m\u001b[43m)\u001b[49m\n",
      "File \u001b[1;32mC:\\k_disital\\source\\python_source\\mod1.py:4\u001b[0m, in \u001b[0;36madd\u001b[1;34m(a, b)\u001b[0m\n\u001b[0;32m      3\u001b[0m \u001b[38;5;28;01mdef\u001b[39;00m \u001b[38;5;21madd\u001b[39m(a, b):\n\u001b[1;32m----> 4\u001b[0m     \u001b[38;5;28;01mreturn\u001b[39;00m \u001b[43ma\u001b[49m\u001b[43m \u001b[49m\u001b[38;5;241;43m+\u001b[39;49m\u001b[43m \u001b[49m\u001b[43mb\u001b[49m\n",
      "\u001b[1;31mTypeError\u001b[0m: can only concatenate str (not \"int\") to str"
     ]
    }
   ],
   "source": [
    "mod1.add(\"kor\", 3)\n",
    "# 타입에러 생김"
   ]
  },
  {
   "cell_type": "code",
   "execution_count": 17,
   "id": "20ef6039",
   "metadata": {},
   "outputs": [
    {
     "name": "stdout",
     "output_type": "stream",
     "text": [
      "자료형이 일치하지 않습니다.\n"
     ]
    }
   ],
   "source": [
    "import mod2\n",
    "mod2.safe_sum('kor', 3) # 함수에 프린트가 있는데 프린트로 담으면 오류날 수 ㅇㅆ음"
   ]
  },
  {
   "cell_type": "code",
   "execution_count": 18,
   "id": "b272f0b1",
   "metadata": {},
   "outputs": [
    {
     "data": {
      "text/plain": [
       "8"
      ]
     },
     "execution_count": 18,
     "metadata": {},
     "output_type": "execute_result"
    }
   ],
   "source": [
    "mod2.safe_sum(5, 3)"
   ]
  },
  {
   "cell_type": "code",
   "execution_count": 2,
   "id": "6f3e1270",
   "metadata": {},
   "outputs": [],
   "source": [
    "import mod1"
   ]
  },
  {
   "cell_type": "code",
   "execution_count": 3,
   "id": "984eb00d",
   "metadata": {},
   "outputs": [],
   "source": [
    "import students"
   ]
  },
  {
   "cell_type": "code",
   "execution_count": 4,
   "id": "ac3479dd",
   "metadata": {},
   "outputs": [
    {
     "name": "stdout",
     "output_type": "stream",
     "text": [
      "__main__\n"
     ]
    }
   ],
   "source": [
    "print(__name__)"
   ]
  },
  {
   "cell_type": "code",
   "execution_count": 6,
   "id": "8cb166e9",
   "metadata": {},
   "outputs": [],
   "source": [
    "from students import *"
   ]
  },
  {
   "cell_type": "code",
   "execution_count": 8,
   "id": "c294254f",
   "metadata": {},
   "outputs": [
    {
     "name": "stdout",
     "output_type": "stream",
     "text": [
      "====== 학생 관리 ======\n",
      "1. 학생 등록\n",
      "2. 학번 검색\n",
      "3. 학번 수정\n",
      "4. 같은 이름 학생 확인\n",
      "5. 전체 출력\n",
      "6. 프로그램 종료\n",
      "=======================\n",
      "\n",
      "번호 입력 : 6\n",
      "\n",
      "프로그램을 종료합니다.\n"
     ]
    }
   ],
   "source": [
    "stu = Student()\n",
    "stu.menu()"
   ]
  },
  {
   "cell_type": "markdown",
   "id": "1ee0e347",
   "metadata": {},
   "source": [
    "### 패키지(Package)\n",
    "- 물리적으로 여러개의 모듈을 모아놓은 디렉토리(폴더)\n",
    "- 모듈 : 파이썬 파일(*.py(확장자가 py))\n",
    "- 패키지 : 디렉토리(폴더)"
   ]
  },
  {
   "cell_type": "code",
   "execution_count": 9,
   "id": "fb96e1f3",
   "metadata": {},
   "outputs": [],
   "source": [
    "# __ inti__.py 파일의 의미( 지금은 필요 없음)\n",
    "## 해당 디렉토리가 패키지임을 알려주는 역할을 수행하는 파일\n",
    "## 파이썬 버전 3.3 부터 없어도 패키지로 인식한다.\n"
   ]
  },
  {
   "cell_type": "code",
   "execution_count": null,
   "id": "c44d7b95",
   "metadata": {},
   "outputs": [],
   "source": []
  }
 ],
 "metadata": {
  "kernelspec": {
   "display_name": "Python 3 (ipykernel)",
   "language": "python",
   "name": "python3"
  },
  "language_info": {
   "codemirror_mode": {
    "name": "ipython",
    "version": 3
   },
   "file_extension": ".py",
   "mimetype": "text/x-python",
   "name": "python",
   "nbconvert_exporter": "python",
   "pygments_lexer": "ipython3",
   "version": "3.9.12"
  },
  "toc": {
   "base_numbering": 1,
   "nav_menu": {},
   "number_sections": true,
   "sideBar": true,
   "skip_h1_title": false,
   "title_cell": "Table of Contents",
   "title_sidebar": "Contents",
   "toc_cell": false,
   "toc_position": {},
   "toc_section_display": true,
   "toc_window_display": false
  }
 },
 "nbformat": 4,
 "nbformat_minor": 5
}
