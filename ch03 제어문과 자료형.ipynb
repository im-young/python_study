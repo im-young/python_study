{
 "cells": [
  {
   "cell_type": "markdown",
   "id": "037db230",
   "metadata": {},
   "source": [
    "# 자료구조\n",
    "- 데이터를 저장하는 기억공간을 효율적으로 사용할 수 있도록 도와주는 기능\n",
    "- 기억공간을 효율적으로 사용한다는 것은 장비를 최소화하고 처리속도를 빠르게\n",
    "- 파이썬에서 제공하는 자료구조 : 리스트, 튜플, 시트(집합), 딕셔너리, 데이터프레임\n",
    "(변수 : 자료구조의 가장 작은 구조, 하나를 저장하면 다른하나는 삭제됨)\n",
    "(여러개의 데이터를 담으려면 여러 변수가 필요)\n"
   ]
  },
  {
   "cell_type": "markdown",
   "id": "3255adb8",
   "metadata": {},
   "source": [
    "## 리스트(List)- 파이선만 사용( 다른곳에선 배열(arragy))\n",
    "- 임의의 객체를 순서대로 저장하는 자료형(시퀀스_sequence : 순서대로)\n",
    "- 각 데이터의 값이 담겨지는 위치를 인덱스(index)라고 부른다.\n",
    "- 인덱스는 0부터 시작된다.\n",
    "- 변경 가능\n",
    "- 대괄호 [] 를 사용하여 데이터를 표현한다.\n",
    "[] : 1차열 배열, [][] :2차원 배열(리스트 안에 또 다른 리스트를 담을 수 있다)\n",
    "튜플이랑 거의 비슷(소괄호,대괄호의 차이/ 튜플은 변경할 수 없다)\n"
   ]
  },
  {
   "cell_type": "code",
   "execution_count": 2,
   "id": "b3b2d406",
   "metadata": {},
   "outputs": [],
   "source": [
    "# 리스트(list) : 하나의 변수에 여러 값을 할당하는 자료구조, 자료형\n",
    "# 시퀀스 자료형 : 순서대로 데이터를 저장하는 자료형(리스트, 문자열, 튜플)\n",
    "a = [10, 20, 30, 40, 50] "
   ]
  },
  {
   "cell_type": "code",
   "execution_count": 5,
   "id": "93b2ca8d",
   "metadata": {},
   "outputs": [
    {
     "name": "stdout",
     "output_type": "stream",
     "text": [
      "<class 'list'>\n"
     ]
    }
   ],
   "source": [
    "#자료형을 확인하는 함수\n",
    "print(type(a))"
   ]
  },
  {
   "cell_type": "code",
   "execution_count": 6,
   "id": "141e2aca",
   "metadata": {},
   "outputs": [
    {
     "data": {
      "text/plain": [
       "['red', 'blue', 'green']"
      ]
     },
     "execution_count": 6,
     "metadata": {},
     "output_type": "execute_result"
    }
   ],
   "source": [
    "b= ['red', 'blue', 'green']\n",
    "b"
   ]
  },
  {
   "cell_type": "code",
   "execution_count": 8,
   "id": "2958f3bb",
   "metadata": {},
   "outputs": [
    {
     "data": {
      "text/plain": [
       "'red'"
      ]
     },
     "execution_count": 8,
     "metadata": {},
     "output_type": "execute_result"
    }
   ],
   "source": [
    "#인덱스(index) : 데이터의 위치\n",
    "b[0]"
   ]
  },
  {
   "cell_type": "code",
   "execution_count": 9,
   "id": "bd6c9aba",
   "metadata": {},
   "outputs": [
    {
     "data": {
      "text/plain": [
       "'green'"
      ]
     },
     "execution_count": 9,
     "metadata": {},
     "output_type": "execute_result"
    }
   ],
   "source": [
    "b[-1]"
   ]
  },
  {
   "cell_type": "code",
   "execution_count": 13,
   "id": "a8a91b2f",
   "metadata": {},
   "outputs": [
    {
     "data": {
      "text/plain": [
       "[1, 2, 3, ['a', 'b', 'c']]"
      ]
     },
     "execution_count": 13,
     "metadata": {},
     "output_type": "execute_result"
    }
   ],
   "source": [
    "# 중첩리스트 : 리스트 안에 또 다른 리스트를 담는 것\n",
    "x = [1, 2, 3, ['a', 'b', 'c']]\n",
    "x"
   ]
  },
  {
   "cell_type": "code",
   "execution_count": 14,
   "id": "3fe5c6c8",
   "metadata": {},
   "outputs": [
    {
     "data": {
      "text/plain": [
       "['a', 'b', 'c']"
      ]
     },
     "execution_count": 14,
     "metadata": {},
     "output_type": "execute_result"
    }
   ],
   "source": [
    "x[3]"
   ]
  },
  {
   "cell_type": "code",
   "execution_count": 15,
   "id": "0ebfbc70",
   "metadata": {},
   "outputs": [
    {
     "data": {
      "text/plain": [
       "'a'"
      ]
     },
     "execution_count": 15,
     "metadata": {},
     "output_type": "execute_result"
    }
   ],
   "source": [
    "x[3][0]"
   ]
  },
  {
   "cell_type": "code",
   "execution_count": 16,
   "id": "42f2e502",
   "metadata": {},
   "outputs": [
    {
     "data": {
      "text/plain": [
       "'c'"
      ]
     },
     "execution_count": 16,
     "metadata": {},
     "output_type": "execute_result"
    }
   ],
   "source": [
    "x[-1][-1]"
   ]
  },
  {
   "cell_type": "code",
   "execution_count": 17,
   "id": "58b72a2d",
   "metadata": {},
   "outputs": [
    {
     "data": {
      "text/plain": [
       "[1, 2, 3, 4, 5]"
      ]
     },
     "execution_count": 17,
     "metadata": {},
     "output_type": "execute_result"
    }
   ],
   "source": [
    "y = [1, 2, 3, 4, 5]\n",
    "y"
   ]
  },
  {
   "cell_type": "code",
   "execution_count": 20,
   "id": "559b0d2b",
   "metadata": {},
   "outputs": [
    {
     "data": {
      "text/plain": [
       "[10, 2, 3, 4, 5]"
      ]
     },
     "execution_count": 20,
     "metadata": {},
     "output_type": "execute_result"
    }
   ],
   "source": [
    "# 변수 = 값\n",
    "y[0] = 10\n",
    "y"
   ]
  },
  {
   "cell_type": "code",
   "execution_count": 22,
   "id": "cc885397",
   "metadata": {},
   "outputs": [
    {
     "data": {
      "text/plain": [
       "[1, 2, 3, 4, 5]"
      ]
     },
     "execution_count": 22,
     "metadata": {},
     "output_type": "execute_result"
    }
   ],
   "source": [
    "# 슬라이싱(slicing) :리스트의 범위지정을 통해 데이터를 추출, 갖고올 데이터의 시작위치(start): 마지막위치(end)\n",
    "#파이썬은 마지막 데이터를 포함하지 않는다. end-1번째 까지만 추출\n",
    "x = [1, 2, 3, 4, 5]\n",
    "x"
   ]
  },
  {
   "cell_type": "code",
   "execution_count": 23,
   "id": "30f817ba",
   "metadata": {},
   "outputs": [
    {
     "data": {
      "text/plain": [
       "[1, 2, 3, 4, 5]"
      ]
     },
     "execution_count": 23,
     "metadata": {},
     "output_type": "execute_result"
    }
   ],
   "source": [
    "x[0:5]"
   ]
  },
  {
   "cell_type": "code",
   "execution_count": 24,
   "id": "5f292c9a",
   "metadata": {},
   "outputs": [
    {
     "data": {
      "text/plain": [
       "[1, 2, 3, 4, 5]"
      ]
     },
     "execution_count": 24,
     "metadata": {},
     "output_type": "execute_result"
    }
   ],
   "source": [
    "x[:5]"
   ]
  },
  {
   "cell_type": "code",
   "execution_count": 26,
   "id": "ec4ea356",
   "metadata": {},
   "outputs": [
    {
     "data": {
      "text/plain": [
       "[1, 2, 3, 4, 5]"
      ]
     },
     "execution_count": 26,
     "metadata": {},
     "output_type": "execute_result"
    }
   ],
   "source": [
    "x[0:]"
   ]
  },
  {
   "cell_type": "code",
   "execution_count": 27,
   "id": "23a5c27a",
   "metadata": {},
   "outputs": [
    {
     "data": {
      "text/plain": [
       "[1, 2, 3, 4, 5]"
      ]
     },
     "execution_count": 27,
     "metadata": {},
     "output_type": "execute_result"
    }
   ],
   "source": [
    "x[:]"
   ]
  },
  {
   "cell_type": "code",
   "execution_count": 28,
   "id": "ff9f3edb",
   "metadata": {},
   "outputs": [],
   "source": [
    "cities = ['서울', '부산', '인천', '대구', '대전', '울산', '수원'] "
   ]
  },
  {
   "cell_type": "code",
   "execution_count": 30,
   "id": "1e230318",
   "metadata": {},
   "outputs": [
    {
     "name": "stdout",
     "output_type": "stream",
     "text": [
      "['서울', '부산', '인천', '대구', '대전', '울산', '수원']\n",
      "['서울', '부산', '인천', '대구', '대전', '울산', '수원']\n",
      "['서울', '부산', '인천', '대구', '대전', '울산', '수원']\n",
      "['서울', '부산', '인천', '대구', '대전', '울산', '수원']\n",
      "['서울', '부산', '인천', '대구', '대전', '울산', '수원']\n"
     ]
    }
   ],
   "source": [
    "# 변수명 [인덱스]\n",
    "# 변수명[시작인덱스:마지막인덱스], 마지막인덱스 -1까지만 추출\n",
    "print(cities)\n",
    "print(cities[0:8])\n",
    "print(cities[:8])\n",
    "print(cities[0:])\n",
    "print(cities[:])"
   ]
  },
  {
   "cell_type": "code",
   "execution_count": 35,
   "id": "0b7f0cc4",
   "metadata": {},
   "outputs": [
    {
     "name": "stdout",
     "output_type": "stream",
     "text": [
      "['서울', '부산', '인천', '대구', '대전', '울산', '수원']\n"
     ]
    }
   ],
   "source": [
    "print(cities[-8:])"
   ]
  },
  {
   "cell_type": "code",
   "execution_count": null,
   "id": "c43d3d5e",
   "metadata": {},
   "outputs": [],
   "source": [
    "# 증가값(step) (데이터 할 때 많이 쓴다)\n",
    "# 변수명[시작인덱스:마지막인덱스:증감값]\n"
   ]
  },
  {
   "cell_type": "code",
   "execution_count": 40,
   "id": "5c9494a5",
   "metadata": {},
   "outputs": [
    {
     "data": {
      "text/plain": [
       "['서울', '인천', '대전', '수원']"
      ]
     },
     "execution_count": 40,
     "metadata": {},
     "output_type": "execute_result"
    }
   ],
   "source": [
    "cities[::2] # 모든데이터를 대상으로 하되 두칸씩 띄어서 갖고와라"
   ]
  },
  {
   "cell_type": "code",
   "execution_count": 42,
   "id": "269746f5",
   "metadata": {},
   "outputs": [
    {
     "data": {
      "text/plain": [
       "['수원', '울산', '대전', '대구', '인천', '부산', '서울']"
      ]
     },
     "execution_count": 42,
     "metadata": {},
     "output_type": "execute_result"
    }
   ],
   "source": [
    "cities[::-1]#역으로 슬라이싱"
   ]
  },
  {
   "cell_type": "code",
   "execution_count": 52,
   "id": "1f53349d",
   "metadata": {},
   "outputs": [
    {
     "name": "stdout",
     "output_type": "stream",
     "text": [
      "a = [1, 2, 3, 4, 5]\n",
      "b = [1, 2, 3, 4, 5]\n"
     ]
    }
   ],
   "source": [
    "#깊은 복사(똑같은 주소를 다른 변수에 담는다, 두개의 변수는 같은 값으로 읽어온다.)와 얕은 복사 \n",
    "#-> 깊은 복사는 하면 안되고 얕은 복사를 해야함 (파이썬의 특징)\n",
    "a = [1,2,3,4,5]\n",
    "b = a # 개체복사\n",
    "print(\"a =\", a)\n",
    "print(\"b =\", b)"
   ]
  },
  {
   "cell_type": "code",
   "execution_count": 50,
   "id": "fda6bbaa",
   "metadata": {},
   "outputs": [
    {
     "name": "stdout",
     "output_type": "stream",
     "text": [
      "a = [10, 2, 3, 4, 5]\n",
      "b = [10, 2, 3, 4, 5]\n"
     ]
    }
   ],
   "source": [
    "a [0] = 10\n",
    "print(\"a =\", a)\n",
    "print(\"b =\", b)"
   ]
  },
  {
   "cell_type": "code",
   "execution_count": 51,
   "id": "8627f984",
   "metadata": {},
   "outputs": [
    {
     "name": "stdout",
     "output_type": "stream",
     "text": [
      "2021327514496\n",
      "2021327514496\n"
     ]
    }
   ],
   "source": [
    "# 자료형의 주소를 읽어오는 함수 : id()\n",
    "print(id(a))\n",
    "print(id(b))"
   ]
  },
  {
   "cell_type": "code",
   "execution_count": 53,
   "id": "26eda309",
   "metadata": {},
   "outputs": [
    {
     "name": "stdout",
     "output_type": "stream",
     "text": [
      "a = [1, 2, 3, 4, 5]\n",
      "b = [1, 2, 3, 4, 5]\n"
     ]
    }
   ],
   "source": [
    "#얕은 복사\n",
    "a = [1,2,3,4,5]\n",
    "b =a[:] # 값만 갖고 오라는 것\n",
    "print(\"a =\", a)\n",
    "print(\"b =\", b)"
   ]
  },
  {
   "cell_type": "code",
   "execution_count": 55,
   "id": "13310abe",
   "metadata": {},
   "outputs": [
    {
     "name": "stdout",
     "output_type": "stream",
     "text": [
      "a = [10, 2, 3, 4, 5]\n",
      "b = [1, 2, 3, 4, 5]\n"
     ]
    }
   ],
   "source": [
    "a [0] = 10\n",
    "print(\"a =\", a)\n",
    "print(\"b =\", b)"
   ]
  },
  {
   "cell_type": "code",
   "execution_count": 54,
   "id": "95c2fd7d",
   "metadata": {},
   "outputs": [
    {
     "name": "stdout",
     "output_type": "stream",
     "text": [
      "2021327594304\n",
      "2021327508352\n"
     ]
    }
   ],
   "source": [
    "print(id(a))\n",
    "print(id(b))"
   ]
  },
  {
   "cell_type": "markdown",
   "id": "77d7a242",
   "metadata": {},
   "source": [
    "### 리스트의 연산( 리스트끼리의 연산)"
   ]
  },
  {
   "cell_type": "code",
   "execution_count": 56,
   "id": "d679a651",
   "metadata": {},
   "outputs": [
    {
     "data": {
      "text/plain": [
       "[1, 2, 3, 4, 5, 6]"
      ]
     },
     "execution_count": 56,
     "metadata": {},
     "output_type": "execute_result"
    }
   ],
   "source": [
    "#덧셈연산\n",
    "x = [1, 2, 3]\n",
    "y = [4, 5, 6]\n",
    "a = x + y # extend(확장)\n",
    "a"
   ]
  },
  {
   "cell_type": "code",
   "execution_count": 57,
   "id": "1362475c",
   "metadata": {},
   "outputs": [
    {
     "name": "stdout",
     "output_type": "stream",
     "text": [
      "['red', 'blue', 'green', 'orange', 'black', 'white']\n",
      "3\n"
     ]
    }
   ],
   "source": [
    "xx = ['red', 'blue', 'green']\n",
    "yy = ['orange', 'black', 'white']\n",
    "print(xx + yy)\n",
    "print(len(xx))"
   ]
  },
  {
   "cell_type": "code",
   "execution_count": 58,
   "id": "7f90d18a",
   "metadata": {},
   "outputs": [
    {
     "data": {
      "text/plain": [
       "['red', 'blue', 'green', 'red', 'blue', 'green', 'red', 'blue', 'green']"
      ]
     },
     "execution_count": 58,
     "metadata": {},
     "output_type": "execute_result"
    }
   ],
   "source": [
    "#리스트 곱셈\n",
    "xx * 3"
   ]
  },
  {
   "cell_type": "code",
   "execution_count": 59,
   "id": "d02b7fd2",
   "metadata": {},
   "outputs": [
    {
     "name": "stdout",
     "output_type": "stream",
     "text": [
      "3\n",
      "hellopython\n"
     ]
    },
    {
     "ename": "TypeError",
     "evalue": "unsupported operand type(s) for +: 'int' and 'str'",
     "output_type": "error",
     "traceback": [
      "\u001b[1;31m---------------------------------------------------------------------------\u001b[0m",
      "\u001b[1;31mTypeError\u001b[0m                                 Traceback (most recent call last)",
      "Input \u001b[1;32mIn [59]\u001b[0m, in \u001b[0;36m<cell line: 4>\u001b[1;34m()\u001b[0m\n\u001b[0;32m      2\u001b[0m \u001b[38;5;28mprint\u001b[39m(a[\u001b[38;5;241m2\u001b[39m])\n\u001b[0;32m      3\u001b[0m \u001b[38;5;28mprint\u001b[39m(\u001b[38;5;124m\"\u001b[39m\u001b[38;5;124mhello\u001b[39m\u001b[38;5;124m\"\u001b[39m \u001b[38;5;241m+\u001b[39m \u001b[38;5;124m\"\u001b[39m\u001b[38;5;124mpython\u001b[39m\u001b[38;5;124m\"\u001b[39m)\n\u001b[1;32m----> 4\u001b[0m \u001b[38;5;28mprint\u001b[39m(\u001b[43ma\u001b[49m\u001b[43m[\u001b[49m\u001b[38;5;241;43m2\u001b[39;49m\u001b[43m]\u001b[49m\u001b[43m \u001b[49m\u001b[38;5;241;43m+\u001b[39;49m\u001b[43m \u001b[49m\u001b[38;5;124;43m\"\u001b[39;49m\u001b[38;5;124;43mhi\u001b[39;49m\u001b[38;5;124;43m\"\u001b[39;49m)\n",
      "\u001b[1;31mTypeError\u001b[0m: unsupported operand type(s) for +: 'int' and 'str'"
     ]
    }
   ],
   "source": [
    "a = [1, 2, 3]\n",
    "print(a[2])\n",
    "print(\"hello\" + \"python\")\n",
    "print(a[2] + \"hi\") # 숫자와 문자는 못더함"
   ]
  },
  {
   "cell_type": "code",
   "execution_count": 60,
   "id": "1e5fd898",
   "metadata": {},
   "outputs": [
    {
     "data": {
      "text/plain": [
       "list"
      ]
     },
     "execution_count": 60,
     "metadata": {},
     "output_type": "execute_result"
    }
   ],
   "source": [
    "type(a)"
   ]
  },
  {
   "cell_type": "code",
   "execution_count": 61,
   "id": "7396adf8",
   "metadata": {},
   "outputs": [
    {
     "data": {
      "text/plain": [
       "int"
      ]
     },
     "execution_count": 61,
     "metadata": {},
     "output_type": "execute_result"
    }
   ],
   "source": [
    "type(a[2])"
   ]
  },
  {
   "cell_type": "code",
   "execution_count": 62,
   "id": "faecd8f2",
   "metadata": {},
   "outputs": [
    {
     "name": "stdout",
     "output_type": "stream",
     "text": [
      "3hi\n"
     ]
    }
   ],
   "source": [
    "print(str(a[2])+\"hi\")"
   ]
  },
  {
   "cell_type": "code",
   "execution_count": 63,
   "id": "340972be",
   "metadata": {},
   "outputs": [
    {
     "data": {
      "text/plain": [
       "['red', 'blue', 'green', 'orange', 'black', 'white']"
      ]
     },
     "execution_count": 63,
     "metadata": {},
     "output_type": "execute_result"
    }
   ],
   "source": [
    "#in 연산 : 포함 여부를 나타내는 연산\n",
    "color = ['red', 'blue','green', 'orange','black', 'white']\n",
    "color"
   ]
  },
  {
   "cell_type": "code",
   "execution_count": 64,
   "id": "bf24dcbd",
   "metadata": {},
   "outputs": [
    {
     "data": {
      "text/plain": [
       "True"
      ]
     },
     "execution_count": 64,
     "metadata": {},
     "output_type": "execute_result"
    }
   ],
   "source": [
    "'blue' in color"
   ]
  },
  {
   "cell_type": "code",
   "execution_count": 65,
   "id": "aa2f412c",
   "metadata": {},
   "outputs": [
    {
     "data": {
      "text/plain": [
       "['red', 'blue', 'green']"
      ]
     },
     "execution_count": 65,
     "metadata": {},
     "output_type": "execute_result"
    }
   ],
   "source": [
    "#리스트의 추가, 삭제\n",
    "##oppend() : 새로운 데이터가 마지막 위치에 추가된다\n",
    "color = ['red', 'blue','green']\n",
    "color"
   ]
  },
  {
   "cell_type": "code",
   "execution_count": 66,
   "id": "bd3a47f0",
   "metadata": {},
   "outputs": [
    {
     "data": {
      "text/plain": [
       "['red', 'blue', 'green', 'white']"
      ]
     },
     "execution_count": 66,
     "metadata": {},
     "output_type": "execute_result"
    }
   ],
   "source": [
    "color.append('white')\n",
    "color"
   ]
  },
  {
   "cell_type": "code",
   "execution_count": 67,
   "id": "4b071f1d",
   "metadata": {},
   "outputs": [
    {
     "data": {
      "text/plain": [
       "['red', 'blue', 'green', 'orange', 'black', 'white']"
      ]
     },
     "execution_count": 67,
     "metadata": {},
     "output_type": "execute_result"
    }
   ],
   "source": [
    "#extend() : 기존에 리스트에 새로운 리스트를 추가. 리스트 + 리스트\n",
    "color = ['red', 'blue','green']\n",
    "color.extend(['orange','black', 'white'])\n",
    "color"
   ]
  },
  {
   "cell_type": "code",
   "execution_count": 68,
   "id": "1de47575",
   "metadata": {},
   "outputs": [
    {
     "data": {
      "text/plain": [
       "['orange', 'red', 'blue', 'green', 'orange', 'black', 'white']"
      ]
     },
     "execution_count": 68,
     "metadata": {},
     "output_type": "execute_result"
    }
   ],
   "source": [
    "#insert(index, date)\n",
    "color.insert(0,'orange') # 0번 위치에 오렌지를 추가해라\n",
    "color"
   ]
  },
  {
   "cell_type": "code",
   "execution_count": 69,
   "id": "95cb9237",
   "metadata": {},
   "outputs": [
    {
     "data": {
      "text/plain": [
       "['orange', 'blue', 'green', 'orange', 'black', 'white']"
      ]
     },
     "execution_count": 69,
     "metadata": {},
     "output_type": "execute_result"
    }
   ],
   "source": [
    "#remove(date)(첫번쨰 값만 지워짐)\n",
    "color.remove('red')\n",
    "color"
   ]
  },
  {
   "cell_type": "code",
   "execution_count": 70,
   "id": "40e4c63c",
   "metadata": {},
   "outputs": [
    {
     "data": {
      "text/plain": [
       "['blue', 'green', 'orange', 'black', 'white']"
      ]
     },
     "execution_count": 70,
     "metadata": {},
     "output_type": "execute_result"
    }
   ],
   "source": [
    "#del, 특정 위치 값을 지우고 싶을 때 : 인덱스를 이용한 삭제\n",
    "del color[0]\n",
    "color"
   ]
  },
  {
   "cell_type": "code",
   "execution_count": 72,
   "id": "f097d100",
   "metadata": {},
   "outputs": [
    {
     "name": "stdout",
     "output_type": "stream",
     "text": [
      "[1, 2, 3] 1 2 3\n"
     ]
    }
   ],
   "source": [
    "#패킹(packing)과 언패킹(unpacking)\n",
    "##packing : 하나의 변수에 여러 개의 데이터를 할당하는 것\n",
    "##unpacking : 하나의 변수에 담긴 여러 개의 데이터를 각각의 변수로 변환\n",
    "x = [1, 2, 3] # 패킹\n",
    "a, b, c = x # 언패킹 , 패킹의 갯수랑 변수의 갯수를 맞춰줘야함\n",
    "print(x, a, b, c)"
   ]
  },
  {
   "cell_type": "code",
   "execution_count": 73,
   "id": "88064fcc",
   "metadata": {},
   "outputs": [
    {
     "ename": "ValueError",
     "evalue": "not enough values to unpack (expected 4, got 3)",
     "output_type": "error",
     "traceback": [
      "\u001b[1;31m---------------------------------------------------------------------------\u001b[0m",
      "\u001b[1;31mValueError\u001b[0m                                Traceback (most recent call last)",
      "Input \u001b[1;32mIn [73]\u001b[0m, in \u001b[0;36m<cell line: 1>\u001b[1;34m()\u001b[0m\n\u001b[1;32m----> 1\u001b[0m a,b,c,d \u001b[38;5;241m=\u001b[39m x\n",
      "\u001b[1;31mValueError\u001b[0m: not enough values to unpack (expected 4, got 3)"
     ]
    }
   ],
   "source": [
    "a,b,c,d = x # d는 할당된 데이터 값이 없어서 에러남"
   ]
  },
  {
   "cell_type": "code",
   "execution_count": 74,
   "id": "b2c57211",
   "metadata": {},
   "outputs": [
    {
     "ename": "ValueError",
     "evalue": "too many values to unpack (expected 2)",
     "output_type": "error",
     "traceback": [
      "\u001b[1;31m---------------------------------------------------------------------------\u001b[0m",
      "\u001b[1;31mValueError\u001b[0m                                Traceback (most recent call last)",
      "Input \u001b[1;32mIn [74]\u001b[0m, in \u001b[0;36m<cell line: 1>\u001b[1;34m()\u001b[0m\n\u001b[1;32m----> 1\u001b[0m a, b \u001b[38;5;241m=\u001b[39m x\n",
      "\u001b[1;31mValueError\u001b[0m: too many values to unpack (expected 2)"
     ]
    }
   ],
   "source": [
    "a, b = x# d는 할당된 데이터 값이 많아서에러남"
   ]
  },
  {
   "cell_type": "code",
   "execution_count": 83,
   "id": "49642a69",
   "metadata": {},
   "outputs": [
    {
     "data": {
      "text/plain": [
       "[[49, 79, 20, 100, 80], [88, 77, 99, 66, 50], [90, 100, 52, 60, 70]]"
      ]
     },
     "execution_count": 83,
     "metadata": {},
     "output_type": "execute_result"
    }
   ],
   "source": [
    "# 이차원, 리스트\n",
    "kor = [49, 79, 20, 100, 80]\n",
    "eng = [88, 77, 99, 66, 50]\n",
    "math = [90, 100, 52, 60, 70]\n",
    "score = [kor, eng, math]\n",
    "score\n"
   ]
  },
  {
   "cell_type": "code",
   "execution_count": 84,
   "id": "c1cbea8e",
   "metadata": {},
   "outputs": [
    {
     "name": "stdout",
     "output_type": "stream",
     "text": [
      "[49, 79, 20, 100, 80]\n",
      "[49, 79, 20, 100, 80]\n"
     ]
    }
   ],
   "source": [
    "print(kor)\n",
    "print(score[0])"
   ]
  },
  {
   "cell_type": "code",
   "execution_count": 85,
   "id": "d4948b0c",
   "metadata": {},
   "outputs": [
    {
     "name": "stdout",
     "output_type": "stream",
     "text": [
      "[88, 77, 99, 66, 50]\n",
      "[49, 79, 20, 100, 80]\n"
     ]
    }
   ],
   "source": [
    "print(eng)\n",
    "print(score[0])"
   ]
  },
  {
   "cell_type": "code",
   "execution_count": 86,
   "id": "75573152",
   "metadata": {},
   "outputs": [
    {
     "name": "stdout",
     "output_type": "stream",
     "text": [
      "[90, 100, 52, 60, 70]\n",
      "[90, 100, 52, 60, 70]\n"
     ]
    }
   ],
   "source": [
    "print(math)\n",
    "print(score[2])"
   ]
  },
  {
   "cell_type": "code",
   "execution_count": 87,
   "id": "9590f1b0",
   "metadata": {},
   "outputs": [
    {
     "name": "stdout",
     "output_type": "stream",
     "text": [
      "79\n",
      "79\n"
     ]
    }
   ],
   "source": [
    "# Q두번쨰 학생의 국어점수\n",
    "# kor = [49, 49, 20, 100, 80]\n",
    "# eng = [88, 77, 99, 66, 50]\n",
    "# math = [90, 100, 52, 60, 70]\n",
    "# score = [kor, eng, math]\n",
    "# score\n",
    "print(kor[1])\n",
    "print(score[0][1])"
   ]
  },
  {
   "cell_type": "code",
   "execution_count": 88,
   "id": "428a5316",
   "metadata": {},
   "outputs": [
    {
     "data": {
      "text/plain": [
       "[100, 2, 3, 4, 5]"
      ]
     },
     "execution_count": 88,
     "metadata": {},
     "output_type": "execute_result"
    }
   ],
   "source": [
    "x = [1, 2, 3, 4, 5]\n",
    "y = x\n",
    "x[0] = 100\n",
    "y"
   ]
  },
  {
   "cell_type": "code",
   "execution_count": 90,
   "id": "45768c34",
   "metadata": {},
   "outputs": [
    {
     "name": "stdout",
     "output_type": "stream",
     "text": [
      "True\n",
      "False\n"
     ]
    }
   ],
   "source": [
    "# == : 값을 비교하는 연산자, is : 메모리의 주소를 비교하는 연산자\n",
    "a = 300\n",
    "b = 300\n",
    "\n",
    "print(a == b)\n",
    "print(a is b)"
   ]
  },
  {
   "cell_type": "code",
   "execution_count": 93,
   "id": "26fb1000",
   "metadata": {},
   "outputs": [
    {
     "name": "stdout",
     "output_type": "stream",
     "text": [
      "True\n",
      "True\n"
     ]
    }
   ],
   "source": [
    "# 파이썬은 -5에서부터 256까지 이미 메모리에 할당되어 있다.\n",
    "a= 256\n",
    "b= 256\n",
    "print( a==b)\n",
    "print(a is b)"
   ]
  },
  {
   "cell_type": "code",
   "execution_count": 94,
   "id": "d028810c",
   "metadata": {},
   "outputs": [
    {
     "name": "stdout",
     "output_type": "stream",
     "text": [
      "True\n",
      "False\n"
     ]
    }
   ],
   "source": [
    "a= 257\n",
    "b= 257\n",
    "print( a==b)\n",
    "print(a is b)"
   ]
  },
  {
   "cell_type": "code",
   "execution_count": 95,
   "id": "78ffbd57",
   "metadata": {},
   "outputs": [
    {
     "name": "stdout",
     "output_type": "stream",
     "text": [
      "a=  [0, 2, 3, 4, 5]\n"
     ]
    }
   ],
   "source": [
    "#리스트의 요소를 제거하는 작업\n",
    "## 인덱스를 이용해서 제거 : del 명령어,pop()함수\n",
    "a = [0, 1, 2, 3, 4, 5]\n",
    "del a [1]\n",
    "print(\"a= \", a)"
   ]
  },
  {
   "cell_type": "code",
   "execution_count": 96,
   "id": "8a8203f8",
   "metadata": {},
   "outputs": [
    {
     "name": "stdout",
     "output_type": "stream",
     "text": [
      "a=  [0, 2, 4, 5]\n"
     ]
    }
   ],
   "source": [
    "a.pop(2)\n",
    "print(\"a= \", a)"
   ]
  },
  {
   "cell_type": "code",
   "execution_count": 97,
   "id": "bbf5d3b7",
   "metadata": {},
   "outputs": [
    {
     "name": "stdout",
     "output_type": "stream",
     "text": [
      "a=  []\n"
     ]
    }
   ],
   "source": [
    "#모두 제거 : clear\n",
    "a.clear()\n",
    "print(\"a= \", a)"
   ]
  },
  {
   "cell_type": "code",
   "execution_count": 98,
   "id": "48150ef7",
   "metadata": {},
   "outputs": [],
   "source": [
    "#정렬(sort) : 기본 올름차수\n",
    "b = [52, 234, 64,75,3,1]\n",
    "b.sort()"
   ]
  },
  {
   "cell_type": "code",
   "execution_count": 99,
   "id": "f7353946",
   "metadata": {},
   "outputs": [
    {
     "data": {
      "text/plain": [
       "[1, 3, 52, 64, 75, 234]"
      ]
     },
     "execution_count": 99,
     "metadata": {},
     "output_type": "execute_result"
    }
   ],
   "source": [
    "b"
   ]
  },
  {
   "cell_type": "code",
   "execution_count": 100,
   "id": "e2a0b30e",
   "metadata": {},
   "outputs": [
    {
     "data": {
      "text/plain": [
       "[52, 234, 64, 75, 3, 1]"
      ]
     },
     "execution_count": 100,
     "metadata": {},
     "output_type": "execute_result"
    }
   ],
   "source": [
    "b = [52, 234, 64,75,3,1]\n",
    "b"
   ]
  },
  {
   "cell_type": "code",
   "execution_count": 101,
   "id": "4f2c86e4",
   "metadata": {},
   "outputs": [
    {
     "data": {
      "text/plain": [
       "[234, 75, 64, 52, 3, 1]"
      ]
     },
     "execution_count": 101,
     "metadata": {},
     "output_type": "execute_result"
    }
   ],
   "source": [
    "#내림차순\n",
    "b.sort(reverse =True)\n",
    "b"
   ]
  },
  {
   "cell_type": "code",
   "execution_count": 102,
   "id": "2e5f362e",
   "metadata": {},
   "outputs": [
    {
     "data": {
      "text/plain": [
       "False"
      ]
     },
     "execution_count": 102,
     "metadata": {},
     "output_type": "execute_result"
    }
   ],
   "source": [
    "#in 연산자, not in 연산자\n",
    "b = [52, 234, 64,75,3,1]\n",
    "7 in b"
   ]
  },
  {
   "cell_type": "code",
   "execution_count": 103,
   "id": "7368c2b0",
   "metadata": {},
   "outputs": [
    {
     "data": {
      "text/plain": [
       "True"
      ]
     },
     "execution_count": 103,
     "metadata": {},
     "output_type": "execute_result"
    }
   ],
   "source": [
    "7 not in b"
   ]
  },
  {
   "cell_type": "markdown",
   "id": "4df734ab",
   "metadata": {},
   "source": [
    "## 튜플(Tuple)\n",
    "- 리스트와 유사하지만 값을 변경할 수 없다. 즉, 읽기 전용 자료를 저장할 때 사용(변경할 수 없어서)\n",
    "- 각 값에 대한 인덱스가 부여된다.\n",
    "- 변경 불가능\n",
    "- 소괄호()를 사용하여 데이터를 표현한다.\n"
   ]
  },
  {
   "cell_type": "markdown",
   "id": "869550f7",
   "metadata": {},
   "source": [
    "## 집합(Set)\n",
    "- 인덱스가 없고 값만 저장되는 자료구조\n",
    "- 순서는 의미가 없다\n",
    "- 중괄호{}를 사용\n",
    "- 컴마(,)를 기준으로 데이터를 분리한다.\n",
    "- 중복값을 허용하지 않는다.\n"
   ]
  },
  {
   "cell_type": "markdown",
   "id": "32a379c0",
   "metadata": {},
   "source": [
    "## 사전 (Dictionary)\n",
    "- 키(key)와 값(value)를 쌍(아이템, item)으로 담아서 관리하는 자료구조.(키로 값을 읽어옴, 그래서 인덱스도 필요 없음)\n",
    "- 저장된 각 값에 대한 순서는 의미가 없다.\n",
    "- 저장된 데이터는 키(key)에 의해 조화된다.\n",
    "- 키(key)는 중복을 허용하지 않는다.\n",
    "- 중괄호 {}를 사용하여 데이터를 표현한다.\n",
    "\n"
   ]
  },
  {
   "cell_type": "markdown",
   "id": "e09de14e",
   "metadata": {},
   "source": [
    "# 제어문: 제어하는 문장\n",
    "1. 정의 : 프로그램의 흐름이나 순서를 제어 할 때 사용하는 문장\n",
    "        일반적으로 프로그램은 위에서 아래로, 좌에서 우로 진행\n",
    "2. 조건문 or 비교/판단문 or 선택문\n",
    "- 주어진 조건에 따라 프로그램의 실행을 선택 또는 변경\n",
    "- 조건식은 반드시 그 결과가 참 또는 거짓으로 판정이 되는 식\n",
    "- if문\n",
    "3. 반복문\n",
    "- 동일하거나 유사한 성격을 가진 문장을 반복할 때 사용하는 문장\n",
    "- 주어진 조건이 참일 때 문장을 반복\n",
    "- 유사한 성격이란, 동일한 행위를 하되 일정ㅎ안 규칙을 가지고 있는 문장\n",
    "- for, while \n",
    "\n",
    "4. 기타 제어문\n",
    "- break : 무조건 반복을 벗어나라는 의미\n",
    "- continue : 이하 생략"
   ]
  },
  {
   "cell_type": "markdown",
   "id": "290ced42",
   "metadata": {},
   "source": [
    "## 조건문 - if 문"
   ]
  },
  {
   "cell_type": "markdown",
   "id": "87730f2a",
   "metadata": {},
   "source": [
    "=> 일반 프로그램 , 조건을 블럭으로 애워쌈\n",
    "--if (조건식){\n",
    "      // 조건식이 참일 때 실헹할 문장\n",
    "} \n",
    "\n",
    "--if (조건식){\n",
    "      // 조건식이 참일 때 실헹할 문장\n",
    "} else{\n",
    "\t// 조건식이 거짓일 때 \n",
    "    }\n",
    "\n",
    "\n",
    "=> 파이썬(단순 if)\n",
    "--if 조건식:\n",
    "\t// 조건식이 참일 때 실행할 문장 => 파이썬(단순 if)\n",
    "\n",
    "\n",
    "--if 조건식 :\n",
    "\t조건식이 참일 대 실행할 문장\n",
    "  else:\n",
    "\t조건식이 거짓일 때\n"
   ]
  },
  {
   "cell_type": "code",
   "execution_count": 104,
   "id": "f429a820",
   "metadata": {},
   "outputs": [
    {
     "name": "stdout",
     "output_type": "stream",
     "text": [
      "hi\n",
      "a = 1\n",
      "바보 배고파\n"
     ]
    }
   ],
   "source": [
    "print(\"hi\")\n",
    "a = 1\n",
    "print(\"a =\", a)\n",
    "print(\"바보 배고파\")\n"
   ]
  },
  {
   "cell_type": "code",
   "execution_count": 105,
   "id": "ecd85faa",
   "metadata": {},
   "outputs": [
    {
     "name": "stdout",
     "output_type": "stream",
     "text": [
      "hi\n",
      "바보 배고파\n"
     ]
    }
   ],
   "source": [
    "#파이썬은 들여쓰기를 중시한다.\n",
    "print(\"hi\")\n",
    "a = 1\n",
    "if a == 0:\n",
    "    print(\"a =\", a)\n",
    "print(\"바보 배고파\")# 들여쓰기가 안되있어서 영향을 안 받음"
   ]
  },
  {
   "cell_type": "code",
   "execution_count": 106,
   "id": "06ecd811",
   "metadata": {},
   "outputs": [
    {
     "name": "stdout",
     "output_type": "stream",
     "text": [
      "hi\n",
      "a = 0\n",
      "바보 배고파\n"
     ]
    }
   ],
   "source": [
    "print(\"hi\")\n",
    "a = 0\n",
    "if a == 0:\n",
    "    print(\"a =\", a)\n",
    "print(\"바보 배고파\")"
   ]
  },
  {
   "cell_type": "code",
   "execution_count": 108,
   "id": "8f10cc09",
   "metadata": {},
   "outputs": [
    {
     "name": "stdout",
     "output_type": "stream",
     "text": [
      "숫자 =5\n",
      "입력받은 숫자 5는 짝수입니다.\n"
     ]
    }
   ],
   "source": [
    "# Q하나의 숫자를 입력받아서 짝수인지 판정하는 프로그램을 구현하시오\n",
    "\n",
    "num = float(input(\"숫자 =\"))\n",
    "\n",
    "print(\"입력받은 숫자 %d는 짝수입니다.\"% num)"
   ]
  },
  {
   "cell_type": "code",
   "execution_count": null,
   "id": "1d62e540",
   "metadata": {},
   "outputs": [],
   "source": [
    "num = float(input(\"숫자 =\"))\n",
    "if 조건식:\n",
    "    pass# 나중에 작성하겠다는 의미\n",
    "print(\"입력받은 숫자 %d는 짝수입니다.\"% num)"
   ]
  },
  {
   "cell_type": "code",
   "execution_count": 113,
   "id": "e62ee454",
   "metadata": {},
   "outputs": [
    {
     "name": "stdout",
     "output_type": "stream",
     "text": [
      "숫자 =2\n",
      "입력받은 숫자 2는 짝수입니다.\n",
      "입력받은 숫자 2는 홀수입니다.\n"
     ]
    }
   ],
   "source": [
    "num = float(input(\"숫자 =\"))\n",
    "if num %2 ==0 :\n",
    "    print(\"입력받은 숫자 %d는 짝수입니다.\"% num)\n",
    "print(\"입력받은 숫자 %d는 홀수입니다.\"% num)\n",
    "    "
   ]
  },
  {
   "cell_type": "code",
   "execution_count": 112,
   "id": "b4b3cfdb",
   "metadata": {},
   "outputs": [
    {
     "name": "stdout",
     "output_type": "stream",
     "text": [
      "숫자 =2\n",
      "입력받은 숫자 2는 짝수입니다.\n"
     ]
    }
   ],
   "source": [
    "num = float(input(\"숫자 =\"))\n",
    "if num %2 ==0 :\n",
    "    print(\"입력받은 숫자 %d는 짝수입니다.\"% num)\n",
    "else:\n",
    "    print(\"입력받은 숫자 %d는 홀수입니다.\"% num)\n",
    "    "
   ]
  },
  {
   "cell_type": "code",
   "execution_count": 122,
   "id": "bf403ea2",
   "metadata": {
    "scrolled": true
   },
   "outputs": [
    {
     "name": "stdout",
     "output_type": "stream",
     "text": [
      "숫자를 입력하시오 = 0\n",
      "제로\n"
     ]
    }
   ],
   "source": [
    "#Q하나의 숫자를 입력받아 양수인지 음수인지 판정하는 프로그램을 구현 //// 제로가 안나올때 \n",
    "num = int(input(\"숫자를 입력하시오 = \"))\n",
    "if num < 0 :\n",
    "    print(\"음수\")\n",
    "elif num >0:\n",
    "      print(\"양수\")\n",
    "else:\n",
    "      print(\"제로\")\n",
    "  "
   ]
  },
  {
   "cell_type": "markdown",
   "id": "dde801b5",
   "metadata": {},
   "source": [
    "### Q 문제: 성적처리 프로그램 1단계\n",
    " 국어, 영어, 수학 점수를 입력받아 총점과 평균을 계산하여 출력하는 프로그램을 작성하시오. , 단 평균은 소숫점 이하 둘쨰자리까지 출력되도록 구현하시오<br>\n",
    " <입력방식><br>\n",
    " 국어=<br>\n",
    " 영어=<br>\n",
    " 수학=<br>\n",
    " \n",
    " <출력형식><br>\n",
    " 총점: xx점, 평균: xx.xx<br>"
   ]
  },
  {
   "cell_type": "code",
   "execution_count": 18,
   "id": "003c86d4",
   "metadata": {},
   "outputs": [
    {
     "name": "stdout",
     "output_type": "stream",
     "text": [
      "국어 : 30\n",
      "영어 : 30\n",
      "수학 : 30\n",
      "총점:  90\n",
      "평균 : 30.00\n"
     ]
    }
   ],
   "source": [
    "## 내가한거\n",
    "#입력문 - 키보드를 통해 데이터를 입력받을 때 사용하는 문장\n",
    "K = int(input(\"국어 : \"))\n",
    "E = int(input(\"영어 : \"))\n",
    "M = int(input(\"수학 : \"))\n",
    "\n",
    "#입력문 - 제어문이나 함수를 통해 처리를하는 문장\n",
    "A =  K + E + M\n",
    "\n",
    "# A = print(\"총점: \", K + E + M)\n",
    "# print(\"평균 : {0:.2f}\". format(A/3)) => A 는 숫자가 아니라서 format에 넣을 수 없음\n",
    "# print는 확인용\n",
    "\n",
    "\n",
    "#출력문 - 출력형식에 맞게 구현되는 문장\n",
    "\n",
    "print(\"총점: \", A)\n",
    "print(\"평균 : {0:.2f}\". format(A/3))\n"
   ]
  },
  {
   "cell_type": "code",
   "execution_count": 3,
   "id": "9a6eef5c",
   "metadata": {},
   "outputs": [
    {
     "name": "stdout",
     "output_type": "stream",
     "text": [
      "국어 : 30\n",
      "영어 : 40\n",
      "수학 : 50\n",
      "총점: 120점, 평균:40.00점\n"
     ]
    }
   ],
   "source": [
    "#입력문 - 키보드를 통해 데이터를 입력받을 때 사용하는 문장\n",
    "\n",
    "K = int(input(\"국어 : \"))\n",
    "E = int(input(\"영어 : \"))\n",
    "M = int(input(\"수학 : \"))\n",
    "\n",
    "\n",
    "#처리문 - 제어문이나 함수를 통해 처리를하는 문장\n",
    "A = K + E + M\n",
    "P =   A /3.0\n",
    "\n",
    "\n",
    "#출력문 - 출력형식에 맞게 구현되는 문장\n",
    "print(\"총점: {0}점, 평균:{1:.2f}점\".format(A, P))"
   ]
  },
  {
   "cell_type": "markdown",
   "id": "da41baf2",
   "metadata": {},
   "source": [
    "### 성적처리 프로그램 2단계 \n",
    "학점을 부여하시오. 학점은 평균을 이용하여 A,B,C,D,F로 표현하되, 평균이 90점 이상이면 \"A학점\", 80 이상이면\n",
    "\n"
   ]
  },
  {
   "cell_type": "code",
   "execution_count": 7,
   "id": "c7451cf7",
   "metadata": {},
   "outputs": [
    {
     "name": "stdout",
     "output_type": "stream",
     "text": [
      "국어 : 70\n",
      "영어 : 70\n",
      "수학 : 70\n",
      "총점: 210점, 평균:70.00점\n",
      "C\n"
     ]
    }
   ],
   "source": [
    "#입력문 - 키보드를 통해 데이터를 입력받을 때 사용하는 문장\n",
    "\n",
    "K = int(input(\"국어 : \"))\n",
    "E = int(input(\"영어 : \"))\n",
    "M = int(input(\"수학 : \"))\n",
    "\n",
    "\n",
    "#처리문 - 제어문이나 함수를 통해 처리를하는 문장\n",
    "A = K + E + M\n",
    "P =   A /3.0\n",
    "\n",
    "\n",
    "#출력문 - 출력형식에 맞게 구현되는 문장\n",
    "print(\"총점: {0}점, 평균:{1:.2f}점\".format(A, P))\n",
    "\n",
    "\n",
    "if P >= 90:\n",
    "    print(\"A\")\n",
    "elif P >=80:\n",
    "      print(\"B\")\n",
    "elif P >= 70:\n",
    "      print(\"C\")\n",
    "elif P >= 60:\n",
    "      print(\"D\")\n",
    "else:\n",
    "      print(\"F\")\n",
    "    \n"
   ]
  },
  {
   "cell_type": "code",
   "execution_count": 19,
   "id": "524922b6",
   "metadata": {},
   "outputs": [],
   "source": [
    "# 쌤꺼 배껴쓰기\n",
    "\n",
    "# 코드 작성중 asdf\\ asdf 또는  '''asdf'''가 들어가면 다음 줄에 이어서 작성가능\n",
    "\n",
    "# if -elif 는 한세트, 위에있는 결과를 가지고 내려옴 90> P <=80\n",
    "# if로만 되있는건 "
   ]
  },
  {
   "cell_type": "code",
   "execution_count": null,
   "id": "8dcab7c4",
   "metadata": {},
   "outputs": [],
   "source": [
    "## 쌤꺼\n",
    "# 입력문 - 키보드를 통해 데이터를 입력받을 때 사용하는 문장\n",
    "kor = int(input(\"국어 = \"))\n",
    "eng = int(input(\"영어 = \"))\n",
    "math = int(input(\"수학 = \"))\n",
    "\n",
    "# 처리문 - 제어문이나 함수를 통해 처리하는 문장\n",
    "tot = kor + eng + math\n",
    "avg = tot / 3\n",
    "if avg >= 90:    grade = 'A'\n",
    "elif avg >= 80:    grade = 'B'   # 90 < avg >= 80\n",
    "elif avg >= 70:    grade = 'C'\n",
    "elif avg >= 60:    grade = 'D'\n",
    "else:\n",
    "    grade = 'F'\n",
    "\n",
    "# 출력문 - 출력형식에 맞게 구현되는 문장\n",
    "print(\"총점 : {0}점, 평균 : {1:.2f}점,\\\n",
    "학점 : {2}학점\".format(tot, avg, grade))"
   ]
  },
  {
   "cell_type": "code",
   "execution_count": null,
   "id": "4cfafb3d",
   "metadata": {},
   "outputs": [],
   "source": [
    "## 썜꺼\n",
    "# 입력문 - 키보드를 통해 데이터를 입력받을 때 사용하는 문장\n",
    "kor = int(input(\"국어 = \"))\n",
    "eng = int(input(\"영어 = \"))\n",
    "math = int(input(\"수학 = \"))\n",
    "\n",
    "# 처리문 - 제어문이나 함수를 통해 처리하는 문장\n",
    "tot = kor + eng + math\n",
    "avg = tot / 3\n",
    "\n",
    "\n",
    "# if avg >= 90:    \n",
    "#     grade = 'A'   \n",
    "# if avg >= 80:\n",
    "#     grade = 'B'     \n",
    "# if avg >= 70:\n",
    "#     grade = 'C'\n",
    "# if avg >= 60:\n",
    "#     grade = 'D'\n",
    "# if avg < 60:\n",
    "#     grade = 'F'\n",
    "    \n",
    "print(\"총점 : %d, 평균 : %.2f, 학점 : %s\" % (tot, avg, grade))"
   ]
  },
  {
   "cell_type": "markdown",
   "id": "6ecd5ed8",
   "metadata": {},
   "source": [
    "## 반복문\n",
    "- 반복하는 문장\n",
    "- for문(횟수가 명확할때 ), while문(횟수가 명확하지 않거나, 사용자의 행위나 동작에 의해 동작을 그만둘 떄 )\n"
   ]
  },
  {
   "cell_type": "code",
   "execution_count": 20,
   "id": "38bd5127",
   "metadata": {},
   "outputs": [
    {
     "data": {
      "text/plain": [
       "[1, 2, 3, 4, 5]"
      ]
     },
     "execution_count": 20,
     "metadata": {},
     "output_type": "execute_result"
    }
   ],
   "source": [
    "#for 문 형식 : or 개별변수 in 집합변수 :\n",
    "a = [1, 2, 3, 4, 5]\n",
    "a"
   ]
  },
  {
   "cell_type": "code",
   "execution_count": 21,
   "id": "683f3fb4",
   "metadata": {},
   "outputs": [
    {
     "name": "stdout",
     "output_type": "stream",
     "text": [
      "1\n",
      "2\n",
      "3\n",
      "4\n",
      "5\n"
     ]
    }
   ],
   "source": [
    "print(a[0])\n",
    "print(a[1])\n",
    "print(a[2])\n",
    "print(a[3])\n",
    "print(a[4])"
   ]
  },
  {
   "cell_type": "code",
   "execution_count": 24,
   "id": "106a0aef",
   "metadata": {},
   "outputs": [
    {
     "name": "stdout",
     "output_type": "stream",
     "text": [
      "1\n",
      "2\n",
      "3\n",
      "4\n",
      "5\n"
     ]
    }
   ],
   "source": [
    "for i in range(1, 6): # 1 부터 시작해서 1 씩 증가해서 5까지\n",
    "    print(i)\n",
    "    "
   ]
  },
  {
   "cell_type": "code",
   "execution_count": 23,
   "id": "cee90885",
   "metadata": {},
   "outputs": [
    {
     "name": "stdout",
     "output_type": "stream",
     "text": [
      "1\n",
      "2\n",
      "3\n",
      "4\n",
      "5\n"
     ]
    }
   ],
   "source": [
    "for i in a: # 집합에 들어있는 처음값 부터 마지막 값까지 읽을 때 까지 함수가 실행됨\n",
    "    print(i)"
   ]
  },
  {
   "cell_type": "code",
   "execution_count": 25,
   "id": "0915e32f",
   "metadata": {},
   "outputs": [
    {
     "name": "stdout",
     "output_type": "stream",
     "text": [
      "hello\n",
      "hello\n",
      "hello\n",
      "hello\n",
      "hello\n"
     ]
    }
   ],
   "source": [
    "for _ in a: # _ 자리에 변수를 넣음, _ 는 변수를 사용  안할 떄 씀\n",
    "    print(\"hello\") # a 집합안의 원소 갯수가 5개라서 5번 반복함"
   ]
  },
  {
   "cell_type": "code",
   "execution_count": 27,
   "id": "3758ebf0",
   "metadata": {},
   "outputs": [
    {
     "name": "stdout",
     "output_type": "stream",
     "text": [
      "1\n",
      "2\n",
      "3\n",
      "4\n",
      "5\n"
     ]
    }
   ],
   "source": [
    "# range(시작start, 끝end, 증감step) \n",
    "for i in range (1, 6, 1): \n",
    "    print(i)"
   ]
  },
  {
   "cell_type": "code",
   "execution_count": 28,
   "id": "0ed96637",
   "metadata": {},
   "outputs": [
    {
     "name": "stdout",
     "output_type": "stream",
     "text": [
      "1\n",
      "2\n",
      "3\n",
      "4\n",
      "5\n"
     ]
    }
   ],
   "source": [
    "for i in range (1, 6): # 증가값이 1 일때 생략가능\n",
    "    print(i)"
   ]
  },
  {
   "cell_type": "code",
   "execution_count": 29,
   "id": "0b2af798",
   "metadata": {},
   "outputs": [
    {
     "name": "stdout",
     "output_type": "stream",
     "text": [
      "0\n",
      "1\n",
      "2\n",
      "3\n",
      "4\n",
      "5\n"
     ]
    }
   ],
   "source": [
    "for i in range  (6): # 시작값이 없음- 0부터 시작\n",
    "    print(i)"
   ]
  },
  {
   "cell_type": "code",
   "execution_count": 30,
   "id": "72681841",
   "metadata": {},
   "outputs": [
    {
     "name": "stdout",
     "output_type": "stream",
     "text": [
      "k\n",
      "o\n",
      "r\n",
      "e\n",
      "a\n"
     ]
    }
   ],
   "source": [
    "for i in \"korea\":\n",
    "    print(i)"
   ]
  },
  {
   "cell_type": "code",
   "execution_count": 32,
   "id": "03c0ce8a",
   "metadata": {},
   "outputs": [
    {
     "name": "stdout",
     "output_type": "stream",
     "text": [
      "red\n",
      "blue\n",
      "black\n"
     ]
    }
   ],
   "source": [
    "for i in [\"red\", \"blue\", \"black\"]:\n",
    "    print(i)"
   ]
  },
  {
   "cell_type": "code",
   "execution_count": 34,
   "id": "91f54704",
   "metadata": {},
   "outputs": [
    {
     "name": "stdout",
     "output_type": "stream",
     "text": [
      "1\n",
      "3\n",
      "5\n",
      "7\n",
      "9\n"
     ]
    }
   ],
   "source": [
    "for i in range(1, 10, 2): # 홀수\n",
    "    print(i)"
   ]
  },
  {
   "cell_type": "code",
   "execution_count": null,
   "id": "1af4e2d6",
   "metadata": {},
   "outputs": [],
   "source": [
    "for in range(1,11):\n",
    "    print(i)"
   ]
  },
  {
   "cell_type": "code",
   "execution_count": 36,
   "id": "cd506f2f",
   "metadata": {},
   "outputs": [
    {
     "name": "stdout",
     "output_type": "stream",
     "text": [
      "1\n",
      "3\n",
      "5\n",
      "7\n",
      "9\n"
     ]
    }
   ],
   "source": [
    "for i in range(1,11):\n",
    "    if i % 2 != 0:\n",
    "        print(i)"
   ]
  },
  {
   "cell_type": "code",
   "execution_count": 38,
   "id": "3df4f5de",
   "metadata": {},
   "outputs": [
    {
     "name": "stdout",
     "output_type": "stream",
     "text": [
      "10\n",
      "9\n",
      "8\n",
      "7\n",
      "6\n",
      "5\n",
      "4\n",
      "3\n",
      "2\n",
      "1\n"
     ]
    }
   ],
   "source": [
    "for i in range(10, 0 , -1):\n",
    "    print(i)"
   ]
  },
  {
   "cell_type": "markdown",
   "id": "d26ff2ce",
   "metadata": {},
   "source": [
    "#### 구구단 출력하는 프로그램\n",
    "Q 하나의 수를 입력받아 해당 숫자의 구구단을 출력하는 프로그램을 구현하시오"
   ]
  },
  {
   "cell_type": "code",
   "execution_count": 42,
   "id": "972ee1d0",
   "metadata": {},
   "outputs": [
    {
     "name": "stdout",
     "output_type": "stream",
     "text": [
      "단수 =  7\n",
      "7 x 1 = 7\n",
      "7 x 2 = 14\n",
      "7 x 3 = 21\n",
      "7 x 4 = 28\n",
      "7 x 5 = 35\n",
      "7 x 6 = 42\n",
      "7 x 7 = 49\n",
      "7 x 8 = 56\n",
      "7 x 9 = 63\n"
     ]
    }
   ],
   "source": [
    "dan = int(input(\"단수 =  \"))\n",
    "for i in range(1, 10):\n",
    "    print(\"{0} x {1} = {2}\".format(dan, i,dan*i))"
   ]
  },
  {
   "cell_type": "markdown",
   "id": "551fabf1",
   "metadata": {},
   "source": [
    "### Q구구단 출력하시오"
   ]
  },
  {
   "cell_type": "code",
   "execution_count": 43,
   "id": "59928866",
   "metadata": {},
   "outputs": [
    {
     "name": "stdout",
     "output_type": "stream",
     "text": [
      "====2단====\n",
      "2 x 1 = 2\n",
      "2 x 2 = 4\n",
      "2 x 3 = 6\n",
      "2 x 4 = 8\n",
      "2 x 5 = 10\n",
      "2 x 6 = 12\n",
      "2 x 7 = 14\n",
      "2 x 8 = 16\n",
      "2 x 9 = 18\n",
      "\n",
      "====3단====\n",
      "3 x 1 = 3\n",
      "3 x 2 = 6\n",
      "3 x 3 = 9\n",
      "3 x 4 = 12\n",
      "3 x 5 = 15\n",
      "3 x 6 = 18\n",
      "3 x 7 = 21\n",
      "3 x 8 = 24\n",
      "3 x 9 = 27\n",
      "\n",
      "====4단====\n",
      "4 x 1 = 4\n",
      "4 x 2 = 8\n",
      "4 x 3 = 12\n",
      "4 x 4 = 16\n",
      "4 x 5 = 20\n",
      "4 x 6 = 24\n",
      "4 x 7 = 28\n",
      "4 x 8 = 32\n",
      "4 x 9 = 36\n",
      "\n",
      "====5단====\n",
      "5 x 1 = 5\n",
      "5 x 2 = 10\n",
      "5 x 3 = 15\n",
      "5 x 4 = 20\n",
      "5 x 5 = 25\n",
      "5 x 6 = 30\n",
      "5 x 7 = 35\n",
      "5 x 8 = 40\n",
      "5 x 9 = 45\n",
      "\n",
      "====6단====\n",
      "6 x 1 = 6\n",
      "6 x 2 = 12\n",
      "6 x 3 = 18\n",
      "6 x 4 = 24\n",
      "6 x 5 = 30\n",
      "6 x 6 = 36\n",
      "6 x 7 = 42\n",
      "6 x 8 = 48\n",
      "6 x 9 = 54\n",
      "\n",
      "====7단====\n",
      "7 x 1 = 7\n",
      "7 x 2 = 14\n",
      "7 x 3 = 21\n",
      "7 x 4 = 28\n",
      "7 x 5 = 35\n",
      "7 x 6 = 42\n",
      "7 x 7 = 49\n",
      "7 x 8 = 56\n",
      "7 x 9 = 63\n",
      "\n",
      "====8단====\n",
      "8 x 1 = 8\n",
      "8 x 2 = 16\n",
      "8 x 3 = 24\n",
      "8 x 4 = 32\n",
      "8 x 5 = 40\n",
      "8 x 6 = 48\n",
      "8 x 7 = 56\n",
      "8 x 8 = 64\n",
      "8 x 9 = 72\n",
      "\n",
      "====9단====\n",
      "9 x 1 = 9\n",
      "9 x 2 = 18\n",
      "9 x 3 = 27\n",
      "9 x 4 = 36\n",
      "9 x 5 = 45\n",
      "9 x 6 = 54\n",
      "9 x 7 = 63\n",
      "9 x 8 = 72\n",
      "9 x 9 = 81\n",
      "\n"
     ]
    }
   ],
   "source": [
    "# 단수 \n",
    "for dan in range(2, 10): # 8번 출력(2~9)\n",
    "    print(\"===={0}단====\".format(dan))\n",
    "    #자연수\n",
    "    for su in range(1, 10):# 72번 출력(1~9) = 8*9\n",
    "        print(\"{0} x {1} = {2}\".format(dan, su,dan*su))\n",
    "    print()# 줄바꿈/ 8"
   ]
  },
  {
   "cell_type": "code",
   "execution_count": 8,
   "id": "9155bd95",
   "metadata": {
    "scrolled": true
   },
   "outputs": [
    {
     "name": "stdout",
     "output_type": "stream",
     "text": [
      "1 번째 \n",
      "hiloo\n",
      "hiloo\n",
      "hiloo\n",
      "hiloo\n",
      "3 번째 \n",
      "hiloo\n",
      "hiloo\n",
      "hiloo\n",
      "hiloo\n"
     ]
    }
   ],
   "source": [
    "# 다중 for\n",
    "for i in [1, 3] : \n",
    "    print(\"%d 번째 \" % i)\n",
    "    for j in [1, 2, 1,1]:\n",
    "        print(\"hiloo\")"
   ]
  },
  {
   "cell_type": "code",
   "execution_count": 10,
   "id": "527e4b4f",
   "metadata": {},
   "outputs": [
    {
     "name": "stdout",
     "output_type": "stream",
     "text": [
      "1 번째 \n",
      "1\n",
      "2\n",
      "1\n",
      "1\n",
      "3 번째 \n",
      "1\n",
      "2\n",
      "1\n",
      "1\n"
     ]
    }
   ],
   "source": [
    "for i in [1, 3] : \n",
    "    print(\"%d 번째 \" % i)\n",
    "    for j in [1, 2, 1,1]:\n",
    "        print(j)\n",
    "       "
   ]
  },
  {
   "cell_type": "markdown",
   "id": "975446ba",
   "metadata": {},
   "source": [
    "### Q 1부터 100 까지 자연수를 출력하는 프로그램을 구현하시오"
   ]
  },
  {
   "cell_type": "code",
   "execution_count": 53,
   "id": "cbc26f21",
   "metadata": {},
   "outputs": [
    {
     "name": "stdout",
     "output_type": "stream",
     "text": [
      "1 2 3 4 5 6 7 8 9 10 \n",
      "11 12 13 14 15 16 17 18 19 20 \n",
      "21 22 23 24 25 26 27 28 29 30 \n",
      "31 32 33 34 35 36 37 38 39 40 \n",
      "41 42 43 44 45 46 47 48 49 50 \n",
      "51 52 53 54 55 56 57 58 59 60 \n",
      "61 62 63 64 65 66 67 68 69 70 \n",
      "71 72 73 74 75 76 77 78 79 80 \n",
      "81 82 83 84 85 86 87 88 89 90 \n",
      "91 92 93 94 95 96 97 98 99 100 \n"
     ]
    }
   ],
   "source": [
    "for i in range(1, 101):\n",
    "    print( i, end=\" \") #100까지 줄바꿈되면 너무 긺\n",
    "    if i % 10 == 0:\n",
    "        print()"
   ]
  },
  {
   "cell_type": "code",
   "execution_count": 54,
   "id": "870230b5",
   "metadata": {},
   "outputs": [
    {
     "name": "stdout",
     "output_type": "stream",
     "text": [
      "  1   2   3   4   5   6   7   8   9  10 \n",
      " 11  12  13  14  15  16  17  18  19  20 \n",
      " 21  22  23  24  25  26  27  28  29  30 \n",
      " 31  32  33  34  35  36  37  38  39  40 \n",
      " 41  42  43  44  45  46  47  48  49  50 \n",
      " 51  52  53  54  55  56  57  58  59  60 \n",
      " 61  62  63  64  65  66  67  68  69  70 \n",
      " 71  72  73  74  75  76  77  78  79  80 \n",
      " 81  82  83  84  85  86  87  88  89  90 \n",
      " 91  92  93  94  95  96  97  98  99 100 \n"
     ]
    }
   ],
   "source": [
    "for i in range(1, 101):\n",
    "    print(\"%3d\" % i, end=\" \") #100까지 줄바꿈되면 너무 긺\n",
    "    if i % 10 == 0:\n",
    "        print()"
   ]
  },
  {
   "cell_type": "code",
   "execution_count": 55,
   "id": "b23dd327",
   "metadata": {},
   "outputs": [
    {
     "name": "stdout",
     "output_type": "stream",
     "text": [
      "    1     2     3     4     5     6     7     8     9    10 "
     ]
    }
   ],
   "source": [
    "for i in range(1, 11):\n",
    "    print(\"%5d\" % i, end=\" \")"
   ]
  },
  {
   "cell_type": "code",
   "execution_count": null,
   "id": "0c724be2",
   "metadata": {},
   "outputs": [],
   "source": [
    "# i = 1\n",
    "# while i < 11 :\n",
    "#     print (\"%5d\" % i, end=\" \") # 이 조건은 항상 참이라서 1 만 계속 찍힘(무한루프)"
   ]
  },
  {
   "cell_type": "code",
   "execution_count": 4,
   "id": "d51e950b",
   "metadata": {},
   "outputs": [
    {
     "name": "stdout",
     "output_type": "stream",
     "text": [
      "    1     2     3     4     5     6     7     8     9    10 "
     ]
    }
   ],
   "source": [
    "i = 1\n",
    "while i < 11 :\n",
    "    print (\"%5d\" % i, end=\" \") \n",
    "    i = i+1 # i+=1"
   ]
  },
  {
   "cell_type": "code",
   "execution_count": null,
   "id": "addc2545",
   "metadata": {},
   "outputs": [],
   "source": [
    "# i = 1\n",
    "# while True :\n",
    "#     print (\"%5d\" % i, end=\" \") # 이 조건은 항상 참이라서 1 만 계속 찍힘(무한루프)"
   ]
  },
  {
   "cell_type": "code",
   "execution_count": 5,
   "id": "b3d6c894",
   "metadata": {},
   "outputs": [
    {
     "name": "stdout",
     "output_type": "stream",
     "text": [
      "    1     2     3     4     5     6     7     8     9    10 "
     ]
    }
   ],
   "source": [
    "i = 1\n",
    "while True :\n",
    "    print (\"%5d\" % i, end=\" \") \n",
    "    i = i+1 # i+=1\n",
    "    if i > 10:\n",
    "        break"
   ]
  },
  {
   "cell_type": "markdown",
   "id": "b96abf4d",
   "metadata": {},
   "source": [
    "### Q숫자를 다섯개 입력받아 그 합을 계산한 후 출력하는 프로그램"
   ]
  },
  {
   "cell_type": "code",
   "execution_count": 11,
   "id": "ee4d339c",
   "metadata": {},
   "outputs": [
    {
     "name": "stdout",
     "output_type": "stream",
     "text": [
      "숫자= 1\n",
      "숫자= 5\n",
      "숫자= 3\n",
      "숫자= 4\n",
      "숫자= 2\n",
      "tot=  15\n"
     ]
    }
   ],
   "source": [
    "a = int(input(\"숫자= \"))\n",
    "b = int(input(\"숫자= \"))\n",
    "c = int(input(\"숫자= \"))\n",
    "d = int(input(\"숫자= \"))\n",
    "e = int(input(\"숫자= \"))\n",
    "\n",
    "tot = a+b+c+d+e\n",
    "\n",
    "print(\"tot= \", tot)"
   ]
  },
  {
   "cell_type": "code",
   "execution_count": 11,
   "id": "133213fc",
   "metadata": {},
   "outputs": [
    {
     "name": "stdout",
     "output_type": "stream",
     "text": [
      "숫자= 3\n",
      "숫자= 3\n",
      "숫자= 3\n",
      "숫자= 3\n",
      "숫자= 3\n",
      "tot=  15\n"
     ]
    }
   ],
   "source": [
    "tot = 0\n",
    "for i in range(5) :\n",
    "    num = int(input(\"숫자= \"))\n",
    "    tot = tot + num # 이 때 tot는 누적되는 수(누적함수)\n",
    "print(\"tot= \", tot)# for 문 안에 들어가면 안됨"
   ]
  },
  {
   "cell_type": "code",
   "execution_count": 18,
   "id": "b59e5f93",
   "metadata": {},
   "outputs": [
    {
     "name": "stdout",
     "output_type": "stream",
     "text": [
      "숫자= 4\n",
      "숫자= 5\n",
      "숫자= 5\n",
      "숫자= 5\n",
      "숫자= 5\n",
      "tot=  24\n"
     ]
    }
   ],
   "source": [
    "tot = 0 # 메모장 !!! 참고\n",
    "for i in range(5) :\n",
    "    unm = int(input(\"숫자= \"))\n",
    "    tot = tot + unm # 이 때 tot는 누적되는 수(누적함수)\n",
    "print(\"tot= \", tot)"
   ]
  },
  {
   "cell_type": "markdown",
   "id": "15a8c487",
   "metadata": {},
   "source": [
    "### Q숫자를 입력받아 누적합을 계산하는 프로그램을 작성하되, 입력 받은 숫자가 0이면 입력을 중지하고 누적합의 결과를 출력하는 프로그램을 구현하시오.\n"
   ]
  },
  {
   "cell_type": "code",
   "execution_count": 15,
   "id": "d2a1593e",
   "metadata": {},
   "outputs": [
    {
     "name": "stdout",
     "output_type": "stream",
     "text": [
      "숫자= 0\n",
      "tot=  35\n"
     ]
    }
   ],
   "source": [
    "while True: \n",
    "    num = int(input(\"숫자= \"))\n",
    "    if num == 0:  break\n",
    "        \n",
    "    tot = tot + num\n",
    "print(\"tot= \", tot)"
   ]
  },
  {
   "cell_type": "code",
   "execution_count": 22,
   "id": "a2b9e3e8",
   "metadata": {},
   "outputs": [
    {
     "name": "stdout",
     "output_type": "stream",
     "text": [
      "0\n",
      "1\n",
      "2\n",
      "3\n",
      "4\n",
      "6\n",
      "7\n",
      "8\n",
      "9\n"
     ]
    }
   ],
   "source": [
    "for i in range(10): \n",
    "    if i == 5 : continue# 이하 생략, 건너뛰어라\n",
    "    print(i)"
   ]
  },
  {
   "cell_type": "code",
   "execution_count": 24,
   "id": "6343f2f7",
   "metadata": {},
   "outputs": [
    {
     "name": "stdout",
     "output_type": "stream",
     "text": [
      "0\n",
      "1\n",
      "2\n",
      "3\n",
      "4\n",
      "5\n",
      "6\n",
      "7\n",
      "8\n",
      "9\n",
      "End of program 끝끝끝\n"
     ]
    }
   ],
   "source": [
    "#반복문의 else의 의미 : 어떤 조건이 완전히 끝났을 때 한번더 실행해 주는 역할\n",
    "for i in range(10):\n",
    "    print(i)\n",
    "else:\n",
    "    print(\"End of program 끝끝끝\")"
   ]
  },
  {
   "cell_type": "code",
   "execution_count": 9,
   "id": "74a8395c",
   "metadata": {},
   "outputs": [
    {
     "name": "stdout",
     "output_type": "stream",
     "text": [
      "단 =  4\n",
      "4 X 1 = 4\n",
      "4 X 2 = 8\n",
      "4 X 3 = 12\n",
      "4 X 4 = 16\n",
      "4 X 5 = 20\n",
      "4 X 6 = 24\n",
      "4 X 7 = 28\n",
      "4 X 8 = 32\n",
      "4 X 9 = 36\n",
      "4 X 10 = 40\n",
      "4 X 11 = 44\n",
      "4 X 12 = 48\n",
      "4 X 13 = 52\n",
      "4 X 14 = 56\n",
      "4 X 15 = 60\n",
      "4 X 16 = 64\n",
      "4 X 17 = 68\n",
      "4 X 18 = 72\n",
      "4 X 19 = 76\n"
     ]
    }
   ],
   "source": [
    "#Q 구구단이 짝수일때만 출력하고 싶을때 \n",
    "while True : \n",
    "    dan = int(input(\"단 =  \"))\n",
    "    if dan >=2 and dan <= 9: break\n",
    "i = 1\n",
    "while dan % 2 == 0:\n",
    "    print(\"{} X {} = {}\".format(dan, i , dan*i))\n",
    "    i+= 1\n",
    "    if i> 19 :break\n",
    "else: \n",
    "    print(\"짝수단만 출력하고 싶어요\")\n",
    "    \n",
    "    # 조건식이 거짓일 때 실행하는 문장\n"
   ]
  },
  {
   "cell_type": "code",
   "execution_count": null,
   "id": "ac6878c0",
   "metadata": {},
   "outputs": [],
   "source": []
  },
  {
   "cell_type": "code",
   "execution_count": null,
   "id": "390ddf2f",
   "metadata": {},
   "outputs": [],
   "source": []
  }
 ],
 "metadata": {
  "kernelspec": {
   "display_name": "Python 3 (ipykernel)",
   "language": "python",
   "name": "python3"
  },
  "language_info": {
   "codemirror_mode": {
    "name": "ipython",
    "version": 3
   },
   "file_extension": ".py",
   "mimetype": "text/x-python",
   "name": "python",
   "nbconvert_exporter": "python",
   "pygments_lexer": "ipython3",
   "version": "3.9.7"
  },
  "toc": {
   "base_numbering": 1,
   "nav_menu": {},
   "number_sections": true,
   "sideBar": true,
   "skip_h1_title": false,
   "title_cell": "Table of Contents",
   "title_sidebar": "Contents",
   "toc_cell": false,
   "toc_position": {
    "height": "calc(100% - 180px)",
    "left": "10px",
    "top": "150px",
    "width": "275.806px"
   },
   "toc_section_display": true,
   "toc_window_display": true
  }
 },
 "nbformat": 4,
 "nbformat_minor": 5
}
