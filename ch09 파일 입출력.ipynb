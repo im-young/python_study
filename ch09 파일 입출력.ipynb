{
 "cells": [
  {
   "cell_type": "code",
   "execution_count": null,
   "id": "45a19307",
   "metadata": {},
   "outputs": [],
   "source": [
    "# 현재 작업중인 디렉토리(폴더)에 파일이 생성된다.\n",
    "# open(\"파일명\",\"모드\")\n",
    "# mode : w(쓰기 모드), r(읽기모드), a(추가모드)\n",
    "# f = open(\"bynary_file\",'rb')\n",
    "\n"
   ]
  },
  {
   "cell_type": "code",
   "execution_count": 1,
   "id": "49af298f",
   "metadata": {},
   "outputs": [],
   "source": [
    "# 1단계: 객체 생성 + 파일 오픈\n",
    "f = open('file1.txt', 'w') \n",
    "# 해당 파일이 존재하지 않으면 파일을 만들어줌(그리서 이름 뒤에 확장자명써주기)\n",
    "\n",
    "#2단계 : 실제 처리할 작업을 기술\n",
    "\n",
    "#3단계: 파일닫기\n",
    "f.close()\n"
   ]
  },
  {
   "cell_type": "code",
   "execution_count": 2,
   "id": "4c9eb984",
   "metadata": {},
   "outputs": [],
   "source": [
    "# 폴더(디렉토리)를 지정하여 파일을 생성\n",
    "\n",
    "f = open('C:/k_disital/source/python_source/game/file2.txt', 'w')\n",
    "# 역슬래쉬를 슬래시로 바꿔주기\n",
    "f.close()"
   ]
  },
  {
   "cell_type": "code",
   "execution_count": 3,
   "id": "3e157e01",
   "metadata": {},
   "outputs": [],
   "source": [
    "# 파일 출력\n",
    "\n",
    "f = open(\"C:/k_disital/source/python_source/game/file3.txt\", 'w')\n",
    "\n",
    "#2 단계 : 작업기술\n",
    "for i in range(1, 11):\n",
    "    data = '{0}번째 줄입니다.\\n'.format(i)\n",
    "    f.write(data)\n",
    "    \n",
    "#3단계 \n",
    "f.close()\n"
   ]
  },
  {
   "cell_type": "code",
   "execution_count": 5,
   "id": "62be8985",
   "metadata": {},
   "outputs": [
    {
     "name": "stdout",
     "output_type": "stream",
     "text": [
      "1번째 줄입니다.\n",
      "2번째 줄입니다.\n",
      "3번째 줄입니다.\n",
      "4번째 줄입니다.\n",
      "5번째 줄입니다.\n",
      "6번째 줄입니다.\n",
      "7번째 줄입니다.\n",
      "8번째 줄입니다.\n",
      "9번째 줄입니다.\n",
      "10번째 줄입니다.\n"
     ]
    }
   ],
   "source": [
    "# step1\n",
    "f = open(\"C:/k_disital/source/python_source/game/file3.txt\", 'r')\n",
    "\n",
    "#2단계\n",
    "while 1:\n",
    "    line = f.readline() # .readline(/n으로 구분된 줄단위로 읽어와라)\n",
    "    #EOF = End of File : 파일의 끝\n",
    "    if not line: break # 글자를 갖고 있지 않으면, line이 비어있으면 break 해라\n",
    "    print(line, end =\"\")\n",
    "    \n",
    "#3단계\n",
    "f.close()\n",
    "    "
   ]
  },
  {
   "cell_type": "code",
   "execution_count": 10,
   "id": "1a31cf17",
   "metadata": {},
   "outputs": [
    {
     "name": "stdout",
     "output_type": "stream",
     "text": [
      "추가되었습니다\n"
     ]
    }
   ],
   "source": [
    "nums = [0, 1, 2, 3, 4, 5, 6, 7, 8, 9]\n",
    "\n",
    "count = len(nums)\n",
    "\n",
    "# print(count)\n",
    "outfile = 'C:/k_disital/source/python_source/game/result.csv'\n",
    "\n",
    "#1단계\n",
    "\n",
    "f = open(\"C:/k_disital/source/python_source/game/result.csv\", 'a')\n",
    "\n",
    "\n",
    "#2단계\n",
    "\n",
    "for idx in range(count):\n",
    "    if idx<(count -1):\n",
    "        f.write(str(nums[idx]) + ',')\n",
    "    else:\n",
    "        f.write(str(nums[idx]) + '\\n')\n",
    "        \n",
    "# 3단계\n",
    "f.close()\n",
    "print(\"추가되었습니다\")\n"
   ]
  },
  {
   "cell_type": "code",
   "execution_count": 13,
   "id": "7b390d5b",
   "metadata": {},
   "outputs": [
    {
     "name": "stdout",
     "output_type": "stream",
     "text": [
      "['0,1,2,3,4,5,6,7,8,9\\n', '0,1,2,3,4,5,6,7,8,9\\n', '0,1,2,3,4,5,6,7,8,9\\n', '0,1,2,3,4,5,6,7,8,9\\n']\n",
      "0,1,2,3,4,5,6,7,8,9\n",
      "0,1,2,3,4,5,6,7,8,9\n",
      "0,1,2,3,4,5,6,7,8,9\n",
      "0,1,2,3,4,5,6,7,8,9\n"
     ]
    }
   ],
   "source": [
    "#파일읽기\n",
    "\n",
    "#1단계\n",
    "f = open(\"C:/k_disital/source/python_source/game/result.csv\", 'r')\n",
    "lines = f.readlines() # 모든 라인을 읽어서 리스트에 저장한다.\n",
    "\n",
    "#2단계\n",
    "\n",
    "print(lines)\n",
    "for line in lines :\n",
    "    print(line, end='')\n",
    "    \n",
    "#3단계\n",
    "f.close()"
   ]
  },
  {
   "cell_type": "code",
   "execution_count": 15,
   "id": "2b0cd1b9",
   "metadata": {},
   "outputs": [
    {
     "name": "stdout",
     "output_type": "stream",
     "text": [
      "0,1,2,3,4,5,6,7,8,9\n",
      "0,1,2,3,4,5,6,7,8,9\n",
      "0,1,2,3,4,5,6,7,8,9\n",
      "0,1,2,3,4,5,6,7,8,9\n",
      "\n"
     ]
    }
   ],
   "source": [
    "#1단계\n",
    "f = open(\"C:/k_disital/source/python_source/game/result.csv\", 'r')\n",
    "\n",
    "\n",
    "#2단계\n",
    "data = f.read() # 파일 안에 모든 내용을 한번에 읽어오는 함수\n",
    "\n",
    "print(data)\n",
    "\n",
    "#3단계\n",
    "f.close()"
   ]
  },
  {
   "cell_type": "code",
   "execution_count": 16,
   "id": "813955e6",
   "metadata": {},
   "outputs": [
    {
     "name": "stdout",
     "output_type": "stream",
     "text": [
      "0,1,2,3,4,5,6,7,8,9\n",
      "0,1,2,3,4,5,6,7,8,9\n",
      "0,1,2,3,4,5,6,7,8,9\n",
      "0,1,2,3,4,5,6,7,8,9\n"
     ]
    }
   ],
   "source": [
    "f = open(\"C:/k_disital/source/python_source/game/result.csv\", 'r')\n",
    "\n",
    "for line in f :\n",
    "    print(line, end =\"\")\n",
    "f.close()"
   ]
  },
  {
   "cell_type": "code",
   "execution_count": 17,
   "id": "28649302",
   "metadata": {},
   "outputs": [],
   "source": [
    "#with 구문을 활용하여 close() 함수 자동 호출\n",
    "with open(\"C:/k_disital/source/python_source/game/file4.txt\", 'w') as f:\n",
    "    f.write('hello pyton')"
   ]
  },
  {
   "cell_type": "code",
   "execution_count": 22,
   "id": "d026dfea",
   "metadata": {},
   "outputs": [
    {
     "name": "stdout",
     "output_type": "stream",
     "text": [
      "1번째 줄입니다.\n",
      "2번째 줄입니다.\n",
      "3번째 줄입니다.\n",
      "4번째 줄입니다.\n",
      "5번째 줄입니다.\n",
      "6번째 줄입니다.\n",
      "7번째 줄입니다.\n",
      "8번째 줄입니다.\n",
      "9번째 줄입니다.\n",
      "10번째 줄입니다.\n",
      "171\n",
      "1번째 줄입니다.\n",
      "\n"
     ]
    }
   ],
   "source": [
    "with open(\"C:/k_disital/source/python_source/game/file3.txt\", 'r') as f:\n",
    "    for line in f:\n",
    "        print(line,end=\"\")\n",
    "    \n",
    "    print(f.tell())# 파일 포인터의 위치를 출력\n",
    "    \n",
    "    #파일의 시작위치로 포인터를 이동\n",
    "    f.seek(0) # seek(offset, from)\n",
    "    #offset : 상대적인 위치, 양수(현재포인터의 뒤쪽), 음수(현재포인터의 앞쪽)잘 안씀\n",
    "    #from : 기준위치, 0(시작위치), 1(현재), 2(끝)\n",
    "    line = f.readline() # 한 라인을 읽어오는 함수\n",
    "    print(line)"
   ]
  },
  {
   "cell_type": "code",
   "execution_count": null,
   "id": "9352e0cb",
   "metadata": {},
   "outputs": [],
   "source": []
  }
 ],
 "metadata": {
  "kernelspec": {
   "display_name": "Python 3 (ipykernel)",
   "language": "python",
   "name": "python3"
  },
  "language_info": {
   "codemirror_mode": {
    "name": "ipython",
    "version": 3
   },
   "file_extension": ".py",
   "mimetype": "text/x-python",
   "name": "python",
   "nbconvert_exporter": "python",
   "pygments_lexer": "ipython3",
   "version": "3.9.12"
  },
  "toc": {
   "base_numbering": 1,
   "nav_menu": {},
   "number_sections": true,
   "sideBar": true,
   "skip_h1_title": false,
   "title_cell": "Table of Contents",
   "title_sidebar": "Contents",
   "toc_cell": false,
   "toc_position": {},
   "toc_section_display": true,
   "toc_window_display": false
  }
 },
 "nbformat": 4,
 "nbformat_minor": 5
}
